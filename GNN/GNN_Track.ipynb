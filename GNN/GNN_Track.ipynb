{
 "cells": [
  {
   "cell_type": "code",
   "execution_count": 39,
   "metadata": {
    "id": "l7NZs4vrStih"
   },
   "outputs": [
    {
     "data": {
      "text/plain": [
       "\"def format_pytorch_version(version):\\n  return version.split('+')[0]\\n\\nTORCH_version = torch.__version__\\nTORCH = format_pytorch_version(TORCH_version)\\n\\ndef format_cuda_version(version):\\n  return 'cu' + version.replace('.', '')\\n\\nCUDA_version = torch.version.cuda\\nCUDA = format_cuda_version(CUDA_version)\\n\\n!pip install torch-scatter     -f https://pytorch-geometric.com/whl/torch-{TORCH}+{CUDA}.html\\n!pip install torch-sparse      -f https://pytorch-geometric.com/whl/torch-{TORCH}+{CUDA}.html\\n!pip install torch-cluster     -f https://pytorch-geometric.com/whl/torch-{TORCH}+{CUDA}.html\\n!pip install torch-spline-conv -f https://pytorch-geometric.com/whl/torch-{TORCH}+{CUDA}.html\\n!pip install torch-geometric \\n\""
      ]
     },
     "execution_count": 39,
     "metadata": {},
     "output_type": "execute_result"
    }
   ],
   "source": [
    "import torch\n",
    "\"\"\"def format_pytorch_version(version):\n",
    "  return version.split('+')[0]\n",
    "\n",
    "TORCH_version = torch.__version__\n",
    "TORCH = format_pytorch_version(TORCH_version)\n",
    "\n",
    "def format_cuda_version(version):\n",
    "  return 'cu' + version.replace('.', '')\n",
    "\n",
    "CUDA_version = torch.version.cuda\n",
    "CUDA = format_cuda_version(CUDA_version)\n",
    "\n",
    "!pip install torch-scatter     -f https://pytorch-geometric.com/whl/torch-{TORCH}+{CUDA}.html\n",
    "!pip install torch-sparse      -f https://pytorch-geometric.com/whl/torch-{TORCH}+{CUDA}.html\n",
    "!pip install torch-cluster     -f https://pytorch-geometric.com/whl/torch-{TORCH}+{CUDA}.html\n",
    "!pip install torch-spline-conv -f https://pytorch-geometric.com/whl/torch-{TORCH}+{CUDA}.html\n",
    "!pip install torch-geometric \n",
    "\"\"\""
   ]
  },
  {
   "cell_type": "code",
   "execution_count": 40,
   "metadata": {
    "id": "18XpsVFsTRv8"
   },
   "outputs": [],
   "source": [
    "import numpy as np \n",
    "import pandas as pd\n",
    "import time\n",
    "import os\n",
    "import itertools \n",
    "import matplotlib.pyplot as plt\n",
    "\n",
    "from torch_geometric.data import Data, Dataset#,DataLoader\n",
    "from torch_geometric.loader import DataLoader\n",
    "from torch import Tensor\n",
    "import torch.nn as nn\n",
    "import torch.optim as optim\n",
    "\n",
    "import torch.nn.functional as F\n",
    "import torch_geometric.transforms as Tr\n",
    "from torch_geometric.nn import MessagePassing\n",
    "from torch_geometric.utils import to_networkx\n",
    "from torch.nn import Sequential as Seq, Linear, ReLU, Sigmoid\n",
    "from torch.optim.lr_scheduler import StepLR\n",
    "\n",
    "from collections import namedtuple"
   ]
  },
  {
   "cell_type": "markdown",
   "metadata": {
    "id": "YeUMzEnJTtm-"
   },
   "source": [
    "Create Dataset and Dataloader"
   ]
  },
  {
   "cell_type": "code",
   "execution_count": 49,
   "metadata": {
    "id": "NDxzvCEdTVJj"
   },
   "outputs": [],
   "source": [
    "\n",
    "class GraphDataset(Dataset):\n",
    "    def __init__(self,graph_files,file_name,transform=None, pre_transform=None):\n",
    "        super(GraphDataset,self).__init__()\n",
    "\n",
    "        self.graph_files = graph_files\n",
    "        self.file_name = file_name\n",
    "    \n",
    "    @property                 \n",
    "    def raw_file_names(self):\n",
    "        return self.graph_files\n",
    "\n",
    "    @property\n",
    "    def processed_file_names(self):\n",
    "        return []\n",
    "\n",
    "   \n",
    "        \n",
    "    def get(self, idx):\n",
    "          \n",
    "        data = torch.load(f'../master/{self.file_name}' + f'mater_data_{idx}.pt')\n",
    "      \n",
    "          \n",
    "        return data    \n",
    "          \n",
    "    def len(self):\n",
    "          \n",
    "        return len(self.graph_files)"
   ]
  },
  {
   "cell_type": "code",
   "execution_count": 50,
   "metadata": {
    "id": "kYR5Sg59T6lc"
   },
   "outputs": [],
   "source": [
    "#READ FILES \n",
    "home_dir = \"../\"   \n",
    "test ='GRAPH_FINAL_Test_MASTER/'\n",
    "indir = '../master/'\n",
    "    \n",
    "graph_files_test = np.array(os.listdir(indir + test))\n",
    "graph_files_test = [os.path.join(indir+test,file)\n",
    "                           for file in graph_files_test]\n",
    "test_set = GraphDataset(graph_files_test, test)"
   ]
  },
  {
   "cell_type": "markdown",
   "metadata": {
    "id": "CJSCRoFxUBsf"
   },
   "source": [
    "## Arquitecture "
   ]
  },
  {
   "cell_type": "code",
   "execution_count": 51,
   "metadata": {
    "id": "4Tia_BEkUIea"
   },
   "outputs": [],
   "source": [
    "class RelationalModel(nn.Module):\n",
    "    def __init__(self, input_size, output_size, hidden_size):\n",
    "        super(RelationalModel, self).__init__()\n",
    "        \n",
    "        self.layers = nn.Sequential(\n",
    "            nn.Linear(input_size, hidden_size),\n",
    "            nn.ReLU(),\n",
    "            nn.Linear(hidden_size, hidden_size),\n",
    "            nn.ReLU(),\n",
    "            nn.Linear(hidden_size, output_size),\n",
    "        )\n",
    "\n",
    "    def forward(self, m):\n",
    "        return self.layers(m)\n",
    "\n",
    "class ObjectModel(nn.Module):\n",
    "    def __init__(self, input_size, output_size, hidden_size):\n",
    "        super(ObjectModel, self).__init__()\n",
    "        \n",
    "        self.layers = nn.Sequential(\n",
    "            nn.Linear(input_size, hidden_size),\n",
    "            nn.ReLU(),\n",
    "            nn.Linear(hidden_size, hidden_size),\n",
    "            nn.ReLU(),\n",
    "            nn.Linear(hidden_size, output_size),\n",
    "        )\n",
    "\n",
    "    def forward(self, C):\n",
    "        return self.layers(C)\n",
    "\n",
    "\n",
    "class InteractionNetwork(MessagePassing):\n",
    "    def __init__(self, node_f_size, edge_attr_size,message_out, update_out, hidden_size):\n",
    "        super(InteractionNetwork, self).__init__(aggr='add', \n",
    "                                                 flow='source_to_target')\n",
    "        self.R1 = RelationalModel(2*node_f_size + edge_attr_size, message_out, hidden_size)    # 19 is the node_features * 2 + edge atributes output 4 \n",
    "        self.O = ObjectModel(node_f_size + message_out, update_out, hidden_size)    # 10 is node features + output R1\n",
    "        self.R2 = RelationalModel(2*update_out + message_out , 1, hidden_size)  #10 is from 2* output O + output R1(from the concat) \n",
    "        self.E: Tensor = Tensor()\n",
    "\n",
    "    def forward(self, x: Tensor, edge_index: Tensor, edge_attr: Tensor) -> Tensor:\n",
    "        x_tilde = self.propagate(edge_index, x=x, edge_attr=edge_attr, size=None)\n",
    "        m2 = torch.cat([x_tilde[edge_index[1]],\n",
    "                        x_tilde[edge_index[0]],\n",
    "                        self.E], dim=1)\n",
    "        return torch.sigmoid(self.R2(m2))\n",
    "        \n",
    "    def message(self, x_i, x_j, edge_attr):\n",
    "        m1 = torch.cat([x_i, x_j, edge_attr], dim=1)\n",
    "        self.E = self.R1(m1)\n",
    "        return self.E\n",
    "\n",
    "    def update(self, aggr_out, x):\n",
    "        c = torch.cat([x, aggr_out], dim=1)\n",
    "        return self.O(c) "
   ]
  },
  {
   "cell_type": "code",
   "execution_count": 52,
   "metadata": {
    "id": "wVWyvZDtURV5"
   },
   "outputs": [],
   "source": [
    "#define the size of layers on the nn \n",
    "hidden_l_size = 16   #tunable parameter\n",
    "message_out = 4       #tunable parameter\n",
    "update_out = 3        #tunable parameter\n",
    "edge_attr_size = 7\n",
    "node_f_size = 6\n",
    "#initialize model \n",
    "model = InteractionNetwork(node_f_size = node_f_size, edge_attr_size = edge_attr_size,message_out = message_out, update_out= update_out,hidden_size = hidden_l_size)\n"
   ]
  },
  {
   "cell_type": "code",
   "execution_count": 53,
   "metadata": {
    "id": "V9sUEP3lUex8"
   },
   "outputs": [],
   "source": [
    "def binary_acc(y_pred, y_test,thld):\n",
    "    \"\"\"\n",
    "    returns accuracy based on a given treshold\n",
    "    \"\"\"\n",
    "    \n",
    "    # true positives edges with ouput prediction bigger than thld(1) and label = 1\n",
    "    TP = torch.sum((y_test==1.).squeeze() & \n",
    "                           (y_pred>thld).squeeze()).item()\n",
    "    #  true negatives edges with ouput prediction smaller than thld(0) and label = 0\n",
    "    TN = torch.sum((y_test==0.).squeeze() & \n",
    "                           (y_pred<thld).squeeze()).item()\n",
    "    # False positives edges with ouput prediction bigger than thld(1) and label = 0\n",
    "    FP = torch.sum((y_test==0.).squeeze() & \n",
    "                           (y_pred>thld).squeeze()).item()\n",
    "    # False negatives edges with ouput prediction smaller than thld(0) and label = 1                     \n",
    "    FN = torch.sum((y_test==1.).squeeze() & \n",
    "                           (y_pred<thld).squeeze()).item() \n",
    "    #how many correct predictions are made, if FP = 0 and FN = 0 acc = 1                       \n",
    "    acc = (TP+TN)/(TP+TN+FP+FN)\n",
    "    \n",
    "    return acc\n"
   ]
  },
  {
   "cell_type": "code",
   "execution_count": 54,
   "metadata": {
    "id": "8mk6dglsUUb0",
    "scrolled": true
   },
   "outputs": [
    {
     "data": {
      "text/plain": [
       "<All keys matched successfully>"
      ]
     },
     "execution_count": 54,
     "metadata": {},
     "output_type": "execute_result"
    }
   ],
   "source": [
    "#LOAD MODEL\n",
    "model.load_state_dict(torch.load( '../Models/model_master.pt',map_location=torch.device('cpu')))\n",
    "\n"
   ]
  },
  {
   "cell_type": "markdown",
   "metadata": {
    "id": "CzbMw3grU_vd"
   },
   "source": [
    "## Predict segment"
   ]
  },
  {
   "cell_type": "code",
   "execution_count": 55,
   "metadata": {
    "id": "R8Or0Vu7Up60"
   },
   "outputs": [],
   "source": [
    "#TEST SECTION\n",
    "def test_tracks(model, file_num, thld=0.5):\n",
    "    model.eval()\n",
    "    test_t0 = time.time()\n",
    "    losses, accs = [], []\n",
    "    outputs = []\n",
    "    indeces = []\n",
    "    y_list = []\n",
    "    \n",
    "    with torch.no_grad():\n",
    "        #for batch_idx, data in enumerate(test_loader):\n",
    "        data = test_set.get(file_num)\n",
    "        output = model(data.x, data.edge_index, data.edge_attr)\n",
    "        acc = binary_acc(y_pred = output, y_test = data.y, thld =  thld)\n",
    "        loss = F.binary_cross_entropy(output.squeeze(1), data.y, \n",
    "                                          reduction='mean').item()\n",
    "        # accs.append(acc)\n",
    "        losses.append(loss)\n",
    "        outputs.append(output)\n",
    "        indeces.append(data.edge_index)\n",
    "        y_list.append(data.y)\n",
    "            #print(f\"acc={TP+TN}/{TP+TN+FP+FN}={acc}\")\n",
    "    times = (time.time()-test_t0)\n",
    "    #when batching works change acc for mean accs\n",
    "    # print(f\"...testing time: {time.time()-test_t0}s\")\n",
    "    #print(f'.............mean test loss={np.mean(losses):.6f}.....test  loss={loss:.6f}......test acc ={acc:.6f}\\n')\n",
    "    # print(f'.............mean test loss={np.mean(losses):.6f}......test acc ={acc:.6f}\\n')\n",
    "    return outputs, indeces, y_list, acc,times"
   ]
  },
  {
   "cell_type": "code",
   "execution_count": 56,
   "metadata": {
    "id": "OlAUVV2dU5c5"
   },
   "outputs": [],
   "source": [
    "############################### Predict segment##########\n",
    "event = 10\n",
    "thld = .493\n",
    "pred, edge_list, y_list, accs, times = test_tracks(model, event, thld=thld)\n"
   ]
  },
  {
   "cell_type": "markdown",
   "metadata": {
    "id": "Wl5TCYY0VURW"
   },
   "source": [
    "## Build tracks"
   ]
  },
  {
   "cell_type": "code",
   "execution_count": 57,
   "metadata": {
    "id": "VhWBGbQHVXZg"
   },
   "outputs": [],
   "source": [
    "###################list of predicted segment and true segments##########\n",
    "pred_test = pred[0].cpu().numpy()\n",
    "#send edge list to cpu and transpose\n",
    "edge_list_test = edge_list[0].cpu().numpy().T\n",
    "#get the index of the prediction where pred is bigger than thld\n",
    "pred_test.flatten()\n",
    "pred_segments_idx = np.where(pred_test.flatten()>thld)[0]\n",
    "true_segments_idx = np.where(y_list[0].cpu().numpy()==1)\n",
    "#get the edge list pair where index = true_segments\n",
    "pred_segments = edge_list_test[pred_segments_idx]\n",
    "true_segments = edge_list_test[true_segments_idx]"
   ]
  },
  {
   "cell_type": "code",
   "execution_count": 58,
   "metadata": {
    "id": "Vrvv7Py7VrCK"
   },
   "outputs": [],
   "source": [
    "def construct_graph(ids_array): \n",
    "  \"\"\"Takes a list of edges and construct a track\"\"\"\n",
    "  \n",
    "  segment = ids_array.copy()\n",
    "  graphs = []\n",
    "  while len(segment) > 0:\n",
    "    segment_list =[]\n",
    "    no_more_conn = []\n",
    "    for elem in segment:\n",
    "      idx = np.where(ids_array[:,0] == elem[-1])\n",
    "      connections = ids_array[idx]\n",
    "      if len(connections) > 0:\n",
    "        for conenction in connections:\n",
    "          segment_list.append(np.unique(np.concatenate((elem,conenction))))\n",
    "      else:\n",
    "        no_more_conn.append(elem)\n",
    "      \n",
    "      segment = np.array(segment_list)\n",
    "    graphs.append(np.array(no_more_conn))\n",
    "  \n",
    "  return graphs"
   ]
  },
  {
   "cell_type": "code",
   "execution_count": 62,
   "metadata": {
    "id": "bj5gLC7tVzyp"
   },
   "outputs": [
    {
     "data": {
      "text/html": [
       "<div>\n",
       "<style scoped>\n",
       "    .dataframe tbody tr th:only-of-type {\n",
       "        vertical-align: middle;\n",
       "    }\n",
       "\n",
       "    .dataframe tbody tr th {\n",
       "        vertical-align: top;\n",
       "    }\n",
       "\n",
       "    .dataframe thead th {\n",
       "        text-align: right;\n",
       "    }\n",
       "</style>\n",
       "<table border=\"1\" class=\"dataframe\">\n",
       "  <thead>\n",
       "    <tr style=\"text-align: right;\">\n",
       "      <th></th>\n",
       "      <th>Ammount_hits</th>\n",
       "      <th>Ammount_edges</th>\n",
       "      <th>Amount_predicted</th>\n",
       "      <th>Correct_predicted</th>\n",
       "      <th>Ammout_truth</th>\n",
       "      <th>Accuracy</th>\n",
       "    </tr>\n",
       "  </thead>\n",
       "  <tbody>\n",
       "    <tr>\n",
       "      <th>0</th>\n",
       "      <td>4</td>\n",
       "      <td>3</td>\n",
       "      <td>2</td>\n",
       "      <td>2</td>\n",
       "      <td>2</td>\n",
       "      <td>1.0</td>\n",
       "    </tr>\n",
       "    <tr>\n",
       "      <th>1</th>\n",
       "      <td>5</td>\n",
       "      <td>4</td>\n",
       "      <td>2</td>\n",
       "      <td>2</td>\n",
       "      <td>2</td>\n",
       "      <td>1.0</td>\n",
       "    </tr>\n",
       "    <tr>\n",
       "      <th>2</th>\n",
       "      <td>6</td>\n",
       "      <td>5</td>\n",
       "      <td>2</td>\n",
       "      <td>0</td>\n",
       "      <td>2</td>\n",
       "      <td>0.0</td>\n",
       "    </tr>\n",
       "    <tr>\n",
       "      <th>3</th>\n",
       "      <td>7</td>\n",
       "      <td>6</td>\n",
       "      <td>2</td>\n",
       "      <td>2</td>\n",
       "      <td>2</td>\n",
       "      <td>1.0</td>\n",
       "    </tr>\n",
       "    <tr>\n",
       "      <th>4</th>\n",
       "      <td>8</td>\n",
       "      <td>7</td>\n",
       "      <td>2</td>\n",
       "      <td>2</td>\n",
       "      <td>2</td>\n",
       "      <td>1.0</td>\n",
       "    </tr>\n",
       "    <tr>\n",
       "      <th>...</th>\n",
       "      <td>...</td>\n",
       "      <td>...</td>\n",
       "      <td>...</td>\n",
       "      <td>...</td>\n",
       "      <td>...</td>\n",
       "      <td>...</td>\n",
       "    </tr>\n",
       "    <tr>\n",
       "      <th>592</th>\n",
       "      <td>596</td>\n",
       "      <td>595</td>\n",
       "      <td>2</td>\n",
       "      <td>0</td>\n",
       "      <td>2</td>\n",
       "      <td>0.0</td>\n",
       "    </tr>\n",
       "    <tr>\n",
       "      <th>593</th>\n",
       "      <td>597</td>\n",
       "      <td>596</td>\n",
       "      <td>2</td>\n",
       "      <td>0</td>\n",
       "      <td>2</td>\n",
       "      <td>0.0</td>\n",
       "    </tr>\n",
       "    <tr>\n",
       "      <th>594</th>\n",
       "      <td>598</td>\n",
       "      <td>597</td>\n",
       "      <td>2</td>\n",
       "      <td>0</td>\n",
       "      <td>2</td>\n",
       "      <td>0.0</td>\n",
       "    </tr>\n",
       "    <tr>\n",
       "      <th>595</th>\n",
       "      <td>599</td>\n",
       "      <td>598</td>\n",
       "      <td>2</td>\n",
       "      <td>0</td>\n",
       "      <td>2</td>\n",
       "      <td>0.0</td>\n",
       "    </tr>\n",
       "    <tr>\n",
       "      <th>596</th>\n",
       "      <td>600</td>\n",
       "      <td>599</td>\n",
       "      <td>2</td>\n",
       "      <td>0</td>\n",
       "      <td>2</td>\n",
       "      <td>0.0</td>\n",
       "    </tr>\n",
       "  </tbody>\n",
       "</table>\n",
       "<p>597 rows × 6 columns</p>\n",
       "</div>"
      ],
      "text/plain": [
       "     Ammount_hits  Ammount_edges  Amount_predicted  Correct_predicted  \\\n",
       "0               4              3                 2                  2   \n",
       "1               5              4                 2                  2   \n",
       "2               6              5                 2                  0   \n",
       "3               7              6                 2                  2   \n",
       "4               8              7                 2                  2   \n",
       "..            ...            ...               ...                ...   \n",
       "592           596            595                 2                  0   \n",
       "593           597            596                 2                  0   \n",
       "594           598            597                 2                  0   \n",
       "595           599            598                 2                  0   \n",
       "596           600            599                 2                  0   \n",
       "\n",
       "     Ammout_truth  Accuracy  \n",
       "0               2       1.0  \n",
       "1               2       1.0  \n",
       "2               2       0.0  \n",
       "3               2       1.0  \n",
       "4               2       1.0  \n",
       "..            ...       ...  \n",
       "592             2       0.0  \n",
       "593             2       0.0  \n",
       "594             2       0.0  \n",
       "595             2       0.0  \n",
       "596             2       0.0  \n",
       "\n",
       "[597 rows x 6 columns]"
      ]
     },
     "execution_count": 62,
     "metadata": {},
     "output_type": "execute_result"
    }
   ],
   "source": [
    "##############show track accuracy####################\n",
    "def track_accuracy(pred_track, truth_track):\n",
    "  truths = []\n",
    "  for i in range(len(pred_track)):\n",
    "    for j in range (len(truth_track)):\n",
    "      is_a_track = np.array_equal(pred_track[i] , truth_track[j], equal_nan=False)\n",
    "      if is_a_track:\n",
    "        truths.append(i)\n",
    "        \n",
    "  acc = len(truths)/ len(truth_track)\n",
    "  return acc, truths\n",
    "\n",
    "\n",
    "pred_tracks = pred_segments\n",
    "true_tracks = true_segments\n",
    "accuracies = np.zeros(len(pred_tracks))\n",
    "correct_idx  = []\n",
    "predicted = np.zeros(len(pred_tracks))\n",
    "truth = np.zeros(len(pred_tracks))\n",
    "edge = np.zeros(len(pred_tracks))\n",
    "correct = np.zeros(len(pred_tracks))\n",
    "for i in range(len(pred_tracks)):\n",
    "  predicted[i] = len(pred_tracks[i])\n",
    "  truth[i] = len(true_tracks[i])\n",
    "  edge[i] = i + 1\n",
    "  acc, truths = track_accuracy(pred_tracks[i], true_tracks[i])\n",
    "  \n",
    "  correct[i] = len(truths)\n",
    "  accuracies[i] = acc  \n",
    "  correct_idx.append(truths)\n",
    "# print(accuracies)\n",
    "\n",
    "acc_df = pd.DataFrame({'Amount_hits':(edge[2:]+1).astype(int),'Amount_edges': edge[2:].astype(int),\n",
    "                       'Amount_predicted':predicted[2:].astype(int),'Correct_predicted' : correct[2:].astype(int),'Amout_truth':truth[2:].astype(int),'Accuracy':accuracies[2:]})\n",
    "acc_df"
   ]
  },
  {
   "cell_type": "code",
   "execution_count": 73,
   "metadata": {},
   "outputs": [
    {
     "data": {
      "text/plain": [
       "588"
      ]
     },
     "execution_count": 73,
     "metadata": {},
     "output_type": "execute_result"
    }
   ],
   "source": [
    "len(acc_df[(acc_df['Accuracy']==0)])"
   ]
  },
  {
   "cell_type": "code",
   "execution_count": 74,
   "metadata": {},
   "outputs": [
    {
     "data": {
      "text/plain": [
       "5"
      ]
     },
     "execution_count": 74,
     "metadata": {},
     "output_type": "execute_result"
    }
   ],
   "source": [
    "len(acc_df[(acc_df['Accuracy']==1)])"
   ]
  },
  {
   "cell_type": "code",
   "execution_count": null,
   "metadata": {},
   "outputs": [],
   "source": []
  }
 ],
 "metadata": {
  "colab": {
   "name": "GNN_Track.ipynb",
   "provenance": [],
   "toc_visible": true
  },
  "kernelspec": {
   "display_name": "Python 3.8.12 ('exatrkx-gpu': conda)",
   "language": "python",
   "name": "python3"
  },
  "language_info": {
   "codemirror_mode": {
    "name": "ipython",
    "version": 3
   },
   "file_extension": ".py",
   "mimetype": "text/x-python",
   "name": "python",
   "nbconvert_exporter": "python",
   "pygments_lexer": "ipython3",
   "version": "3.8.12"
  },
  "vscode": {
   "interpreter": {
    "hash": "160bbf3460607ce6882228c7f3472b9123241d62d3bf3b05bb085d37e9832afe"
   }
  }
 },
 "nbformat": 4,
 "nbformat_minor": 1
}
