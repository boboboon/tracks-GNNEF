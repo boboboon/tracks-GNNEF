{
 "cells": [
  {
   "cell_type": "code",
   "execution_count": 4,
   "metadata": {
    "id": "u8YyZj9eKfrN"
   },
   "outputs": [],
   "source": [
    "#basic\n",
    "import numpy as np \n",
    "import pandas as pd\n",
    "import time\n",
    "import os\n",
    "\n",
    "from utils import *\n",
    "\n",
    "#NN\n",
    "import torch\n",
    "def format_pytorch_version(version):\n",
    "  return version.split('+')[0]\n",
    "\n",
    "from torch_geometric.data import Data, Dataset#,DataLoader\n",
    "from torch_geometric.loader import DataLoader\n",
    "from torch import Tensor\n",
    "import torch.nn as nn\n",
    "import torch.optim as optim\n",
    "import torch.nn.functional as F\n",
    "import torch_geometric.transforms as Tr\n",
    "from torch_geometric.nn import MessagePassing\n",
    "from torch_geometric.utils import to_networkx\n",
    "from torch.nn import Sequential as Seq, Linear, ReLU, Sigmoid\n",
    "from torch.optim.lr_scheduler import StepLR\n",
    "from collections import namedtuple\n",
    "from torch_scatter import scatter_add\n",
    "from tqdm import tqdm\n",
    "from sklearn.metrics import roc_auc_score\n",
    "\n",
    "import warnings\n",
    "warnings.filterwarnings(\"ignore\")\n",
    "from utils import GraphDataset, get_pt_files, make_mlp, binary_acc"
   ]
  },
  {
   "cell_type": "markdown",
   "metadata": {
    "id": "074mFESFK8tV"
   },
   "source": [
    "## Dataset and Dataloader"
   ]
  },
  {
   "cell_type": "code",
   "execution_count": 5,
   "metadata": {
    "id": "PbuDDHhfL6Zl"
   },
   "outputs": [],
   "source": [
    "######################READ FILES##############\n",
    "input_dir = \"/Users/lucascurtin/Desktop/QGNN Repos/tracks-GNNEF/Output_data\"\n",
    "\n",
    "#graph_files_train = get_pt_files(input_dir, subdir=\"Train\")\n",
    "#graph_files_val = get_pt_files(input_dir, subdir=\"Val\")\n",
    "graph_files_test = get_pt_files(input_dir, subdir=\"Test\")\n",
    "\n"
   ]
  },
  {
   "cell_type": "code",
   "execution_count": 8,
   "metadata": {
    "id": "vS5DxvLXNNMo"
   },
   "outputs": [],
   "source": [
    "#####################GET THE DATALOADER FOR EACH SET##############\n",
    "params = {'batch_size': 32, 'shuffle': True}\n",
    "#train_set = GraphDataset(graph_files_train)\n",
    "#train_loader = DataLoader(train_set, **params)\n",
    "\n",
    "#val_set = GraphDataset(graph_files_val)\n",
    "#val_loader = DataLoader(val_set, **params)\n",
    "\n",
    "test_set = GraphDataset(graph_files_test)\n",
    "test_loader = DataLoader(test_set, **params)\n"
   ]
  },
  {
   "cell_type": "markdown",
   "metadata": {
    "id": "_0CUIEYRNY24"
   },
   "source": [
    "## NN Architecture"
   ]
  },
  {
   "cell_type": "code",
   "execution_count": 4,
   "metadata": {
    "id": "-ZEDSObhNclL"
   },
   "outputs": [],
   "source": [
    "class RelationalModel(nn.Module):\n",
    "    def __init__(self, input_size, output_size, hidden_size):\n",
    "        super(RelationalModel, self).__init__()\n",
    "        \n",
    "        self.layers = nn.Sequential(\n",
    "            nn.Linear(input_size, hidden_size),\n",
    "            nn.ReLU(),\n",
    "            nn.Linear(hidden_size, hidden_size),\n",
    "            nn.ReLU(),\n",
    "            nn.Linear(hidden_size, output_size),\n",
    "        )\n",
    "\n",
    "    def forward(self, m):\n",
    "        return self.layers(m)\n",
    "\n",
    "class ObjectModel(nn.Module):\n",
    "    def __init__(self, input_size, output_size, hidden_size):\n",
    "        super(ObjectModel, self).__init__()\n",
    "        \n",
    "        self.layers = nn.Sequential(\n",
    "            nn.Linear(input_size, hidden_size),\n",
    "            nn.ReLU(),\n",
    "            nn.Linear(hidden_size, hidden_size),\n",
    "            nn.ReLU(),\n",
    "            nn.Linear(hidden_size, output_size),\n",
    "        )\n",
    "\n",
    "    def forward(self, C):\n",
    "        return self.layers(C)\n",
    "\n",
    "\n",
    "class InteractionNetwork(MessagePassing):\n",
    "    def __init__(self, node_f_size, edge_attr_size,message_out, update_out, hidden_size):\n",
    "        super(InteractionNetwork, self).__init__(aggr='add', \n",
    "                                                 flow='source_to_target')\n",
    "        self.R1 = RelationalModel(2*node_f_size + edge_attr_size, message_out, hidden_size)    # 19 is the node_features * 2 + edge atributes output 4 \n",
    "        self.O = ObjectModel(node_f_size + message_out, update_out, hidden_size)    # 10 is node features + output R1\n",
    "        self.R2 = RelationalModel(2*update_out + message_out , 1, hidden_size)  #10 is from 2* output O + output R1(from the concat) \n",
    "        self.E: Tensor = Tensor()\n",
    "\n",
    "    def forward(self, x: Tensor, edge_index: Tensor, edge_attr: Tensor) -> Tensor:\n",
    "        x_tilde = self.propagate(edge_index, x=x, edge_attr=edge_attr, size=None)\n",
    "        m2 = torch.cat([x_tilde[edge_index[1]],\n",
    "                        x_tilde[edge_index[0]],\n",
    "                        self.E], dim=1)\n",
    "        return torch.sigmoid(self.R2(m2))\n",
    "        \n",
    "    def message(self, x_i, x_j, edge_attr):\n",
    "        m1 = torch.cat([x_i, x_j, edge_attr], dim=1)\n",
    "        self.E = self.R1(m1)\n",
    "        return self.E\n",
    "\n",
    "    def update(self, aggr_out, x):\n",
    "        c = torch.cat([x, aggr_out], dim=1)\n",
    "        return self.O(c) "
   ]
  },
  {
   "cell_type": "code",
   "execution_count": 4,
   "metadata": {},
   "outputs": [],
   "source": [
    "class InteractionNetwork(nn.Module):\n",
    "\n",
    "    \"\"\"\n",
    "    An interaction network class\n",
    "    \"\"\"\n",
    "\n",
    "    def __init__(self, hparams):\n",
    "        super(InteractionNetwork, self).__init__()\n",
    "        \"\"\"\n",
    "        Initialise the Lightning Module that can scan over different GNN training regimes\n",
    "        \"\"\"\n",
    "        self.hparams = hparams\n",
    "\n",
    "        # Setup input network\n",
    "        self.node_encoder = make_mlp(\n",
    "            hparams[\"num_features\"],\n",
    "            [hparams[\"hidden\"]] * hparams[\"nb_node_layer\"],\n",
    "            output_activation=None,\n",
    "        )\n",
    "\n",
    "        # The edge network computes new edge features from connected nodes\n",
    "        self.edge_encoder = make_mlp(\n",
    "            2 * (hparams[\"hidden\"]),\n",
    "            [hparams[\"hidden\"]] * hparams[\"nb_edge_layer\"],\n",
    "            output_activation=None\n",
    "        )\n",
    "\n",
    "        # The edge network computes new edge features from connected nodes\n",
    "        self.edge_network = make_mlp(\n",
    "            3 * hparams[\"hidden\"],\n",
    "            [hparams[\"hidden\"]] * hparams[\"nb_edge_layer\"],\n",
    "            output_activation=None\n",
    "        )\n",
    "\n",
    "        # The node network computes new node features\n",
    "        self.node_network = make_mlp(\n",
    "            2 * hparams[\"hidden\"],\n",
    "            [hparams[\"hidden\"]] * hparams[\"nb_node_layer\"],\n",
    "            output_activation=None\n",
    "        )\n",
    "\n",
    "        # Final edge output classification network\n",
    "        self.output_edge_classifier = make_mlp(\n",
    "            3 * hparams[\"hidden\"],\n",
    "            [hparams[\"hidden\"]] * hparams[\"nb_edge_layer\"] + [1],\n",
    "            output_activation=None\n",
    "        )\n",
    "\n",
    "\n",
    "    def message_step(self, x, start, end, e):\n",
    "\n",
    "        aggr_nodes = scatter_add(e, end, dim=0, dim_size=x.shape[0])\n",
    "        node_inputs = torch.cat([x, aggr_nodes], dim=-1)\n",
    "\n",
    "        x_tilde = self.node_network(node_inputs)\n",
    "\n",
    "        x_tilde = x_tilde + x\n",
    "\n",
    "        # Compute new edge features\n",
    "        edge_inputs = torch.cat([x_tilde[start], x_tilde[end], e], dim=-1)\n",
    "        e_tilde = self.edge_network(edge_inputs)\n",
    "\n",
    "        e_tilde += e_tilde + e\n",
    "\n",
    "        return x_tilde, e_tilde\n",
    "\n",
    "    def output_step(self, x, start, end, e):\n",
    "\n",
    "        classifier_inputs = torch.cat([x[start], x[end], e], dim=1)\n",
    "\n",
    "        return self.output_edge_classifier(classifier_inputs)\n",
    "\n",
    "    def forward(self, x, edge_index):\n",
    "\n",
    "        start, end = edge_index\n",
    "\n",
    "        # Encode the graph features into the hidden space\n",
    "        x_enc = self.node_encoder(x)\n",
    "        e_enc = self.edge_encoder(torch.cat([x_enc[start], x_enc[end]], dim=1))\n",
    "\n",
    "        # Loop over iterations of edge and node networks\n",
    "        for _ in range(self.hparams[\"n_graph_iters\"]):\n",
    "\n",
    "            x_enc, e_enc = self.message_step(x_enc, start, end, e_enc)\n",
    "\n",
    "        return self.output_step(x_enc, start, end, e_enc)"
   ]
  },
  {
   "cell_type": "markdown",
   "metadata": {},
   "source": [
    "## Version 2"
   ]
  },
  {
   "cell_type": "code",
   "execution_count": 5,
   "metadata": {
    "id": "SuFQvXXQObYV"
   },
   "outputs": [],
   "source": [
    "preccision_acc = 0.5\n",
    "def train( model, device, train_loader, optimizer, epoch, hparams):\n",
    "    \"\"\"train model\"\"\"\n",
    "    model.train()\n",
    "    times_list = []\n",
    "    losses = []\n",
    "    accs = []\n",
    "    epoch_t0 = time()\n",
    "    for batch_idx, data in tqdm(enumerate(train_loader)):\n",
    "        batch = data.to(device)\n",
    "        optimizer.zero_grad()\n",
    "        output = model(batch.x, batch.edge_index).squeeze()\n",
    "        loss = F.binary_cross_entropy_with_logits(output, batch.y, pos_weight=torch.tensor(hparams[\"weight\"]))\n",
    "        loss.backward()\n",
    "        optimizer.step()\n",
    "        losses.append(loss.item())   \n",
    "        output = torch.sigmoid(output)\n",
    "        accs.append(binary_acc(y_pred = output, y_test = batch.y, thld = preccision_acc ))\n",
    "    times = time()-epoch_t0\n",
    "    times_list.append(times)\n",
    "    print(f\"...epoch time: {times}s\")\n",
    "    print(f\"...epoch {epoch}: mean train loss={np.mean(losses):.6f}\")\n",
    "    return losses, accs,times_list\n",
    "\n",
    "def validate(model, device, val_loader, hparams):\n",
    "    \"\"\"validates model, returns optimal treshold\"\"\"\n",
    "    model.eval()\n",
    "    eff_list, pur_list, auc_list = [], [], []\n",
    "    for data in val_loader:\n",
    "        batch = data.to(device)\n",
    "        output = model(batch.x, batch.edge_index).squeeze()\n",
    "        loss = F.binary_cross_entropy_with_logits(output, batch.y, pos_weight=torch.tensor(hparams[\"weight\"])).item()\n",
    "        output = torch.sigmoid(output)\n",
    "\n",
    "        # calculate accuracy\n",
    "        eff, pur, auc = calculate_metrics(y_pred = output, y_true = batch.y)\n",
    "\n",
    "    print(f\"val eff={eff:.6f}......val pur={pur:.6f}......val auc={auc:.6f}......val loss={loss:.6f}\")\n",
    "\n",
    "def calculate_metrics(y_pred, y_true):\n",
    "    \"\"\"calculate metrics\"\"\"\n",
    "    tp = ((y_pred > preccision_acc) & (y_true == 1)).sum().item()\n",
    "    t = (y_true == 1).sum().item()\n",
    "    p = (y_pred > preccision_acc).sum().item()\n",
    "\n",
    "    eff = tp/(t+1e-6)\n",
    "    pur = tp/(p+1e-6)\n",
    "    auc = roc_auc_score(y_true.cpu().detach().numpy(), y_pred.cpu().detach().numpy())\n",
    "    return eff, pur, auc"
   ]
  },
  {
   "cell_type": "code",
   "execution_count": 6,
   "metadata": {
    "id": "V72W26g0O7wt"
   },
   "outputs": [
    {
     "name": "stdout",
     "output_type": "stream",
     "text": [
      "cuda:0\n",
      "---- Epoch 1 ----\n"
     ]
    },
    {
     "name": "stderr",
     "output_type": "stream",
     "text": [
      "20it [00:05,  3.91it/s]\n"
     ]
    },
    {
     "name": "stdout",
     "output_type": "stream",
     "text": [
      "...epoch time: 5.112700939178467s\n",
      "...epoch 1: mean train loss=0.626861\n",
      "val eff=0.000000......val pur=0.000000......val auc=0.520219......val loss=0.595662\n",
      "---- Epoch 2 ----\n"
     ]
    },
    {
     "name": "stderr",
     "output_type": "stream",
     "text": [
      "20it [00:04,  4.94it/s]\n"
     ]
    },
    {
     "name": "stdout",
     "output_type": "stream",
     "text": [
      "...epoch time: 4.052841424942017s\n",
      "...epoch 2: mean train loss=0.609894\n",
      "val eff=0.000000......val pur=0.000000......val auc=0.506625......val loss=0.602673\n",
      "---- Epoch 3 ----\n"
     ]
    },
    {
     "name": "stderr",
     "output_type": "stream",
     "text": [
      "20it [00:04,  4.92it/s]\n"
     ]
    },
    {
     "name": "stdout",
     "output_type": "stream",
     "text": [
      "...epoch time: 4.065378904342651s\n",
      "...epoch 3: mean train loss=0.609831\n",
      "val eff=0.000000......val pur=0.000000......val auc=0.544420......val loss=0.590807\n",
      "---- Epoch 4 ----\n"
     ]
    },
    {
     "name": "stderr",
     "output_type": "stream",
     "text": [
      "20it [00:03,  5.04it/s]\n"
     ]
    },
    {
     "name": "stdout",
     "output_type": "stream",
     "text": [
      "...epoch time: 3.967679023742676s\n",
      "...epoch 4: mean train loss=0.609832\n",
      "val eff=0.000000......val pur=0.000000......val auc=0.564189......val loss=0.591899\n",
      "---- Epoch 5 ----\n"
     ]
    },
    {
     "name": "stderr",
     "output_type": "stream",
     "text": [
      "20it [00:03,  5.04it/s]\n"
     ]
    },
    {
     "name": "stdout",
     "output_type": "stream",
     "text": [
      "...epoch time: 3.971513032913208s\n",
      "...epoch 5: mean train loss=0.610182\n",
      "val eff=0.000000......val pur=0.000000......val auc=0.605073......val loss=0.592315\n",
      "---- Epoch 6 ----\n"
     ]
    },
    {
     "name": "stderr",
     "output_type": "stream",
     "text": [
      "20it [00:04,  4.91it/s]\n"
     ]
    },
    {
     "name": "stdout",
     "output_type": "stream",
     "text": [
      "...epoch time: 4.072575569152832s\n",
      "...epoch 6: mean train loss=0.609738\n",
      "val eff=0.000000......val pur=0.000000......val auc=0.634266......val loss=0.578703\n",
      "---- Epoch 7 ----\n"
     ]
    },
    {
     "name": "stderr",
     "output_type": "stream",
     "text": [
      "20it [00:03,  5.09it/s]\n"
     ]
    },
    {
     "name": "stdout",
     "output_type": "stream",
     "text": [
      "...epoch time: 3.9285738468170166s\n",
      "...epoch 7: mean train loss=0.608045\n",
      "val eff=0.000000......val pur=0.000000......val auc=0.648619......val loss=0.558775\n",
      "---- Epoch 8 ----\n"
     ]
    },
    {
     "name": "stderr",
     "output_type": "stream",
     "text": [
      "20it [00:03,  5.03it/s]\n"
     ]
    },
    {
     "name": "stdout",
     "output_type": "stream",
     "text": [
      "...epoch time: 3.975018262863159s\n",
      "...epoch 8: mean train loss=0.582625\n",
      "val eff=0.026171......val pur=0.478473......val auc=0.654196......val loss=0.567080\n",
      "---- Epoch 9 ----\n"
     ]
    },
    {
     "name": "stderr",
     "output_type": "stream",
     "text": [
      "20it [00:03,  5.02it/s]\n"
     ]
    },
    {
     "name": "stdout",
     "output_type": "stream",
     "text": [
      "...epoch time: 3.9847912788391113s\n",
      "...epoch 9: mean train loss=0.577375\n",
      "val eff=0.035677......val pur=0.444625......val auc=0.648199......val loss=0.564965\n",
      "---- Epoch 10 ----\n"
     ]
    },
    {
     "name": "stderr",
     "output_type": "stream",
     "text": [
      "20it [00:03,  5.03it/s]\n"
     ]
    },
    {
     "name": "stdout",
     "output_type": "stream",
     "text": [
      "...epoch time: 3.9795100688934326s\n",
      "...epoch 10: mean train loss=0.571303\n",
      "val eff=0.099216......val pur=0.342510......val auc=0.664806......val loss=0.547737\n",
      "---- Epoch 11 ----\n"
     ]
    },
    {
     "name": "stderr",
     "output_type": "stream",
     "text": [
      "20it [00:03,  5.09it/s]\n"
     ]
    },
    {
     "name": "stdout",
     "output_type": "stream",
     "text": [
      "...epoch time: 3.9274861812591553s\n",
      "...epoch 11: mean train loss=0.568430\n",
      "val eff=0.105201......val pur=0.329578......val auc=0.672386......val loss=0.533425\n",
      "---- Epoch 12 ----\n"
     ]
    },
    {
     "name": "stderr",
     "output_type": "stream",
     "text": [
      "20it [00:04,  4.93it/s]\n"
     ]
    },
    {
     "name": "stdout",
     "output_type": "stream",
     "text": [
      "...epoch time: 4.057228326797485s\n",
      "...epoch 12: mean train loss=0.569673\n",
      "val eff=0.058221......val pur=0.444301......val auc=0.655643......val loss=0.540779\n",
      "---- Epoch 13 ----\n"
     ]
    },
    {
     "name": "stderr",
     "output_type": "stream",
     "text": [
      "20it [00:03,  5.03it/s]\n"
     ]
    },
    {
     "name": "stdout",
     "output_type": "stream",
     "text": [
      "...epoch time: 3.979743480682373s\n",
      "...epoch 13: mean train loss=0.567279\n",
      "val eff=0.077263......val pur=0.390179......val auc=0.669866......val loss=0.552726\n",
      "---- Epoch 14 ----\n"
     ]
    },
    {
     "name": "stderr",
     "output_type": "stream",
     "text": [
      "20it [00:03,  5.02it/s]\n"
     ]
    },
    {
     "name": "stdout",
     "output_type": "stream",
     "text": [
      "...epoch time: 3.984581708908081s\n",
      "...epoch 14: mean train loss=0.565078\n",
      "val eff=0.083273......val pur=0.416404......val auc=0.682298......val loss=0.547267\n",
      "---- Epoch 15 ----\n"
     ]
    },
    {
     "name": "stderr",
     "output_type": "stream",
     "text": [
      "20it [00:03,  5.02it/s]\n"
     ]
    },
    {
     "name": "stdout",
     "output_type": "stream",
     "text": [
      "...epoch time: 3.989217519760132s\n",
      "...epoch 15: mean train loss=0.563875\n",
      "val eff=0.076753......val pur=0.427425......val auc=0.675183......val loss=0.549523\n",
      "---- Epoch 16 ----\n"
     ]
    },
    {
     "name": "stderr",
     "output_type": "stream",
     "text": [
      "20it [00:04,  4.92it/s]\n"
     ]
    },
    {
     "name": "stdout",
     "output_type": "stream",
     "text": [
      "...epoch time: 4.068728685379028s\n",
      "...epoch 16: mean train loss=0.563983\n",
      "val eff=0.070999......val pur=0.438168......val auc=0.680103......val loss=0.539532\n",
      "---- Epoch 17 ----\n"
     ]
    },
    {
     "name": "stderr",
     "output_type": "stream",
     "text": [
      "20it [00:03,  5.02it/s]\n"
     ]
    },
    {
     "name": "stdout",
     "output_type": "stream",
     "text": [
      "...epoch time: 3.9847664833068848s\n",
      "...epoch 17: mean train loss=0.562160\n",
      "val eff=0.093175......val pur=0.402112......val auc=0.681521......val loss=0.548135\n",
      "---- Epoch 18 ----\n"
     ]
    },
    {
     "name": "stderr",
     "output_type": "stream",
     "text": [
      "20it [00:03,  5.02it/s]\n"
     ]
    },
    {
     "name": "stdout",
     "output_type": "stream",
     "text": [
      "...epoch time: 3.9849166870117188s\n",
      "...epoch 18: mean train loss=0.561174\n",
      "val eff=0.084209......val pur=0.426300......val auc=0.691001......val loss=0.564164\n",
      "---- Epoch 19 ----\n"
     ]
    },
    {
     "name": "stderr",
     "output_type": "stream",
     "text": [
      "20it [00:03,  5.01it/s]\n"
     ]
    },
    {
     "name": "stdout",
     "output_type": "stream",
     "text": [
      "...epoch time: 3.9939305782318115s\n",
      "...epoch 19: mean train loss=0.558779\n",
      "val eff=0.028192......val pur=0.559491......val auc=0.689952......val loss=0.553992\n",
      "---- Epoch 20 ----\n"
     ]
    },
    {
     "name": "stderr",
     "output_type": "stream",
     "text": [
      "20it [00:03,  5.04it/s]\n"
     ]
    },
    {
     "name": "stdout",
     "output_type": "stream",
     "text": [
      "...epoch time: 3.973130941390991s\n",
      "...epoch 20: mean train loss=0.561619\n",
      "val eff=0.071257......val pur=0.427883......val auc=0.706462......val loss=0.544054\n",
      "---- Epoch 21 ----\n"
     ]
    },
    {
     "name": "stderr",
     "output_type": "stream",
     "text": [
      "20it [00:03,  5.02it/s]\n"
     ]
    },
    {
     "name": "stdout",
     "output_type": "stream",
     "text": [
      "...epoch time: 3.9825515747070312s\n",
      "...epoch 21: mean train loss=0.552482\n",
      "val eff=0.105520......val pur=0.376433......val auc=0.708041......val loss=0.538554\n",
      "---- Epoch 22 ----\n"
     ]
    },
    {
     "name": "stderr",
     "output_type": "stream",
     "text": [
      "20it [00:04,  5.00it/s]\n"
     ]
    },
    {
     "name": "stdout",
     "output_type": "stream",
     "text": [
      "...epoch time: 4.056583642959595s\n",
      "...epoch 22: mean train loss=0.544585\n",
      "val eff=0.069662......val pur=0.449521......val auc=0.719414......val loss=0.521865\n",
      "---- Epoch 23 ----\n"
     ]
    },
    {
     "name": "stderr",
     "output_type": "stream",
     "text": [
      "20it [00:04,  4.91it/s]\n"
     ]
    },
    {
     "name": "stdout",
     "output_type": "stream",
     "text": [
      "...epoch time: 4.0738325119018555s\n",
      "...epoch 23: mean train loss=0.539516\n",
      "val eff=0.074255......val pur=0.407539......val auc=0.730320......val loss=0.514937\n",
      "---- Epoch 24 ----\n"
     ]
    },
    {
     "name": "stderr",
     "output_type": "stream",
     "text": [
      "20it [00:03,  5.03it/s]\n"
     ]
    },
    {
     "name": "stdout",
     "output_type": "stream",
     "text": [
      "...epoch time: 3.9786176681518555s\n",
      "...epoch 24: mean train loss=0.539995\n",
      "val eff=0.135336......val pur=0.332101......val auc=0.732843......val loss=0.527264\n",
      "---- Epoch 25 ----\n"
     ]
    },
    {
     "name": "stderr",
     "output_type": "stream",
     "text": [
      "20it [00:03,  5.04it/s]\n"
     ]
    },
    {
     "name": "stdout",
     "output_type": "stream",
     "text": [
      "...epoch time: 3.9722471237182617s\n",
      "...epoch 25: mean train loss=0.537064\n",
      "val eff=0.098000......val pur=0.354907......val auc=0.726138......val loss=0.528249\n",
      "---- Epoch 26 ----\n"
     ]
    },
    {
     "name": "stderr",
     "output_type": "stream",
     "text": [
      "20it [00:03,  5.01it/s]\n"
     ]
    },
    {
     "name": "stdout",
     "output_type": "stream",
     "text": [
      "...epoch time: 3.992224931716919s\n",
      "...epoch 26: mean train loss=0.529133\n",
      "val eff=0.069009......val pur=0.433380......val auc=0.771162......val loss=0.499978\n",
      "---- Epoch 27 ----\n"
     ]
    },
    {
     "name": "stderr",
     "output_type": "stream",
     "text": [
      "20it [00:03,  5.02it/s]\n"
     ]
    },
    {
     "name": "stdout",
     "output_type": "stream",
     "text": [
      "...epoch time: 3.9840168952941895s\n",
      "...epoch 27: mean train loss=0.517072\n",
      "val eff=0.242435......val pur=0.279084......val auc=0.758495......val loss=0.519923\n",
      "---- Epoch 28 ----\n"
     ]
    },
    {
     "name": "stderr",
     "output_type": "stream",
     "text": [
      "20it [00:03,  5.02it/s]\n"
     ]
    },
    {
     "name": "stdout",
     "output_type": "stream",
     "text": [
      "...epoch time: 3.9822609424591064s\n",
      "...epoch 28: mean train loss=0.523431\n",
      "val eff=0.342649......val pur=0.289447......val auc=0.796983......val loss=0.446321\n",
      "---- Epoch 29 ----\n"
     ]
    },
    {
     "name": "stderr",
     "output_type": "stream",
     "text": [
      "20it [00:03,  5.05it/s]\n"
     ]
    },
    {
     "name": "stdout",
     "output_type": "stream",
     "text": [
      "...epoch time: 3.9613852500915527s\n",
      "...epoch 29: mean train loss=0.473668\n",
      "val eff=0.507314......val pur=0.311571......val auc=0.837509......val loss=0.442083\n",
      "---- Epoch 30 ----\n"
     ]
    },
    {
     "name": "stderr",
     "output_type": "stream",
     "text": [
      "20it [00:03,  5.03it/s]\n"
     ]
    },
    {
     "name": "stdout",
     "output_type": "stream",
     "text": [
      "...epoch time: 3.981318950653076s\n",
      "...epoch 30: mean train loss=0.438433\n",
      "val eff=0.536348......val pur=0.362653......val auc=0.854401......val loss=0.437051\n",
      "---- Epoch 31 ----\n"
     ]
    },
    {
     "name": "stderr",
     "output_type": "stream",
     "text": [
      "20it [00:03,  5.01it/s]\n"
     ]
    },
    {
     "name": "stdout",
     "output_type": "stream",
     "text": [
      "...epoch time: 3.990645170211792s\n",
      "...epoch 31: mean train loss=0.414975\n",
      "val eff=0.455597......val pur=0.455480......val auc=0.873098......val loss=0.387021\n",
      "---- Epoch 32 ----\n"
     ]
    },
    {
     "name": "stderr",
     "output_type": "stream",
     "text": [
      "20it [00:03,  5.03it/s]\n"
     ]
    },
    {
     "name": "stdout",
     "output_type": "stream",
     "text": [
      "...epoch time: 3.978102922439575s\n",
      "...epoch 32: mean train loss=0.407636\n",
      "val eff=0.503495......val pur=0.457247......val auc=0.885209......val loss=0.375322\n",
      "---- Epoch 33 ----\n"
     ]
    },
    {
     "name": "stderr",
     "output_type": "stream",
     "text": [
      "20it [00:03,  5.03it/s]\n"
     ]
    },
    {
     "name": "stdout",
     "output_type": "stream",
     "text": [
      "...epoch time: 3.978609800338745s\n",
      "...epoch 33: mean train loss=0.391278\n",
      "val eff=0.464886......val pur=0.503947......val auc=0.888506......val loss=0.370067\n",
      "---- Epoch 34 ----\n"
     ]
    },
    {
     "name": "stderr",
     "output_type": "stream",
     "text": [
      "20it [00:03,  5.01it/s]\n"
     ]
    },
    {
     "name": "stdout",
     "output_type": "stream",
     "text": [
      "...epoch time: 3.991863489151001s\n",
      "...epoch 34: mean train loss=0.380295\n",
      "val eff=0.564982......val pur=0.438001......val auc=0.896418......val loss=0.364303\n",
      "---- Epoch 35 ----\n"
     ]
    },
    {
     "name": "stderr",
     "output_type": "stream",
     "text": [
      "20it [00:03,  5.04it/s]\n"
     ]
    },
    {
     "name": "stdout",
     "output_type": "stream",
     "text": [
      "...epoch time: 3.9704487323760986s\n",
      "...epoch 35: mean train loss=0.370116\n",
      "val eff=0.488583......val pur=0.514817......val auc=0.903566......val loss=0.344814\n",
      "---- Epoch 36 ----\n"
     ]
    },
    {
     "name": "stderr",
     "output_type": "stream",
     "text": [
      "20it [00:03,  5.01it/s]\n"
     ]
    },
    {
     "name": "stdout",
     "output_type": "stream",
     "text": [
      "...epoch time: 3.994288921356201s\n",
      "...epoch 36: mean train loss=0.357476\n",
      "val eff=0.524566......val pur=0.498823......val auc=0.906045......val loss=0.348796\n",
      "---- Epoch 37 ----\n"
     ]
    },
    {
     "name": "stderr",
     "output_type": "stream",
     "text": [
      "20it [00:04,  4.95it/s]\n"
     ]
    },
    {
     "name": "stdout",
     "output_type": "stream",
     "text": [
      "...epoch time: 4.042046546936035s\n",
      "...epoch 37: mean train loss=0.349016\n",
      "val eff=0.514110......val pur=0.524716......val auc=0.914694......val loss=0.325986\n",
      "---- Epoch 38 ----\n"
     ]
    },
    {
     "name": "stderr",
     "output_type": "stream",
     "text": [
      "20it [00:04,  4.79it/s]\n"
     ]
    },
    {
     "name": "stdout",
     "output_type": "stream",
     "text": [
      "...epoch time: 4.1812145709991455s\n",
      "...epoch 38: mean train loss=0.349072\n",
      "val eff=0.570005......val pur=0.495516......val auc=0.917662......val loss=0.328350\n",
      "---- Epoch 39 ----\n"
     ]
    },
    {
     "name": "stderr",
     "output_type": "stream",
     "text": [
      "20it [00:04,  4.56it/s]\n"
     ]
    },
    {
     "name": "stdout",
     "output_type": "stream",
     "text": [
      "...epoch time: 4.384409427642822s\n",
      "...epoch 39: mean train loss=0.339758\n",
      "val eff=0.545236......val pur=0.519135......val auc=0.920338......val loss=0.315402\n",
      "---- Epoch 40 ----\n"
     ]
    },
    {
     "name": "stderr",
     "output_type": "stream",
     "text": [
      "20it [00:03,  5.03it/s]\n"
     ]
    },
    {
     "name": "stdout",
     "output_type": "stream",
     "text": [
      "...epoch time: 3.9807448387145996s\n",
      "...epoch 40: mean train loss=0.332685\n",
      "val eff=0.575880......val pur=0.488576......val auc=0.921429......val loss=0.314011\n",
      "---- Epoch 41 ----\n"
     ]
    },
    {
     "name": "stderr",
     "output_type": "stream",
     "text": [
      "20it [00:03,  5.02it/s]\n"
     ]
    },
    {
     "name": "stdout",
     "output_type": "stream",
     "text": [
      "...epoch time: 3.983283758163452s\n",
      "...epoch 41: mean train loss=0.327163\n",
      "val eff=0.592106......val pur=0.477222......val auc=0.917734......val loss=0.328242\n",
      "---- Epoch 42 ----\n"
     ]
    },
    {
     "name": "stderr",
     "output_type": "stream",
     "text": [
      "20it [00:03,  5.02it/s]\n"
     ]
    },
    {
     "name": "stdout",
     "output_type": "stream",
     "text": [
      "...epoch time: 3.9834988117218018s\n",
      "...epoch 42: mean train loss=0.323422\n",
      "val eff=0.562850......val pur=0.525778......val auc=0.925056......val loss=0.308630\n",
      "---- Epoch 43 ----\n"
     ]
    },
    {
     "name": "stderr",
     "output_type": "stream",
     "text": [
      "20it [00:03,  5.03it/s]\n"
     ]
    },
    {
     "name": "stdout",
     "output_type": "stream",
     "text": [
      "...epoch time: 3.9804434776306152s\n",
      "...epoch 43: mean train loss=0.319730\n",
      "val eff=0.574937......val pur=0.503869......val auc=0.925946......val loss=0.309144\n",
      "---- Epoch 44 ----\n"
     ]
    },
    {
     "name": "stderr",
     "output_type": "stream",
     "text": [
      "20it [00:04,  4.77it/s]\n"
     ]
    },
    {
     "name": "stdout",
     "output_type": "stream",
     "text": [
      "...epoch time: 4.194070816040039s\n",
      "...epoch 44: mean train loss=0.318453\n",
      "val eff=0.517900......val pur=0.534180......val auc=0.920447......val loss=0.320401\n",
      "---- Epoch 45 ----\n"
     ]
    },
    {
     "name": "stderr",
     "output_type": "stream",
     "text": [
      "20it [00:04,  4.92it/s]\n"
     ]
    },
    {
     "name": "stdout",
     "output_type": "stream",
     "text": [
      "...epoch time: 4.064777851104736s\n",
      "...epoch 45: mean train loss=0.326658\n",
      "val eff=0.622299......val pur=0.494562......val auc=0.928511......val loss=0.308231\n",
      "---- Epoch 46 ----\n"
     ]
    },
    {
     "name": "stderr",
     "output_type": "stream",
     "text": [
      "20it [00:03,  5.02it/s]\n"
     ]
    },
    {
     "name": "stdout",
     "output_type": "stream",
     "text": [
      "...epoch time: 3.9840657711029053s\n",
      "...epoch 46: mean train loss=0.310490\n",
      "val eff=0.600979......val pur=0.535083......val auc=0.935560......val loss=0.291946\n",
      "---- Epoch 47 ----\n"
     ]
    },
    {
     "name": "stderr",
     "output_type": "stream",
     "text": [
      "20it [00:03,  5.02it/s]\n"
     ]
    },
    {
     "name": "stdout",
     "output_type": "stream",
     "text": [
      "...epoch time: 3.9840714931488037s\n",
      "...epoch 47: mean train loss=0.309974\n",
      "val eff=0.614051......val pur=0.501587......val auc=0.933196......val loss=0.296557\n",
      "---- Epoch 48 ----\n"
     ]
    },
    {
     "name": "stderr",
     "output_type": "stream",
     "text": [
      "20it [00:03,  5.02it/s]\n"
     ]
    },
    {
     "name": "stdout",
     "output_type": "stream",
     "text": [
      "...epoch time: 3.9877665042877197s\n",
      "...epoch 48: mean train loss=0.307703\n",
      "val eff=0.607951......val pur=0.544311......val auc=0.934540......val loss=0.307060\n",
      "---- Epoch 49 ----\n"
     ]
    },
    {
     "name": "stderr",
     "output_type": "stream",
     "text": [
      "20it [00:03,  5.00it/s]\n"
     ]
    },
    {
     "name": "stdout",
     "output_type": "stream",
     "text": [
      "...epoch time: 3.998035430908203s\n",
      "...epoch 49: mean train loss=0.301412\n",
      "val eff=0.619965......val pur=0.505062......val auc=0.933383......val loss=0.290441\n",
      "---- Epoch 50 ----\n"
     ]
    },
    {
     "name": "stderr",
     "output_type": "stream",
     "text": [
      "20it [00:03,  5.02it/s]\n"
     ]
    },
    {
     "name": "stdout",
     "output_type": "stream",
     "text": [
      "...epoch time: 3.9833130836486816s\n",
      "...epoch 50: mean train loss=0.297642\n",
      "val eff=0.576838......val pur=0.535413......val auc=0.934171......val loss=0.288160\n",
      "---- Epoch 51 ----\n"
     ]
    },
    {
     "name": "stderr",
     "output_type": "stream",
     "text": [
      "20it [00:03,  5.03it/s]\n"
     ]
    },
    {
     "name": "stdout",
     "output_type": "stream",
     "text": [
      "...epoch time: 3.9798173904418945s\n",
      "...epoch 51: mean train loss=0.296779\n",
      "val eff=0.615708......val pur=0.506435......val auc=0.936621......val loss=0.280766\n",
      "---- Epoch 52 ----\n"
     ]
    },
    {
     "name": "stderr",
     "output_type": "stream",
     "text": [
      "20it [00:03,  5.06it/s]\n"
     ]
    },
    {
     "name": "stdout",
     "output_type": "stream",
     "text": [
      "...epoch time: 3.9583897590637207s\n",
      "...epoch 52: mean train loss=0.294947\n",
      "val eff=0.640719......val pur=0.458076......val auc=0.923945......val loss=0.322953\n",
      "---- Epoch 53 ----\n"
     ]
    },
    {
     "name": "stderr",
     "output_type": "stream",
     "text": [
      "20it [00:03,  5.01it/s]\n"
     ]
    },
    {
     "name": "stdout",
     "output_type": "stream",
     "text": [
      "...epoch time: 3.99174165725708s\n",
      "...epoch 53: mean train loss=0.293547\n",
      "val eff=0.659833......val pur=0.489084......val auc=0.936129......val loss=0.295202\n",
      "---- Epoch 54 ----\n"
     ]
    },
    {
     "name": "stderr",
     "output_type": "stream",
     "text": [
      "20it [00:03,  5.01it/s]\n"
     ]
    },
    {
     "name": "stdout",
     "output_type": "stream",
     "text": [
      "...epoch time: 3.9903182983398438s\n",
      "...epoch 54: mean train loss=0.289378\n",
      "val eff=0.580763......val pur=0.543265......val auc=0.938030......val loss=0.277131\n",
      "---- Epoch 55 ----\n"
     ]
    },
    {
     "name": "stderr",
     "output_type": "stream",
     "text": [
      "20it [00:03,  5.03it/s]\n"
     ]
    },
    {
     "name": "stdout",
     "output_type": "stream",
     "text": [
      "...epoch time: 3.974562406539917s\n",
      "...epoch 55: mean train loss=0.285374\n",
      "val eff=0.637903......val pur=0.530074......val auc=0.944164......val loss=0.272330\n",
      "---- Epoch 56 ----\n"
     ]
    },
    {
     "name": "stderr",
     "output_type": "stream",
     "text": [
      "20it [00:03,  5.02it/s]\n"
     ]
    },
    {
     "name": "stdout",
     "output_type": "stream",
     "text": [
      "...epoch time: 3.9851183891296387s\n",
      "...epoch 56: mean train loss=0.284112\n",
      "val eff=0.675753......val pur=0.521995......val auc=0.945539......val loss=0.272657\n",
      "---- Epoch 57 ----\n"
     ]
    },
    {
     "name": "stderr",
     "output_type": "stream",
     "text": [
      "20it [00:03,  5.03it/s]\n"
     ]
    },
    {
     "name": "stdout",
     "output_type": "stream",
     "text": [
      "...epoch time: 3.981663227081299s\n",
      "...epoch 57: mean train loss=0.284790\n",
      "val eff=0.647129......val pur=0.497145......val auc=0.941308......val loss=0.272998\n",
      "---- Epoch 58 ----\n"
     ]
    },
    {
     "name": "stderr",
     "output_type": "stream",
     "text": [
      "20it [00:03,  5.03it/s]\n"
     ]
    },
    {
     "name": "stdout",
     "output_type": "stream",
     "text": [
      "...epoch time: 3.9743149280548096s\n",
      "...epoch 58: mean train loss=0.282653\n",
      "val eff=0.654985......val pur=0.518862......val auc=0.941382......val loss=0.283521\n",
      "---- Epoch 59 ----\n"
     ]
    },
    {
     "name": "stderr",
     "output_type": "stream",
     "text": [
      "20it [00:03,  5.02it/s]\n"
     ]
    },
    {
     "name": "stdout",
     "output_type": "stream",
     "text": [
      "...epoch time: 3.9848320484161377s\n",
      "...epoch 59: mean train loss=0.280046\n",
      "val eff=0.668883......val pur=0.509668......val auc=0.944692......val loss=0.267265\n",
      "---- Epoch 60 ----\n"
     ]
    },
    {
     "name": "stderr",
     "output_type": "stream",
     "text": [
      "20it [00:03,  5.03it/s]\n"
     ]
    },
    {
     "name": "stdout",
     "output_type": "stream",
     "text": [
      "...epoch time: 3.9756226539611816s\n",
      "...epoch 60: mean train loss=0.282206\n",
      "val eff=0.652875......val pur=0.490608......val auc=0.941274......val loss=0.270535\n",
      "---- Epoch 61 ----\n"
     ]
    },
    {
     "name": "stderr",
     "output_type": "stream",
     "text": [
      "20it [00:03,  5.04it/s]\n"
     ]
    },
    {
     "name": "stdout",
     "output_type": "stream",
     "text": [
      "...epoch time: 3.967353582382202s\n",
      "...epoch 61: mean train loss=0.271055\n",
      "val eff=0.675696......val pur=0.543526......val auc=0.950991......val loss=0.259731\n",
      "---- Epoch 62 ----\n"
     ]
    },
    {
     "name": "stderr",
     "output_type": "stream",
     "text": [
      "20it [00:03,  5.02it/s]\n"
     ]
    },
    {
     "name": "stdout",
     "output_type": "stream",
     "text": [
      "...epoch time: 3.988138198852539s\n",
      "...epoch 62: mean train loss=0.268679\n",
      "val eff=0.712462......val pur=0.532291......val auc=0.954596......val loss=0.251039\n",
      "---- Epoch 63 ----\n"
     ]
    },
    {
     "name": "stderr",
     "output_type": "stream",
     "text": [
      "20it [00:03,  5.02it/s]\n"
     ]
    },
    {
     "name": "stdout",
     "output_type": "stream",
     "text": [
      "...epoch time: 3.985931873321533s\n",
      "...epoch 63: mean train loss=0.265523\n",
      "val eff=0.656754......val pur=0.547188......val auc=0.949574......val loss=0.261987\n",
      "---- Epoch 64 ----\n"
     ]
    },
    {
     "name": "stderr",
     "output_type": "stream",
     "text": [
      "20it [00:03,  5.02it/s]\n"
     ]
    },
    {
     "name": "stdout",
     "output_type": "stream",
     "text": [
      "...epoch time: 3.983586072921753s\n",
      "...epoch 64: mean train loss=0.269080\n",
      "val eff=0.696778......val pur=0.508753......val auc=0.945644......val loss=0.276824\n",
      "---- Epoch 65 ----\n"
     ]
    },
    {
     "name": "stderr",
     "output_type": "stream",
     "text": [
      "20it [00:03,  5.01it/s]\n"
     ]
    },
    {
     "name": "stdout",
     "output_type": "stream",
     "text": [
      "...epoch time: 3.994537353515625s\n",
      "...epoch 65: mean train loss=0.264552\n",
      "val eff=0.691503......val pur=0.525422......val auc=0.950879......val loss=0.255657\n",
      "---- Epoch 66 ----\n"
     ]
    },
    {
     "name": "stderr",
     "output_type": "stream",
     "text": [
      "20it [00:03,  5.03it/s]\n"
     ]
    },
    {
     "name": "stdout",
     "output_type": "stream",
     "text": [
      "...epoch time: 3.9775264263153076s\n",
      "...epoch 66: mean train loss=0.263174\n",
      "val eff=0.690643......val pur=0.510627......val auc=0.948220......val loss=0.264374\n",
      "---- Epoch 67 ----\n"
     ]
    },
    {
     "name": "stderr",
     "output_type": "stream",
     "text": [
      "20it [00:03,  5.02it/s]\n"
     ]
    },
    {
     "name": "stdout",
     "output_type": "stream",
     "text": [
      "...epoch time: 3.9863226413726807s\n",
      "...epoch 67: mean train loss=0.257331\n",
      "val eff=0.706219......val pur=0.540328......val auc=0.955953......val loss=0.244789\n",
      "---- Epoch 68 ----\n"
     ]
    },
    {
     "name": "stderr",
     "output_type": "stream",
     "text": [
      "20it [00:03,  5.02it/s]\n"
     ]
    },
    {
     "name": "stdout",
     "output_type": "stream",
     "text": [
      "...epoch time: 3.984459161758423s\n",
      "...epoch 68: mean train loss=0.260660\n",
      "val eff=0.687011......val pur=0.551794......val auc=0.954060......val loss=0.249073\n",
      "---- Epoch 69 ----\n"
     ]
    },
    {
     "name": "stderr",
     "output_type": "stream",
     "text": [
      "20it [00:03,  5.02it/s]\n"
     ]
    },
    {
     "name": "stdout",
     "output_type": "stream",
     "text": [
      "...epoch time: 3.9821574687957764s\n",
      "...epoch 69: mean train loss=0.258103\n",
      "val eff=0.687800......val pur=0.553261......val auc=0.952866......val loss=0.260961\n",
      "---- Epoch 70 ----\n"
     ]
    },
    {
     "name": "stderr",
     "output_type": "stream",
     "text": [
      "20it [00:03,  5.00it/s]\n"
     ]
    },
    {
     "name": "stdout",
     "output_type": "stream",
     "text": [
      "...epoch time: 3.99821138381958s\n",
      "...epoch 70: mean train loss=0.253604\n",
      "val eff=0.727987......val pur=0.519367......val auc=0.957232......val loss=0.236928\n",
      "---- Epoch 71 ----\n"
     ]
    },
    {
     "name": "stderr",
     "output_type": "stream",
     "text": [
      "20it [00:03,  5.04it/s]\n"
     ]
    },
    {
     "name": "stdout",
     "output_type": "stream",
     "text": [
      "...epoch time: 3.973238945007324s\n",
      "...epoch 71: mean train loss=0.252352\n",
      "val eff=0.702068......val pur=0.535102......val auc=0.954335......val loss=0.247672\n",
      "---- Epoch 72 ----\n"
     ]
    },
    {
     "name": "stderr",
     "output_type": "stream",
     "text": [
      "20it [00:03,  5.03it/s]\n"
     ]
    },
    {
     "name": "stdout",
     "output_type": "stream",
     "text": [
      "...epoch time: 3.9778969287872314s\n",
      "...epoch 72: mean train loss=0.252832\n",
      "val eff=0.725212......val pur=0.514251......val auc=0.952904......val loss=0.256449\n",
      "---- Epoch 73 ----\n"
     ]
    },
    {
     "name": "stderr",
     "output_type": "stream",
     "text": [
      "20it [00:03,  5.02it/s]\n"
     ]
    },
    {
     "name": "stdout",
     "output_type": "stream",
     "text": [
      "...epoch time: 3.988558769226074s\n",
      "...epoch 73: mean train loss=0.245921\n",
      "val eff=0.720445......val pur=0.535389......val auc=0.955709......val loss=0.249455\n",
      "---- Epoch 74 ----\n"
     ]
    },
    {
     "name": "stderr",
     "output_type": "stream",
     "text": [
      "20it [00:03,  5.02it/s]\n"
     ]
    },
    {
     "name": "stdout",
     "output_type": "stream",
     "text": [
      "...epoch time: 3.9825282096862793s\n",
      "...epoch 74: mean train loss=0.244104\n",
      "val eff=0.705679......val pur=0.553755......val auc=0.959211......val loss=0.232151\n",
      "---- Epoch 75 ----\n"
     ]
    },
    {
     "name": "stderr",
     "output_type": "stream",
     "text": [
      "20it [00:03,  5.03it/s]\n"
     ]
    },
    {
     "name": "stdout",
     "output_type": "stream",
     "text": [
      "...epoch time: 3.9757254123687744s\n",
      "...epoch 75: mean train loss=0.241649\n",
      "val eff=0.696652......val pur=0.547725......val auc=0.951628......val loss=0.266044\n",
      "---- Epoch 76 ----\n"
     ]
    },
    {
     "name": "stderr",
     "output_type": "stream",
     "text": [
      "20it [00:03,  5.04it/s]\n"
     ]
    },
    {
     "name": "stdout",
     "output_type": "stream",
     "text": [
      "...epoch time: 3.973473310470581s\n",
      "...epoch 76: mean train loss=0.238287\n",
      "val eff=0.750066......val pur=0.546138......val auc=0.960431......val loss=0.235987\n",
      "---- Epoch 77 ----\n"
     ]
    },
    {
     "name": "stderr",
     "output_type": "stream",
     "text": [
      "20it [00:03,  5.04it/s]\n"
     ]
    },
    {
     "name": "stdout",
     "output_type": "stream",
     "text": [
      "...epoch time: 3.9724619388580322s\n",
      "...epoch 77: mean train loss=0.244350\n",
      "val eff=0.767763......val pur=0.540746......val auc=0.961191......val loss=0.237029\n",
      "---- Epoch 78 ----\n"
     ]
    },
    {
     "name": "stderr",
     "output_type": "stream",
     "text": [
      "20it [00:03,  5.01it/s]\n"
     ]
    },
    {
     "name": "stdout",
     "output_type": "stream",
     "text": [
      "...epoch time: 3.990064859390259s\n",
      "...epoch 78: mean train loss=0.232441\n",
      "val eff=0.751466......val pur=0.549352......val auc=0.962672......val loss=0.223875\n",
      "---- Epoch 79 ----\n"
     ]
    },
    {
     "name": "stderr",
     "output_type": "stream",
     "text": [
      "20it [00:03,  5.03it/s]\n"
     ]
    },
    {
     "name": "stdout",
     "output_type": "stream",
     "text": [
      "...epoch time: 3.981318235397339s\n",
      "...epoch 79: mean train loss=0.233925\n",
      "val eff=0.774274......val pur=0.540352......val auc=0.964161......val loss=0.223295\n",
      "---- Epoch 80 ----\n"
     ]
    },
    {
     "name": "stderr",
     "output_type": "stream",
     "text": [
      "20it [00:03,  5.02it/s]\n"
     ]
    },
    {
     "name": "stdout",
     "output_type": "stream",
     "text": [
      "...epoch time: 3.984055995941162s\n",
      "...epoch 80: mean train loss=0.233920\n",
      "val eff=0.750706......val pur=0.557530......val auc=0.962080......val loss=0.233088\n",
      "---- Epoch 81 ----\n"
     ]
    },
    {
     "name": "stderr",
     "output_type": "stream",
     "text": [
      "20it [00:03,  5.01it/s]\n"
     ]
    },
    {
     "name": "stdout",
     "output_type": "stream",
     "text": [
      "...epoch time: 3.9937732219696045s\n",
      "...epoch 81: mean train loss=0.224917\n",
      "val eff=0.763561......val pur=0.556834......val auc=0.963801......val loss=0.225612\n",
      "---- Epoch 82 ----\n"
     ]
    },
    {
     "name": "stderr",
     "output_type": "stream",
     "text": [
      "20it [00:03,  5.02it/s]\n"
     ]
    },
    {
     "name": "stdout",
     "output_type": "stream",
     "text": [
      "...epoch time: 3.987616539001465s\n",
      "...epoch 82: mean train loss=0.221784\n",
      "val eff=0.761336......val pur=0.579621......val auc=0.966705......val loss=0.215619\n",
      "---- Epoch 83 ----\n"
     ]
    },
    {
     "name": "stderr",
     "output_type": "stream",
     "text": [
      "20it [00:03,  5.03it/s]\n"
     ]
    },
    {
     "name": "stdout",
     "output_type": "stream",
     "text": [
      "...epoch time: 3.979400396347046s\n",
      "...epoch 83: mean train loss=0.222509\n",
      "val eff=0.741125......val pur=0.570022......val auc=0.966126......val loss=0.211223\n",
      "---- Epoch 84 ----\n"
     ]
    },
    {
     "name": "stderr",
     "output_type": "stream",
     "text": [
      "20it [00:03,  5.04it/s]\n"
     ]
    },
    {
     "name": "stdout",
     "output_type": "stream",
     "text": [
      "...epoch time: 3.972341537475586s\n",
      "...epoch 84: mean train loss=0.219215\n",
      "val eff=0.750511......val pur=0.570288......val auc=0.962739......val loss=0.232571\n",
      "---- Epoch 85 ----\n"
     ]
    },
    {
     "name": "stderr",
     "output_type": "stream",
     "text": [
      "20it [00:03,  5.01it/s]\n"
     ]
    },
    {
     "name": "stdout",
     "output_type": "stream",
     "text": [
      "...epoch time: 3.9945080280303955s\n",
      "...epoch 85: mean train loss=0.224747\n",
      "val eff=0.792114......val pur=0.577895......val auc=0.967874......val loss=0.219121\n",
      "---- Epoch 86 ----\n"
     ]
    },
    {
     "name": "stderr",
     "output_type": "stream",
     "text": [
      "20it [00:03,  5.09it/s]\n"
     ]
    },
    {
     "name": "stdout",
     "output_type": "stream",
     "text": [
      "...epoch time: 3.9315221309661865s\n",
      "...epoch 86: mean train loss=0.216718\n",
      "val eff=0.779926......val pur=0.531908......val auc=0.961022......val loss=0.238738\n",
      "---- Epoch 87 ----\n"
     ]
    },
    {
     "name": "stderr",
     "output_type": "stream",
     "text": [
      "20it [00:03,  5.04it/s]\n"
     ]
    },
    {
     "name": "stdout",
     "output_type": "stream",
     "text": [
      "...epoch time: 3.9738123416900635s\n",
      "...epoch 87: mean train loss=0.218818\n",
      "val eff=0.771315......val pur=0.593797......val auc=0.969166......val loss=0.209656\n",
      "---- Epoch 88 ----\n"
     ]
    },
    {
     "name": "stderr",
     "output_type": "stream",
     "text": [
      "20it [00:03,  5.01it/s]\n"
     ]
    },
    {
     "name": "stdout",
     "output_type": "stream",
     "text": [
      "...epoch time: 3.9907565116882324s\n",
      "...epoch 88: mean train loss=0.213846\n",
      "val eff=0.807981......val pur=0.568425......val auc=0.970632......val loss=0.204973\n",
      "---- Epoch 89 ----\n"
     ]
    },
    {
     "name": "stderr",
     "output_type": "stream",
     "text": [
      "20it [00:04,  5.00it/s]\n"
     ]
    },
    {
     "name": "stdout",
     "output_type": "stream",
     "text": [
      "...epoch time: 4.052529573440552s\n",
      "...epoch 89: mean train loss=0.204981\n",
      "val eff=0.799719......val pur=0.577171......val auc=0.971415......val loss=0.199665\n",
      "---- Epoch 90 ----\n"
     ]
    },
    {
     "name": "stderr",
     "output_type": "stream",
     "text": [
      "20it [00:03,  5.02it/s]\n"
     ]
    },
    {
     "name": "stdout",
     "output_type": "stream",
     "text": [
      "...epoch time: 3.9871790409088135s\n",
      "...epoch 90: mean train loss=0.206242\n",
      "val eff=0.753911......val pur=0.611339......val auc=0.970696......val loss=0.200539\n",
      "---- Epoch 91 ----\n"
     ]
    },
    {
     "name": "stderr",
     "output_type": "stream",
     "text": [
      "20it [00:03,  5.02it/s]\n"
     ]
    },
    {
     "name": "stdout",
     "output_type": "stream",
     "text": [
      "...epoch time: 3.9819626808166504s\n",
      "...epoch 91: mean train loss=0.200055\n",
      "val eff=0.781649......val pur=0.600683......val auc=0.971903......val loss=0.200665\n",
      "---- Epoch 92 ----\n"
     ]
    },
    {
     "name": "stderr",
     "output_type": "stream",
     "text": [
      "20it [00:03,  5.02it/s]\n"
     ]
    },
    {
     "name": "stdout",
     "output_type": "stream",
     "text": [
      "...epoch time: 3.9879233837127686s\n",
      "...epoch 92: mean train loss=0.194862\n",
      "val eff=0.807270......val pur=0.587380......val auc=0.974631......val loss=0.185058\n",
      "---- Epoch 93 ----\n"
     ]
    },
    {
     "name": "stderr",
     "output_type": "stream",
     "text": [
      "20it [00:04,  4.91it/s]\n"
     ]
    },
    {
     "name": "stdout",
     "output_type": "stream",
     "text": [
      "...epoch time: 4.077296257019043s\n",
      "...epoch 93: mean train loss=0.194190\n",
      "val eff=0.802399......val pur=0.583417......val auc=0.971853......val loss=0.199029\n",
      "---- Epoch 94 ----\n"
     ]
    },
    {
     "name": "stderr",
     "output_type": "stream",
     "text": [
      "20it [00:03,  5.02it/s]\n"
     ]
    },
    {
     "name": "stdout",
     "output_type": "stream",
     "text": [
      "...epoch time: 3.982835531234741s\n",
      "...epoch 94: mean train loss=0.191631\n",
      "val eff=0.805356......val pur=0.582076......val auc=0.974190......val loss=0.185431\n",
      "---- Epoch 95 ----\n"
     ]
    },
    {
     "name": "stderr",
     "output_type": "stream",
     "text": [
      "20it [00:03,  5.04it/s]\n"
     ]
    },
    {
     "name": "stdout",
     "output_type": "stream",
     "text": [
      "...epoch time: 3.9676997661590576s\n",
      "...epoch 95: mean train loss=0.192327\n",
      "val eff=0.780936......val pur=0.591614......val auc=0.971209......val loss=0.197228\n",
      "---- Epoch 96 ----\n"
     ]
    },
    {
     "name": "stderr",
     "output_type": "stream",
     "text": [
      "20it [00:04,  4.91it/s]\n"
     ]
    },
    {
     "name": "stdout",
     "output_type": "stream",
     "text": [
      "...epoch time: 4.077310562133789s\n",
      "...epoch 96: mean train loss=0.206471\n",
      "val eff=0.783911......val pur=0.565471......val auc=0.968576......val loss=0.208058\n",
      "---- Epoch 97 ----\n"
     ]
    },
    {
     "name": "stderr",
     "output_type": "stream",
     "text": [
      "20it [00:04,  4.93it/s]\n"
     ]
    },
    {
     "name": "stdout",
     "output_type": "stream",
     "text": [
      "...epoch time: 4.056479454040527s\n",
      "...epoch 97: mean train loss=0.202961\n",
      "val eff=0.828189......val pur=0.584318......val auc=0.975011......val loss=0.187501\n",
      "---- Epoch 98 ----\n"
     ]
    },
    {
     "name": "stderr",
     "output_type": "stream",
     "text": [
      "20it [00:03,  5.05it/s]\n"
     ]
    },
    {
     "name": "stdout",
     "output_type": "stream",
     "text": [
      "...epoch time: 3.965493679046631s\n",
      "...epoch 98: mean train loss=0.188447\n",
      "val eff=0.839256......val pur=0.600412......val auc=0.976238......val loss=0.187544\n",
      "---- Epoch 99 ----\n"
     ]
    },
    {
     "name": "stderr",
     "output_type": "stream",
     "text": [
      "20it [00:03,  5.04it/s]\n"
     ]
    },
    {
     "name": "stdout",
     "output_type": "stream",
     "text": [
      "...epoch time: 3.972628116607666s\n",
      "...epoch 99: mean train loss=0.187431\n",
      "val eff=0.788995......val pur=0.590765......val auc=0.970903......val loss=0.204861\n",
      "---- Epoch 100 ----\n"
     ]
    },
    {
     "name": "stderr",
     "output_type": "stream",
     "text": [
      "20it [00:03,  5.01it/s]\n"
     ]
    },
    {
     "name": "stdout",
     "output_type": "stream",
     "text": [
      "...epoch time: 3.997201919555664s\n",
      "...epoch 100: mean train loss=0.189364\n",
      "val eff=0.802623......val pur=0.617297......val auc=0.976093......val loss=0.180303\n",
      "---- Epoch 101 ----\n"
     ]
    },
    {
     "name": "stderr",
     "output_type": "stream",
     "text": [
      "20it [00:03,  5.05it/s]\n"
     ]
    },
    {
     "name": "stdout",
     "output_type": "stream",
     "text": [
      "...epoch time: 3.9640002250671387s\n",
      "...epoch 101: mean train loss=0.187551\n",
      "val eff=0.819071......val pur=0.596714......val auc=0.974435......val loss=0.193019\n",
      "---- Epoch 102 ----\n"
     ]
    },
    {
     "name": "stderr",
     "output_type": "stream",
     "text": [
      "20it [00:03,  5.02it/s]\n"
     ]
    },
    {
     "name": "stdout",
     "output_type": "stream",
     "text": [
      "...epoch time: 3.9880452156066895s\n",
      "...epoch 102: mean train loss=0.182687\n",
      "val eff=0.815647......val pur=0.619429......val auc=0.977911......val loss=0.173880\n",
      "---- Epoch 103 ----\n"
     ]
    },
    {
     "name": "stderr",
     "output_type": "stream",
     "text": [
      "20it [00:03,  5.03it/s]\n"
     ]
    },
    {
     "name": "stdout",
     "output_type": "stream",
     "text": [
      "...epoch time: 3.9803762435913086s\n",
      "...epoch 103: mean train loss=0.183336\n",
      "val eff=0.791355......val pur=0.611185......val auc=0.974665......val loss=0.186502\n",
      "---- Epoch 104 ----\n"
     ]
    },
    {
     "name": "stderr",
     "output_type": "stream",
     "text": [
      "20it [00:03,  5.03it/s]\n"
     ]
    },
    {
     "name": "stdout",
     "output_type": "stream",
     "text": [
      "...epoch time: 3.978259563446045s\n",
      "...epoch 104: mean train loss=0.180391\n",
      "val eff=0.820273......val pur=0.636341......val auc=0.979101......val loss=0.172855\n",
      "---- Epoch 105 ----\n"
     ]
    },
    {
     "name": "stderr",
     "output_type": "stream",
     "text": [
      "20it [00:03,  5.03it/s]\n"
     ]
    },
    {
     "name": "stdout",
     "output_type": "stream",
     "text": [
      "...epoch time: 3.979968309402466s\n",
      "...epoch 105: mean train loss=0.179551\n",
      "val eff=0.819870......val pur=0.598504......val auc=0.975782......val loss=0.184746\n",
      "---- Epoch 106 ----\n"
     ]
    },
    {
     "name": "stderr",
     "output_type": "stream",
     "text": [
      "20it [00:03,  5.04it/s]\n"
     ]
    },
    {
     "name": "stdout",
     "output_type": "stream",
     "text": [
      "...epoch time: 3.969326972961426s\n",
      "...epoch 106: mean train loss=0.175985\n",
      "val eff=0.851983......val pur=0.605483......val auc=0.978769......val loss=0.176478\n",
      "---- Epoch 107 ----\n"
     ]
    },
    {
     "name": "stderr",
     "output_type": "stream",
     "text": [
      "20it [00:03,  5.02it/s]\n"
     ]
    },
    {
     "name": "stdout",
     "output_type": "stream",
     "text": [
      "...epoch time: 3.987443208694458s\n",
      "...epoch 107: mean train loss=0.176288\n",
      "val eff=0.809988......val pur=0.610188......val auc=0.975527......val loss=0.185114\n",
      "---- Epoch 108 ----\n"
     ]
    },
    {
     "name": "stderr",
     "output_type": "stream",
     "text": [
      "20it [00:03,  5.02it/s]\n"
     ]
    },
    {
     "name": "stdout",
     "output_type": "stream",
     "text": [
      "...epoch time: 3.981832265853882s\n",
      "...epoch 108: mean train loss=0.182207\n",
      "val eff=0.830959......val pur=0.622785......val auc=0.979370......val loss=0.168498\n",
      "---- Epoch 109 ----\n"
     ]
    },
    {
     "name": "stderr",
     "output_type": "stream",
     "text": [
      "20it [00:03,  5.03it/s]\n"
     ]
    },
    {
     "name": "stdout",
     "output_type": "stream",
     "text": [
      "...epoch time: 3.9801101684570312s\n",
      "...epoch 109: mean train loss=0.175369\n",
      "val eff=0.862939......val pur=0.593433......val auc=0.980520......val loss=0.163333\n",
      "---- Epoch 110 ----\n"
     ]
    },
    {
     "name": "stderr",
     "output_type": "stream",
     "text": [
      "20it [00:03,  5.03it/s]\n"
     ]
    },
    {
     "name": "stdout",
     "output_type": "stream",
     "text": [
      "...epoch time: 3.9805550575256348s\n",
      "...epoch 110: mean train loss=0.174022\n",
      "val eff=0.853950......val pur=0.602330......val auc=0.979440......val loss=0.169839\n",
      "---- Epoch 111 ----\n"
     ]
    },
    {
     "name": "stderr",
     "output_type": "stream",
     "text": [
      "20it [00:03,  5.01it/s]\n"
     ]
    },
    {
     "name": "stdout",
     "output_type": "stream",
     "text": [
      "...epoch time: 3.9959957599639893s\n",
      "...epoch 111: mean train loss=0.174748\n",
      "val eff=0.820426......val pur=0.612398......val auc=0.976070......val loss=0.187354\n",
      "---- Epoch 112 ----\n"
     ]
    },
    {
     "name": "stderr",
     "output_type": "stream",
     "text": [
      "20it [00:03,  5.01it/s]\n"
     ]
    },
    {
     "name": "stdout",
     "output_type": "stream",
     "text": [
      "...epoch time: 3.9913697242736816s\n",
      "...epoch 112: mean train loss=0.173570\n",
      "val eff=0.866483......val pur=0.539429......val auc=0.974665......val loss=0.190125\n",
      "---- Epoch 113 ----\n"
     ]
    },
    {
     "name": "stderr",
     "output_type": "stream",
     "text": [
      "20it [00:03,  5.03it/s]\n"
     ]
    },
    {
     "name": "stdout",
     "output_type": "stream",
     "text": [
      "...epoch time: 3.9747314453125s\n",
      "...epoch 113: mean train loss=0.180619\n",
      "val eff=0.837840......val pur=0.614717......val auc=0.978738......val loss=0.173629\n",
      "---- Epoch 114 ----\n"
     ]
    },
    {
     "name": "stderr",
     "output_type": "stream",
     "text": [
      "20it [00:03,  5.02it/s]\n"
     ]
    },
    {
     "name": "stdout",
     "output_type": "stream",
     "text": [
      "...epoch time: 3.9831292629241943s\n",
      "...epoch 114: mean train loss=0.170623\n",
      "val eff=0.814508......val pur=0.629082......val auc=0.976850......val loss=0.184169\n",
      "---- Epoch 115 ----\n"
     ]
    },
    {
     "name": "stderr",
     "output_type": "stream",
     "text": [
      "20it [00:03,  5.01it/s]\n"
     ]
    },
    {
     "name": "stdout",
     "output_type": "stream",
     "text": [
      "...epoch time: 3.9971959590911865s\n",
      "...epoch 115: mean train loss=0.170877\n",
      "val eff=0.863829......val pur=0.590918......val auc=0.979097......val loss=0.174110\n",
      "---- Epoch 116 ----\n"
     ]
    },
    {
     "name": "stderr",
     "output_type": "stream",
     "text": [
      "20it [00:03,  5.02it/s]\n"
     ]
    },
    {
     "name": "stdout",
     "output_type": "stream",
     "text": [
      "...epoch time: 3.986773729324341s\n",
      "...epoch 116: mean train loss=0.169725\n",
      "val eff=0.837923......val pur=0.610733......val auc=0.979132......val loss=0.168801\n",
      "---- Epoch 117 ----\n"
     ]
    },
    {
     "name": "stderr",
     "output_type": "stream",
     "text": [
      "20it [00:03,  5.03it/s]\n"
     ]
    },
    {
     "name": "stdout",
     "output_type": "stream",
     "text": [
      "...epoch time: 3.977306365966797s\n",
      "...epoch 117: mean train loss=0.169613\n",
      "val eff=0.860941......val pur=0.638626......val auc=0.983504......val loss=0.150924\n",
      "---- Epoch 118 ----\n"
     ]
    },
    {
     "name": "stderr",
     "output_type": "stream",
     "text": [
      "20it [00:03,  5.05it/s]\n"
     ]
    },
    {
     "name": "stdout",
     "output_type": "stream",
     "text": [
      "...epoch time: 3.959672212600708s\n",
      "...epoch 118: mean train loss=0.169582\n",
      "val eff=0.844831......val pur=0.618063......val auc=0.979757......val loss=0.169359\n",
      "---- Epoch 119 ----\n"
     ]
    },
    {
     "name": "stderr",
     "output_type": "stream",
     "text": [
      "20it [00:03,  5.02it/s]\n"
     ]
    },
    {
     "name": "stdout",
     "output_type": "stream",
     "text": [
      "...epoch time: 3.984600782394409s\n",
      "...epoch 119: mean train loss=0.168040\n",
      "val eff=0.853208......val pur=0.648766......val auc=0.982322......val loss=0.161722\n",
      "---- Epoch 120 ----\n"
     ]
    },
    {
     "name": "stderr",
     "output_type": "stream",
     "text": [
      "20it [00:03,  5.01it/s]\n"
     ]
    },
    {
     "name": "stdout",
     "output_type": "stream",
     "text": [
      "...epoch time: 3.997340440750122s\n",
      "...epoch 120: mean train loss=0.167271\n",
      "val eff=0.856859......val pur=0.630476......val auc=0.982658......val loss=0.154392\n",
      "---- Epoch 121 ----\n"
     ]
    },
    {
     "name": "stderr",
     "output_type": "stream",
     "text": [
      "20it [00:04,  4.91it/s]\n"
     ]
    },
    {
     "name": "stdout",
     "output_type": "stream",
     "text": [
      "...epoch time: 4.077521324157715s\n",
      "...epoch 121: mean train loss=0.163199\n",
      "val eff=0.853163......val pur=0.617869......val auc=0.981457......val loss=0.158365\n",
      "---- Epoch 122 ----\n"
     ]
    },
    {
     "name": "stderr",
     "output_type": "stream",
     "text": [
      "20it [00:04,  4.92it/s]\n"
     ]
    },
    {
     "name": "stdout",
     "output_type": "stream",
     "text": [
      "...epoch time: 4.064260721206665s\n",
      "...epoch 122: mean train loss=0.160867\n",
      "val eff=0.852234......val pur=0.635728......val auc=0.981988......val loss=0.159835\n",
      "---- Epoch 123 ----\n"
     ]
    },
    {
     "name": "stderr",
     "output_type": "stream",
     "text": [
      "20it [00:03,  5.03it/s]\n"
     ]
    },
    {
     "name": "stdout",
     "output_type": "stream",
     "text": [
      "...epoch time: 3.981504440307617s\n",
      "...epoch 123: mean train loss=0.163227\n",
      "val eff=0.850835......val pur=0.628986......val auc=0.981935......val loss=0.157156\n",
      "---- Epoch 124 ----\n"
     ]
    },
    {
     "name": "stderr",
     "output_type": "stream",
     "text": [
      "20it [00:03,  5.03it/s]\n"
     ]
    },
    {
     "name": "stdout",
     "output_type": "stream",
     "text": [
      "...epoch time: 3.976757049560547s\n",
      "...epoch 124: mean train loss=0.162113\n",
      "val eff=0.820845......val pur=0.637337......val auc=0.978806......val loss=0.173956\n",
      "---- Epoch 125 ----\n"
     ]
    },
    {
     "name": "stderr",
     "output_type": "stream",
     "text": [
      "20it [00:04,  4.92it/s]\n"
     ]
    },
    {
     "name": "stdout",
     "output_type": "stream",
     "text": [
      "...epoch time: 4.06544828414917s\n",
      "...epoch 125: mean train loss=0.160918\n",
      "val eff=0.856514......val pur=0.624064......val auc=0.980592......val loss=0.168535\n",
      "---- Epoch 126 ----\n"
     ]
    },
    {
     "name": "stderr",
     "output_type": "stream",
     "text": [
      "20it [00:03,  5.03it/s]\n"
     ]
    },
    {
     "name": "stdout",
     "output_type": "stream",
     "text": [
      "...epoch time: 3.9784743785858154s\n",
      "...epoch 126: mean train loss=0.158984\n",
      "val eff=0.855530......val pur=0.663567......val auc=0.984653......val loss=0.146333\n",
      "---- Epoch 127 ----\n"
     ]
    },
    {
     "name": "stderr",
     "output_type": "stream",
     "text": [
      "20it [00:03,  5.05it/s]\n"
     ]
    },
    {
     "name": "stdout",
     "output_type": "stream",
     "text": [
      "...epoch time: 3.965606689453125s\n",
      "...epoch 127: mean train loss=0.160104\n",
      "val eff=0.851248......val pur=0.639204......val auc=0.982119......val loss=0.158171\n",
      "---- Epoch 128 ----\n"
     ]
    },
    {
     "name": "stderr",
     "output_type": "stream",
     "text": [
      "20it [00:03,  5.01it/s]\n"
     ]
    },
    {
     "name": "stdout",
     "output_type": "stream",
     "text": [
      "...epoch time: 3.996180772781372s\n",
      "...epoch 128: mean train loss=0.159412\n",
      "val eff=0.887402......val pur=0.637564......val auc=0.985607......val loss=0.141601\n",
      "---- Epoch 129 ----\n"
     ]
    },
    {
     "name": "stderr",
     "output_type": "stream",
     "text": [
      "20it [00:03,  5.05it/s]\n"
     ]
    },
    {
     "name": "stdout",
     "output_type": "stream",
     "text": [
      "...epoch time: 3.9655258655548096s\n",
      "...epoch 129: mean train loss=0.160750\n",
      "val eff=0.857104......val pur=0.631360......val auc=0.981850......val loss=0.159618\n",
      "---- Epoch 130 ----\n"
     ]
    },
    {
     "name": "stderr",
     "output_type": "stream",
     "text": [
      "20it [00:04,  4.92it/s]\n"
     ]
    },
    {
     "name": "stdout",
     "output_type": "stream",
     "text": [
      "...epoch time: 4.065369129180908s\n",
      "...epoch 130: mean train loss=0.157595\n",
      "val eff=0.839934......val pur=0.643661......val auc=0.982257......val loss=0.154526\n",
      "---- Epoch 131 ----\n"
     ]
    },
    {
     "name": "stderr",
     "output_type": "stream",
     "text": [
      "20it [00:03,  5.05it/s]\n"
     ]
    },
    {
     "name": "stdout",
     "output_type": "stream",
     "text": [
      "...epoch time: 3.9605040550231934s\n",
      "...epoch 131: mean train loss=0.156025\n",
      "val eff=0.850676......val pur=0.636542......val auc=0.982217......val loss=0.158325\n",
      "---- Epoch 132 ----\n"
     ]
    },
    {
     "name": "stderr",
     "output_type": "stream",
     "text": [
      "20it [00:03,  5.04it/s]\n"
     ]
    },
    {
     "name": "stdout",
     "output_type": "stream",
     "text": [
      "...epoch time: 3.9666244983673096s\n",
      "...epoch 132: mean train loss=0.157823\n",
      "val eff=0.856502......val pur=0.653699......val auc=0.983637......val loss=0.152602\n",
      "---- Epoch 133 ----\n"
     ]
    },
    {
     "name": "stderr",
     "output_type": "stream",
     "text": [
      "20it [00:03,  5.05it/s]\n"
     ]
    },
    {
     "name": "stdout",
     "output_type": "stream",
     "text": [
      "...epoch time: 3.9655256271362305s\n",
      "...epoch 133: mean train loss=0.158184\n",
      "val eff=0.842184......val pur=0.678351......val auc=0.983609......val loss=0.154814\n",
      "---- Epoch 134 ----\n"
     ]
    },
    {
     "name": "stderr",
     "output_type": "stream",
     "text": [
      "20it [00:03,  5.04it/s]\n"
     ]
    },
    {
     "name": "stdout",
     "output_type": "stream",
     "text": [
      "...epoch time: 3.9712257385253906s\n",
      "...epoch 134: mean train loss=0.155784\n",
      "val eff=0.870015......val pur=0.641397......val auc=0.983588......val loss=0.154116\n",
      "---- Epoch 135 ----\n"
     ]
    },
    {
     "name": "stderr",
     "output_type": "stream",
     "text": [
      "20it [00:03,  5.04it/s]\n"
     ]
    },
    {
     "name": "stdout",
     "output_type": "stream",
     "text": [
      "...epoch time: 3.96836256980896s\n",
      "...epoch 135: mean train loss=0.156368\n",
      "val eff=0.877621......val pur=0.618995......val auc=0.982899......val loss=0.155901\n",
      "---- Epoch 136 ----\n"
     ]
    },
    {
     "name": "stderr",
     "output_type": "stream",
     "text": [
      "20it [00:03,  5.00it/s]\n"
     ]
    },
    {
     "name": "stdout",
     "output_type": "stream",
     "text": [
      "...epoch time: 3.998966693878174s\n",
      "...epoch 136: mean train loss=0.154211\n",
      "val eff=0.843630......val pur=0.617835......val auc=0.980111......val loss=0.165842\n",
      "---- Epoch 137 ----\n"
     ]
    },
    {
     "name": "stderr",
     "output_type": "stream",
     "text": [
      "20it [00:03,  5.02it/s]\n"
     ]
    },
    {
     "name": "stdout",
     "output_type": "stream",
     "text": [
      "...epoch time: 3.9827332496643066s\n",
      "...epoch 137: mean train loss=0.156426\n",
      "val eff=0.838620......val pur=0.638252......val auc=0.981112......val loss=0.162177\n",
      "---- Epoch 138 ----\n"
     ]
    },
    {
     "name": "stderr",
     "output_type": "stream",
     "text": [
      "20it [00:03,  5.05it/s]\n"
     ]
    },
    {
     "name": "stdout",
     "output_type": "stream",
     "text": [
      "...epoch time: 3.9593756198883057s\n",
      "...epoch 138: mean train loss=0.156384\n",
      "val eff=0.864995......val pur=0.639048......val auc=0.982720......val loss=0.157696\n",
      "---- Epoch 139 ----\n"
     ]
    },
    {
     "name": "stderr",
     "output_type": "stream",
     "text": [
      "20it [00:03,  5.04it/s]\n"
     ]
    },
    {
     "name": "stdout",
     "output_type": "stream",
     "text": [
      "...epoch time: 3.9683806896209717s\n",
      "...epoch 139: mean train loss=0.156276\n",
      "val eff=0.852872......val pur=0.655899......val auc=0.983673......val loss=0.152068\n",
      "---- Epoch 140 ----\n"
     ]
    },
    {
     "name": "stderr",
     "output_type": "stream",
     "text": [
      "20it [00:04,  4.92it/s]\n"
     ]
    },
    {
     "name": "stdout",
     "output_type": "stream",
     "text": [
      "...epoch time: 4.062741279602051s\n",
      "...epoch 140: mean train loss=0.152883\n",
      "val eff=0.855191......val pur=0.643933......val auc=0.983783......val loss=0.147658\n",
      "---- Epoch 141 ----\n"
     ]
    },
    {
     "name": "stderr",
     "output_type": "stream",
     "text": [
      "20it [00:03,  5.01it/s]\n"
     ]
    },
    {
     "name": "stdout",
     "output_type": "stream",
     "text": [
      "...epoch time: 3.99501895904541s\n",
      "...epoch 141: mean train loss=0.153279\n",
      "val eff=0.844625......val pur=0.659624......val auc=0.982902......val loss=0.156277\n",
      "---- Epoch 142 ----\n"
     ]
    },
    {
     "name": "stderr",
     "output_type": "stream",
     "text": [
      "20it [00:03,  5.04it/s]\n"
     ]
    },
    {
     "name": "stdout",
     "output_type": "stream",
     "text": [
      "...epoch time: 3.9665300846099854s\n",
      "...epoch 142: mean train loss=0.152943\n",
      "val eff=0.861984......val pur=0.657439......val auc=0.983836......val loss=0.153962\n",
      "---- Epoch 143 ----\n"
     ]
    },
    {
     "name": "stderr",
     "output_type": "stream",
     "text": [
      "20it [00:03,  5.04it/s]\n"
     ]
    },
    {
     "name": "stdout",
     "output_type": "stream",
     "text": [
      "...epoch time: 3.972368001937866s\n",
      "...epoch 143: mean train loss=0.150861\n",
      "val eff=0.873584......val pur=0.672776......val auc=0.985814......val loss=0.145583\n",
      "---- Epoch 144 ----\n"
     ]
    },
    {
     "name": "stderr",
     "output_type": "stream",
     "text": [
      "20it [00:03,  5.01it/s]\n"
     ]
    },
    {
     "name": "stdout",
     "output_type": "stream",
     "text": [
      "...epoch time: 3.997068405151367s\n",
      "...epoch 144: mean train loss=0.155007\n",
      "val eff=0.839908......val pur=0.660952......val auc=0.981871......val loss=0.165581\n",
      "---- Epoch 145 ----\n"
     ]
    },
    {
     "name": "stderr",
     "output_type": "stream",
     "text": [
      "20it [00:03,  5.00it/s]\n"
     ]
    },
    {
     "name": "stdout",
     "output_type": "stream",
     "text": [
      "...epoch time: 4.000074148178101s\n",
      "...epoch 145: mean train loss=0.155568\n",
      "val eff=0.863468......val pur=0.647372......val auc=0.983631......val loss=0.153593\n",
      "---- Epoch 146 ----\n"
     ]
    },
    {
     "name": "stderr",
     "output_type": "stream",
     "text": [
      "20it [00:04,  4.90it/s]\n"
     ]
    },
    {
     "name": "stdout",
     "output_type": "stream",
     "text": [
      "...epoch time: 4.081355094909668s\n",
      "...epoch 146: mean train loss=0.151438\n",
      "val eff=0.870326......val pur=0.645833......val auc=0.984091......val loss=0.150073\n",
      "---- Epoch 147 ----\n"
     ]
    },
    {
     "name": "stderr",
     "output_type": "stream",
     "text": [
      "20it [00:03,  5.02it/s]\n"
     ]
    },
    {
     "name": "stdout",
     "output_type": "stream",
     "text": [
      "...epoch time: 3.9823901653289795s\n",
      "...epoch 147: mean train loss=0.150806\n",
      "val eff=0.865485......val pur=0.632053......val auc=0.981486......val loss=0.166914\n",
      "---- Epoch 148 ----\n"
     ]
    },
    {
     "name": "stderr",
     "output_type": "stream",
     "text": [
      "20it [00:03,  5.01it/s]\n"
     ]
    },
    {
     "name": "stdout",
     "output_type": "stream",
     "text": [
      "...epoch time: 3.9957311153411865s\n",
      "...epoch 148: mean train loss=0.149990\n",
      "val eff=0.831937......val pur=0.633986......val auc=0.981063......val loss=0.159810\n",
      "---- Epoch 149 ----\n"
     ]
    },
    {
     "name": "stderr",
     "output_type": "stream",
     "text": [
      "20it [00:03,  5.05it/s]\n"
     ]
    },
    {
     "name": "stdout",
     "output_type": "stream",
     "text": [
      "...epoch time: 3.9584405422210693s\n",
      "...epoch 149: mean train loss=0.151423\n",
      "val eff=0.843168......val pur=0.643602......val auc=0.981555......val loss=0.162618\n",
      "---- Epoch 150 ----\n"
     ]
    },
    {
     "name": "stderr",
     "output_type": "stream",
     "text": [
      "20it [00:03,  5.01it/s]\n"
     ]
    },
    {
     "name": "stdout",
     "output_type": "stream",
     "text": [
      "...epoch time: 3.995522975921631s\n",
      "...epoch 150: mean train loss=0.151663\n",
      "val eff=0.849387......val pur=0.659726......val auc=0.983377......val loss=0.154224\n",
      "---- Epoch 151 ----\n"
     ]
    },
    {
     "name": "stderr",
     "output_type": "stream",
     "text": [
      "20it [00:03,  5.02it/s]\n"
     ]
    },
    {
     "name": "stdout",
     "output_type": "stream",
     "text": [
      "...epoch time: 3.9820876121520996s\n",
      "...epoch 151: mean train loss=0.147337\n",
      "val eff=0.858458......val pur=0.650034......val auc=0.983159......val loss=0.156426\n",
      "---- Epoch 152 ----\n"
     ]
    },
    {
     "name": "stderr",
     "output_type": "stream",
     "text": [
      "20it [00:03,  5.02it/s]\n"
     ]
    },
    {
     "name": "stdout",
     "output_type": "stream",
     "text": [
      "...epoch time: 3.9892375469207764s\n",
      "...epoch 152: mean train loss=0.147006\n",
      "val eff=0.870645......val pur=0.661659......val auc=0.985698......val loss=0.140930\n",
      "---- Epoch 153 ----\n"
     ]
    },
    {
     "name": "stderr",
     "output_type": "stream",
     "text": [
      "20it [00:04,  4.91it/s]\n"
     ]
    },
    {
     "name": "stdout",
     "output_type": "stream",
     "text": [
      "...epoch time: 4.077587366104126s\n",
      "...epoch 153: mean train loss=0.147415\n",
      "val eff=0.863097......val pur=0.635814......val auc=0.983174......val loss=0.154026\n",
      "---- Epoch 154 ----\n"
     ]
    },
    {
     "name": "stderr",
     "output_type": "stream",
     "text": [
      "20it [00:03,  5.03it/s]\n"
     ]
    },
    {
     "name": "stdout",
     "output_type": "stream",
     "text": [
      "...epoch time: 3.9781057834625244s\n",
      "...epoch 154: mean train loss=0.145702\n",
      "val eff=0.857290......val pur=0.662102......val auc=0.983838......val loss=0.153250\n",
      "---- Epoch 155 ----\n"
     ]
    },
    {
     "name": "stderr",
     "output_type": "stream",
     "text": [
      "20it [00:03,  5.02it/s]\n"
     ]
    },
    {
     "name": "stdout",
     "output_type": "stream",
     "text": [
      "...epoch time: 3.987157106399536s\n",
      "...epoch 155: mean train loss=0.144474\n",
      "val eff=0.885930......val pur=0.679693......val auc=0.987911......val loss=0.130459\n",
      "---- Epoch 156 ----\n"
     ]
    },
    {
     "name": "stderr",
     "output_type": "stream",
     "text": [
      "20it [00:03,  5.02it/s]\n"
     ]
    },
    {
     "name": "stdout",
     "output_type": "stream",
     "text": [
      "...epoch time: 3.9831950664520264s\n",
      "...epoch 156: mean train loss=0.144777\n",
      "val eff=0.873042......val pur=0.645591......val auc=0.984069......val loss=0.152038\n",
      "---- Epoch 157 ----\n"
     ]
    },
    {
     "name": "stderr",
     "output_type": "stream",
     "text": [
      "20it [00:03,  5.02it/s]\n"
     ]
    },
    {
     "name": "stdout",
     "output_type": "stream",
     "text": [
      "...epoch time: 3.9826807975769043s\n",
      "...epoch 157: mean train loss=0.145742\n",
      "val eff=0.865347......val pur=0.659558......val auc=0.984166......val loss=0.152671\n",
      "---- Epoch 158 ----\n"
     ]
    },
    {
     "name": "stderr",
     "output_type": "stream",
     "text": [
      "20it [00:03,  5.03it/s]\n"
     ]
    },
    {
     "name": "stdout",
     "output_type": "stream",
     "text": [
      "...epoch time: 3.9753291606903076s\n",
      "...epoch 158: mean train loss=0.144776\n",
      "val eff=0.872068......val pur=0.684593......val auc=0.987872......val loss=0.128746\n",
      "---- Epoch 159 ----\n"
     ]
    },
    {
     "name": "stderr",
     "output_type": "stream",
     "text": [
      "20it [00:03,  5.03it/s]\n"
     ]
    },
    {
     "name": "stdout",
     "output_type": "stream",
     "text": [
      "...epoch time: 3.9778316020965576s\n",
      "...epoch 159: mean train loss=0.144496\n",
      "val eff=0.841722......val pur=0.631617......val auc=0.980060......val loss=0.170378\n",
      "---- Epoch 160 ----\n"
     ]
    },
    {
     "name": "stderr",
     "output_type": "stream",
     "text": [
      "20it [00:03,  5.00it/s]\n"
     ]
    },
    {
     "name": "stdout",
     "output_type": "stream",
     "text": [
      "...epoch time: 3.9993369579315186s\n",
      "...epoch 160: mean train loss=0.148833\n",
      "val eff=0.875183......val pur=0.647335......val auc=0.985072......val loss=0.144550\n",
      "---- Epoch 161 ----\n"
     ]
    },
    {
     "name": "stderr",
     "output_type": "stream",
     "text": [
      "20it [00:03,  5.03it/s]\n"
     ]
    },
    {
     "name": "stdout",
     "output_type": "stream",
     "text": [
      "...epoch time: 3.974759340286255s\n",
      "...epoch 161: mean train loss=0.144549\n",
      "val eff=0.861306......val pur=0.668659......val auc=0.984792......val loss=0.147832\n",
      "---- Epoch 162 ----\n"
     ]
    },
    {
     "name": "stderr",
     "output_type": "stream",
     "text": [
      "20it [00:03,  5.02it/s]\n"
     ]
    },
    {
     "name": "stdout",
     "output_type": "stream",
     "text": [
      "...epoch time: 3.98896861076355s\n",
      "...epoch 162: mean train loss=0.144190\n",
      "val eff=0.876770......val pur=0.639565......val auc=0.984359......val loss=0.148039\n",
      "---- Epoch 163 ----\n"
     ]
    },
    {
     "name": "stderr",
     "output_type": "stream",
     "text": [
      "20it [00:04,  4.93it/s]\n"
     ]
    },
    {
     "name": "stdout",
     "output_type": "stream",
     "text": [
      "...epoch time: 4.059003829956055s\n",
      "...epoch 163: mean train loss=0.144626\n",
      "val eff=0.887875......val pur=0.686417......val auc=0.987922......val loss=0.132340\n",
      "---- Epoch 164 ----\n"
     ]
    },
    {
     "name": "stderr",
     "output_type": "stream",
     "text": [
      "20it [00:03,  5.02it/s]\n"
     ]
    },
    {
     "name": "stdout",
     "output_type": "stream",
     "text": [
      "...epoch time: 3.9878346920013428s\n",
      "...epoch 164: mean train loss=0.143181\n",
      "val eff=0.872242......val pur=0.653240......val auc=0.984488......val loss=0.148795\n",
      "---- Epoch 165 ----\n"
     ]
    },
    {
     "name": "stderr",
     "output_type": "stream",
     "text": [
      "20it [00:03,  5.02it/s]\n"
     ]
    },
    {
     "name": "stdout",
     "output_type": "stream",
     "text": [
      "...epoch time: 3.989152669906616s\n",
      "...epoch 165: mean train loss=0.143521\n",
      "val eff=0.849428......val pur=0.654944......val auc=0.984630......val loss=0.141930\n",
      "---- Epoch 166 ----\n"
     ]
    },
    {
     "name": "stderr",
     "output_type": "stream",
     "text": [
      "20it [00:03,  5.11it/s]\n"
     ]
    },
    {
     "name": "stdout",
     "output_type": "stream",
     "text": [
      "...epoch time: 3.9136059284210205s\n",
      "...epoch 166: mean train loss=0.142707\n",
      "val eff=0.866772......val pur=0.664624......val auc=0.985149......val loss=0.145077\n",
      "---- Epoch 167 ----\n"
     ]
    },
    {
     "name": "stderr",
     "output_type": "stream",
     "text": [
      "20it [00:03,  5.02it/s]\n"
     ]
    },
    {
     "name": "stdout",
     "output_type": "stream",
     "text": [
      "...epoch time: 3.983435869216919s\n",
      "...epoch 167: mean train loss=0.142020\n",
      "val eff=0.872709......val pur=0.637222......val auc=0.984420......val loss=0.146607\n",
      "---- Epoch 168 ----\n"
     ]
    },
    {
     "name": "stderr",
     "output_type": "stream",
     "text": [
      "20it [00:03,  5.03it/s]\n"
     ]
    },
    {
     "name": "stdout",
     "output_type": "stream",
     "text": [
      "...epoch time: 3.97763729095459s\n",
      "...epoch 168: mean train loss=0.143634\n",
      "val eff=0.865178......val pur=0.653500......val auc=0.984556......val loss=0.146708\n",
      "---- Epoch 169 ----\n"
     ]
    },
    {
     "name": "stderr",
     "output_type": "stream",
     "text": [
      "20it [00:03,  5.03it/s]\n"
     ]
    },
    {
     "name": "stdout",
     "output_type": "stream",
     "text": [
      "...epoch time: 3.9781441688537598s\n",
      "...epoch 169: mean train loss=0.144068\n",
      "val eff=0.867051......val pur=0.637831......val auc=0.983692......val loss=0.149980\n",
      "---- Epoch 170 ----\n"
     ]
    },
    {
     "name": "stderr",
     "output_type": "stream",
     "text": [
      "20it [00:03,  5.03it/s]\n"
     ]
    },
    {
     "name": "stdout",
     "output_type": "stream",
     "text": [
      "...epoch time: 3.9762701988220215s\n",
      "...epoch 170: mean train loss=0.143503\n",
      "val eff=0.873589......val pur=0.651647......val auc=0.984100......val loss=0.153402\n",
      "---- Epoch 171 ----\n"
     ]
    },
    {
     "name": "stderr",
     "output_type": "stream",
     "text": [
      "20it [00:03,  5.01it/s]\n"
     ]
    },
    {
     "name": "stdout",
     "output_type": "stream",
     "text": [
      "...epoch time: 3.9952499866485596s\n",
      "...epoch 171: mean train loss=0.141356\n",
      "val eff=0.886058......val pur=0.669479......val auc=0.987650......val loss=0.129523\n",
      "---- Epoch 172 ----\n"
     ]
    },
    {
     "name": "stderr",
     "output_type": "stream",
     "text": [
      "20it [00:03,  5.04it/s]\n"
     ]
    },
    {
     "name": "stdout",
     "output_type": "stream",
     "text": [
      "...epoch time: 3.9734110832214355s\n",
      "...epoch 172: mean train loss=0.140492\n",
      "val eff=0.883181......val pur=0.651487......val auc=0.985429......val loss=0.143773\n",
      "---- Epoch 173 ----\n"
     ]
    },
    {
     "name": "stderr",
     "output_type": "stream",
     "text": [
      "20it [00:03,  5.02it/s]\n"
     ]
    },
    {
     "name": "stdout",
     "output_type": "stream",
     "text": [
      "...epoch time: 3.9839224815368652s\n",
      "...epoch 173: mean train loss=0.141252\n",
      "val eff=0.903629......val pur=0.665983......val auc=0.988366......val loss=0.129281\n",
      "---- Epoch 174 ----\n"
     ]
    },
    {
     "name": "stderr",
     "output_type": "stream",
     "text": [
      "20it [00:03,  5.02it/s]\n"
     ]
    },
    {
     "name": "stdout",
     "output_type": "stream",
     "text": [
      "...epoch time: 3.98734188079834s\n",
      "...epoch 174: mean train loss=0.140388\n",
      "val eff=0.881923......val pur=0.661771......val auc=0.986120......val loss=0.141065\n",
      "---- Epoch 175 ----\n"
     ]
    },
    {
     "name": "stderr",
     "output_type": "stream",
     "text": [
      "20it [00:03,  5.02it/s]\n"
     ]
    },
    {
     "name": "stdout",
     "output_type": "stream",
     "text": [
      "...epoch time: 3.9828100204467773s\n",
      "...epoch 175: mean train loss=0.140792\n",
      "val eff=0.864529......val pur=0.636790......val auc=0.983295......val loss=0.153410\n",
      "---- Epoch 176 ----\n"
     ]
    },
    {
     "name": "stderr",
     "output_type": "stream",
     "text": [
      "20it [00:03,  5.03it/s]\n"
     ]
    },
    {
     "name": "stdout",
     "output_type": "stream",
     "text": [
      "...epoch time: 3.975783586502075s\n",
      "...epoch 176: mean train loss=0.141415\n",
      "val eff=0.880190......val pur=0.666667......val auc=0.985756......val loss=0.144239\n",
      "---- Epoch 177 ----\n"
     ]
    },
    {
     "name": "stderr",
     "output_type": "stream",
     "text": [
      "20it [00:03,  5.01it/s]\n"
     ]
    },
    {
     "name": "stdout",
     "output_type": "stream",
     "text": [
      "...epoch time: 3.996122360229492s\n",
      "...epoch 177: mean train loss=0.139893\n",
      "val eff=0.882302......val pur=0.660473......val auc=0.985785......val loss=0.144042\n",
      "---- Epoch 178 ----\n"
     ]
    },
    {
     "name": "stderr",
     "output_type": "stream",
     "text": [
      "20it [00:03,  5.02it/s]\n"
     ]
    },
    {
     "name": "stdout",
     "output_type": "stream",
     "text": [
      "...epoch time: 3.9880239963531494s\n",
      "...epoch 178: mean train loss=0.139599\n",
      "val eff=0.875587......val pur=0.678879......val auc=0.986982......val loss=0.137539\n",
      "---- Epoch 179 ----\n"
     ]
    },
    {
     "name": "stderr",
     "output_type": "stream",
     "text": [
      "20it [00:03,  5.02it/s]\n"
     ]
    },
    {
     "name": "stdout",
     "output_type": "stream",
     "text": [
      "...epoch time: 3.9855000972747803s\n",
      "...epoch 179: mean train loss=0.139748\n",
      "val eff=0.873536......val pur=0.651604......val auc=0.983314......val loss=0.159606\n",
      "---- Epoch 180 ----\n"
     ]
    },
    {
     "name": "stderr",
     "output_type": "stream",
     "text": [
      "20it [00:03,  5.02it/s]\n"
     ]
    },
    {
     "name": "stdout",
     "output_type": "stream",
     "text": [
      "...epoch time: 3.9890432357788086s\n",
      "...epoch 180: mean train loss=0.138117\n",
      "val eff=0.889410......val pur=0.660025......val auc=0.986542......val loss=0.139411\n",
      "---- Epoch 181 ----\n"
     ]
    },
    {
     "name": "stderr",
     "output_type": "stream",
     "text": [
      "20it [00:03,  5.01it/s]\n"
     ]
    },
    {
     "name": "stdout",
     "output_type": "stream",
     "text": [
      "...epoch time: 3.991947889328003s\n",
      "...epoch 181: mean train loss=0.136626\n",
      "val eff=0.858668......val pur=0.672334......val auc=0.984928......val loss=0.145877\n",
      "---- Epoch 182 ----\n"
     ]
    },
    {
     "name": "stderr",
     "output_type": "stream",
     "text": [
      "20it [00:03,  5.02it/s]\n"
     ]
    },
    {
     "name": "stdout",
     "output_type": "stream",
     "text": [
      "...epoch time: 3.981955051422119s\n",
      "...epoch 182: mean train loss=0.137635\n",
      "val eff=0.884608......val pur=0.671971......val auc=0.987020......val loss=0.136934\n",
      "---- Epoch 183 ----\n"
     ]
    },
    {
     "name": "stderr",
     "output_type": "stream",
     "text": [
      "20it [00:03,  5.03it/s]\n"
     ]
    },
    {
     "name": "stdout",
     "output_type": "stream",
     "text": [
      "...epoch time: 3.981231451034546s\n",
      "...epoch 183: mean train loss=0.137359\n",
      "val eff=0.897739......val pur=0.671391......val auc=0.988162......val loss=0.129580\n",
      "---- Epoch 184 ----\n"
     ]
    },
    {
     "name": "stderr",
     "output_type": "stream",
     "text": [
      "20it [00:03,  5.03it/s]\n"
     ]
    },
    {
     "name": "stdout",
     "output_type": "stream",
     "text": [
      "...epoch time: 3.9812283515930176s\n",
      "...epoch 184: mean train loss=0.137292\n",
      "val eff=0.871228......val pur=0.664261......val auc=0.986576......val loss=0.133035\n",
      "---- Epoch 185 ----\n"
     ]
    },
    {
     "name": "stderr",
     "output_type": "stream",
     "text": [
      "20it [00:03,  5.04it/s]\n"
     ]
    },
    {
     "name": "stdout",
     "output_type": "stream",
     "text": [
      "...epoch time: 3.971390962600708s\n",
      "...epoch 185: mean train loss=0.136814\n",
      "val eff=0.867227......val pur=0.686243......val auc=0.986437......val loss=0.140049\n",
      "---- Epoch 186 ----\n"
     ]
    },
    {
     "name": "stderr",
     "output_type": "stream",
     "text": [
      "20it [00:03,  5.02it/s]\n"
     ]
    },
    {
     "name": "stdout",
     "output_type": "stream",
     "text": [
      "...epoch time: 3.985743999481201s\n",
      "...epoch 186: mean train loss=0.136356\n",
      "val eff=0.890672......val pur=0.708791......val auc=0.989262......val loss=0.125329\n",
      "---- Epoch 187 ----\n"
     ]
    },
    {
     "name": "stderr",
     "output_type": "stream",
     "text": [
      "20it [00:03,  5.02it/s]\n"
     ]
    },
    {
     "name": "stdout",
     "output_type": "stream",
     "text": [
      "...epoch time: 3.9887359142303467s\n",
      "...epoch 187: mean train loss=0.136468\n",
      "val eff=0.878408......val pur=0.664892......val auc=0.986672......val loss=0.135722\n",
      "---- Epoch 188 ----\n"
     ]
    },
    {
     "name": "stderr",
     "output_type": "stream",
     "text": [
      "20it [00:03,  5.03it/s]\n"
     ]
    },
    {
     "name": "stdout",
     "output_type": "stream",
     "text": [
      "...epoch time: 3.9775760173797607s\n",
      "...epoch 188: mean train loss=0.135627\n",
      "val eff=0.895362......val pur=0.674352......val auc=0.987143......val loss=0.138564\n",
      "---- Epoch 189 ----\n"
     ]
    },
    {
     "name": "stderr",
     "output_type": "stream",
     "text": [
      "20it [00:03,  5.02it/s]\n"
     ]
    },
    {
     "name": "stdout",
     "output_type": "stream",
     "text": [
      "...epoch time: 3.989652395248413s\n",
      "...epoch 189: mean train loss=0.134760\n",
      "val eff=0.881600......val pur=0.670138......val auc=0.986567......val loss=0.139163\n",
      "---- Epoch 190 ----\n"
     ]
    },
    {
     "name": "stderr",
     "output_type": "stream",
     "text": [
      "20it [00:04,  4.90it/s]\n"
     ]
    },
    {
     "name": "stdout",
     "output_type": "stream",
     "text": [
      "...epoch time: 4.084494590759277s\n",
      "...epoch 190: mean train loss=0.135912\n",
      "val eff=0.888530......val pur=0.664567......val auc=0.986130......val loss=0.143215\n",
      "---- Epoch 191 ----\n"
     ]
    },
    {
     "name": "stderr",
     "output_type": "stream",
     "text": [
      "20it [00:03,  5.02it/s]\n"
     ]
    },
    {
     "name": "stdout",
     "output_type": "stream",
     "text": [
      "...epoch time: 3.988931655883789s\n",
      "...epoch 191: mean train loss=0.136407\n",
      "val eff=0.891221......val pur=0.694717......val auc=0.988722......val loss=0.128017\n",
      "---- Epoch 192 ----\n"
     ]
    },
    {
     "name": "stderr",
     "output_type": "stream",
     "text": [
      "20it [00:03,  5.02it/s]\n"
     ]
    },
    {
     "name": "stdout",
     "output_type": "stream",
     "text": [
      "...epoch time: 3.986307144165039s\n",
      "...epoch 192: mean train loss=0.135048\n",
      "val eff=0.882994......val pur=0.666530......val auc=0.985202......val loss=0.149912\n",
      "---- Epoch 193 ----\n"
     ]
    },
    {
     "name": "stderr",
     "output_type": "stream",
     "text": [
      "20it [00:03,  5.01it/s]\n"
     ]
    },
    {
     "name": "stdout",
     "output_type": "stream",
     "text": [
      "...epoch time: 3.9969356060028076s\n",
      "...epoch 193: mean train loss=0.134973\n",
      "val eff=0.882684......val pur=0.681600......val auc=0.986663......val loss=0.141722\n",
      "---- Epoch 194 ----\n"
     ]
    },
    {
     "name": "stderr",
     "output_type": "stream",
     "text": [
      "20it [00:03,  5.01it/s]\n"
     ]
    },
    {
     "name": "stdout",
     "output_type": "stream",
     "text": [
      "...epoch time: 3.993511199951172s\n",
      "...epoch 194: mean train loss=0.134541\n",
      "val eff=0.888719......val pur=0.688563......val auc=0.988223......val loss=0.130122\n",
      "---- Epoch 195 ----\n"
     ]
    },
    {
     "name": "stderr",
     "output_type": "stream",
     "text": [
      "20it [00:03,  5.01it/s]\n"
     ]
    },
    {
     "name": "stdout",
     "output_type": "stream",
     "text": [
      "...epoch time: 3.990501642227173s\n",
      "...epoch 195: mean train loss=0.135083\n",
      "val eff=0.880165......val pur=0.663709......val auc=0.986223......val loss=0.139687\n",
      "---- Epoch 196 ----\n"
     ]
    },
    {
     "name": "stderr",
     "output_type": "stream",
     "text": [
      "20it [00:03,  5.02it/s]\n"
     ]
    },
    {
     "name": "stdout",
     "output_type": "stream",
     "text": [
      "...epoch time: 3.988184928894043s\n",
      "...epoch 196: mean train loss=0.134571\n",
      "val eff=0.879934......val pur=0.661143......val auc=0.986105......val loss=0.140037\n",
      "---- Epoch 197 ----\n"
     ]
    },
    {
     "name": "stderr",
     "output_type": "stream",
     "text": [
      "20it [00:03,  5.01it/s]\n"
     ]
    },
    {
     "name": "stdout",
     "output_type": "stream",
     "text": [
      "...epoch time: 3.9900853633880615s\n",
      "...epoch 197: mean train loss=0.133691\n",
      "val eff=0.854382......val pur=0.660896......val auc=0.983211......val loss=0.156421\n",
      "---- Epoch 198 ----\n"
     ]
    },
    {
     "name": "stderr",
     "output_type": "stream",
     "text": [
      "20it [00:04,  5.00it/s]\n"
     ]
    },
    {
     "name": "stdout",
     "output_type": "stream",
     "text": [
      "...epoch time: 4.053761005401611s\n",
      "...epoch 198: mean train loss=0.133147\n",
      "val eff=0.905459......val pur=0.677309......val auc=0.988315......val loss=0.132111\n",
      "---- Epoch 199 ----\n"
     ]
    },
    {
     "name": "stderr",
     "output_type": "stream",
     "text": [
      "20it [00:03,  5.01it/s]\n"
     ]
    },
    {
     "name": "stdout",
     "output_type": "stream",
     "text": [
      "...epoch time: 3.9968597888946533s\n",
      "...epoch 199: mean train loss=0.134239\n",
      "val eff=0.882111......val pur=0.666874......val auc=0.986465......val loss=0.139911\n",
      "---- Epoch 200 ----\n"
     ]
    },
    {
     "name": "stderr",
     "output_type": "stream",
     "text": [
      "20it [00:04,  5.00it/s]\n"
     ]
    },
    {
     "name": "stdout",
     "output_type": "stream",
     "text": [
      "...epoch time: 4.05256462097168s\n",
      "...epoch 200: mean train loss=0.134036\n",
      "val eff=0.888569......val pur=0.670011......val auc=0.987224......val loss=0.135822\n",
      "---- Epoch 201 ----\n"
     ]
    },
    {
     "name": "stderr",
     "output_type": "stream",
     "text": [
      "20it [00:03,  5.02it/s]\n"
     ]
    },
    {
     "name": "stdout",
     "output_type": "stream",
     "text": [
      "...epoch time: 3.9858198165893555s\n",
      "...epoch 201: mean train loss=0.133233\n",
      "val eff=0.898990......val pur=0.664034......val auc=0.987219......val loss=0.137704\n",
      "---- Epoch 202 ----\n"
     ]
    },
    {
     "name": "stderr",
     "output_type": "stream",
     "text": [
      "20it [00:03,  5.01it/s]\n"
     ]
    },
    {
     "name": "stdout",
     "output_type": "stream",
     "text": [
      "...epoch time: 3.9940617084503174s\n",
      "...epoch 202: mean train loss=0.132865\n",
      "val eff=0.869533......val pur=0.664141......val auc=0.985048......val loss=0.145933\n",
      "---- Epoch 203 ----\n"
     ]
    },
    {
     "name": "stderr",
     "output_type": "stream",
     "text": [
      "20it [00:03,  5.03it/s]\n"
     ]
    },
    {
     "name": "stdout",
     "output_type": "stream",
     "text": [
      "...epoch time: 3.979973077774048s\n",
      "...epoch 203: mean train loss=0.134544\n",
      "val eff=0.872084......val pur=0.670843......val auc=0.986279......val loss=0.139455\n",
      "---- Epoch 204 ----\n"
     ]
    },
    {
     "name": "stderr",
     "output_type": "stream",
     "text": [
      "20it [00:03,  5.03it/s]\n"
     ]
    },
    {
     "name": "stdout",
     "output_type": "stream",
     "text": [
      "...epoch time: 3.978872060775757s\n",
      "...epoch 204: mean train loss=0.133620\n",
      "val eff=0.873562......val pur=0.666388......val auc=0.985491......val loss=0.145693\n",
      "---- Epoch 205 ----\n"
     ]
    },
    {
     "name": "stderr",
     "output_type": "stream",
     "text": [
      "20it [00:03,  5.02it/s]\n"
     ]
    },
    {
     "name": "stdout",
     "output_type": "stream",
     "text": [
      "...epoch time: 3.9846913814544678s\n",
      "...epoch 205: mean train loss=0.132840\n",
      "val eff=0.882345......val pur=0.664699......val auc=0.986577......val loss=0.138503\n",
      "---- Epoch 206 ----\n"
     ]
    },
    {
     "name": "stderr",
     "output_type": "stream",
     "text": [
      "20it [00:03,  5.04it/s]\n"
     ]
    },
    {
     "name": "stdout",
     "output_type": "stream",
     "text": [
      "...epoch time: 3.971709966659546s\n",
      "...epoch 206: mean train loss=0.132956\n",
      "val eff=0.882093......val pur=0.670028......val auc=0.986879......val loss=0.135374\n",
      "---- Epoch 207 ----\n"
     ]
    },
    {
     "name": "stderr",
     "output_type": "stream",
     "text": [
      "20it [00:03,  5.03it/s]\n"
     ]
    },
    {
     "name": "stdout",
     "output_type": "stream",
     "text": [
      "...epoch time: 3.9774258136749268s\n",
      "...epoch 207: mean train loss=0.132708\n",
      "val eff=0.907995......val pur=0.664211......val auc=0.988079......val loss=0.132436\n",
      "---- Epoch 208 ----\n"
     ]
    },
    {
     "name": "stderr",
     "output_type": "stream",
     "text": [
      "20it [00:03,  5.02it/s]\n"
     ]
    },
    {
     "name": "stdout",
     "output_type": "stream",
     "text": [
      "...epoch time: 3.986448287963867s\n",
      "...epoch 208: mean train loss=0.133376\n",
      "val eff=0.904015......val pur=0.660790......val auc=0.987660......val loss=0.132930\n",
      "---- Epoch 209 ----\n"
     ]
    },
    {
     "name": "stderr",
     "output_type": "stream",
     "text": [
      "20it [00:03,  5.00it/s]\n"
     ]
    },
    {
     "name": "stdout",
     "output_type": "stream",
     "text": [
      "...epoch time: 4.050928831100464s\n",
      "...epoch 209: mean train loss=0.132698\n",
      "val eff=0.897198......val pur=0.655477......val auc=0.987330......val loss=0.134978\n",
      "---- Epoch 210 ----\n"
     ]
    },
    {
     "name": "stderr",
     "output_type": "stream",
     "text": [
      "20it [00:03,  5.00it/s]\n"
     ]
    },
    {
     "name": "stdout",
     "output_type": "stream",
     "text": [
      "...epoch time: 3.9986798763275146s\n",
      "...epoch 210: mean train loss=0.132356\n",
      "val eff=0.899031......val pur=0.691913......val auc=0.989381......val loss=0.123066\n",
      "---- Epoch 211 ----\n"
     ]
    },
    {
     "name": "stderr",
     "output_type": "stream",
     "text": [
      "20it [00:03,  5.04it/s]\n"
     ]
    },
    {
     "name": "stdout",
     "output_type": "stream",
     "text": [
      "...epoch time: 3.9679858684539795s\n",
      "...epoch 211: mean train loss=0.131088\n",
      "val eff=0.893036......val pur=0.691954......val auc=0.988355......val loss=0.130324\n",
      "---- Epoch 212 ----\n"
     ]
    },
    {
     "name": "stderr",
     "output_type": "stream",
     "text": [
      "20it [00:03,  5.02it/s]\n"
     ]
    },
    {
     "name": "stdout",
     "output_type": "stream",
     "text": [
      "...epoch time: 3.9840545654296875s\n",
      "...epoch 212: mean train loss=0.129384\n",
      "val eff=0.889631......val pur=0.682101......val auc=0.988241......val loss=0.128371\n",
      "---- Epoch 213 ----\n"
     ]
    },
    {
     "name": "stderr",
     "output_type": "stream",
     "text": [
      "20it [00:04,  4.93it/s]\n"
     ]
    },
    {
     "name": "stdout",
     "output_type": "stream",
     "text": [
      "...epoch time: 4.06254243850708s\n",
      "...epoch 213: mean train loss=0.129967\n",
      "val eff=0.896323......val pur=0.689083......val auc=0.988476......val loss=0.130057\n",
      "---- Epoch 214 ----\n"
     ]
    },
    {
     "name": "stderr",
     "output_type": "stream",
     "text": [
      "20it [00:03,  5.01it/s]\n"
     ]
    },
    {
     "name": "stdout",
     "output_type": "stream",
     "text": [
      "...epoch time: 3.990429162979126s\n",
      "...epoch 214: mean train loss=0.129752\n",
      "val eff=0.889574......val pur=0.665619......val auc=0.986937......val loss=0.137095\n",
      "---- Epoch 215 ----\n"
     ]
    },
    {
     "name": "stderr",
     "output_type": "stream",
     "text": [
      "20it [00:03,  5.02it/s]\n"
     ]
    },
    {
     "name": "stdout",
     "output_type": "stream",
     "text": [
      "...epoch time: 3.987870454788208s\n",
      "...epoch 215: mean train loss=0.129862\n",
      "val eff=0.861140......val pur=0.679409......val auc=0.985679......val loss=0.141436\n",
      "---- Epoch 216 ----\n"
     ]
    },
    {
     "name": "stderr",
     "output_type": "stream",
     "text": [
      "20it [00:03,  5.03it/s]\n"
     ]
    },
    {
     "name": "stdout",
     "output_type": "stream",
     "text": [
      "...epoch time: 3.97912859916687s\n",
      "...epoch 216: mean train loss=0.129844\n",
      "val eff=0.878087......val pur=0.681391......val auc=0.986723......val loss=0.138912\n",
      "---- Epoch 217 ----\n"
     ]
    },
    {
     "name": "stderr",
     "output_type": "stream",
     "text": [
      "20it [00:03,  5.02it/s]\n"
     ]
    },
    {
     "name": "stdout",
     "output_type": "stream",
     "text": [
      "...epoch time: 3.982638359069824s\n",
      "...epoch 217: mean train loss=0.130463\n",
      "val eff=0.880171......val pur=0.689503......val auc=0.988297......val loss=0.127280\n",
      "---- Epoch 218 ----\n"
     ]
    },
    {
     "name": "stderr",
     "output_type": "stream",
     "text": [
      "20it [00:03,  5.03it/s]\n"
     ]
    },
    {
     "name": "stdout",
     "output_type": "stream",
     "text": [
      "...epoch time: 3.980743885040283s\n",
      "...epoch 218: mean train loss=0.129379\n",
      "val eff=0.892003......val pur=0.674144......val auc=0.988337......val loss=0.127565\n",
      "---- Epoch 219 ----\n"
     ]
    },
    {
     "name": "stderr",
     "output_type": "stream",
     "text": [
      "20it [00:03,  5.03it/s]\n"
     ]
    },
    {
     "name": "stdout",
     "output_type": "stream",
     "text": [
      "...epoch time: 3.974029064178467s\n",
      "...epoch 219: mean train loss=0.128280\n",
      "val eff=0.909314......val pur=0.702205......val auc=0.990459......val loss=0.116747\n",
      "---- Epoch 220 ----\n"
     ]
    },
    {
     "name": "stderr",
     "output_type": "stream",
     "text": [
      "20it [00:03,  5.03it/s]\n"
     ]
    },
    {
     "name": "stdout",
     "output_type": "stream",
     "text": [
      "...epoch time: 3.9796550273895264s\n",
      "...epoch 220: mean train loss=0.128333\n",
      "val eff=0.890816......val pur=0.685360......val auc=0.988641......val loss=0.127182\n",
      "---- Epoch 221 ----\n"
     ]
    },
    {
     "name": "stderr",
     "output_type": "stream",
     "text": [
      "20it [00:03,  5.02it/s]\n"
     ]
    },
    {
     "name": "stdout",
     "output_type": "stream",
     "text": [
      "...epoch time: 3.982480764389038s\n",
      "...epoch 221: mean train loss=0.128307\n",
      "val eff=0.885888......val pur=0.689994......val auc=0.988758......val loss=0.124800\n",
      "---- Epoch 222 ----\n"
     ]
    },
    {
     "name": "stderr",
     "output_type": "stream",
     "text": [
      "20it [00:03,  5.03it/s]\n"
     ]
    },
    {
     "name": "stdout",
     "output_type": "stream",
     "text": [
      "...epoch time: 3.975682258605957s\n",
      "...epoch 222: mean train loss=0.128471\n",
      "val eff=0.882482......val pur=0.659061......val auc=0.986037......val loss=0.140632\n",
      "---- Epoch 223 ----\n"
     ]
    },
    {
     "name": "stderr",
     "output_type": "stream",
     "text": [
      "20it [00:04,  4.90it/s]\n"
     ]
    },
    {
     "name": "stdout",
     "output_type": "stream",
     "text": [
      "...epoch time: 4.081766366958618s\n",
      "...epoch 223: mean train loss=0.127875\n",
      "val eff=0.896398......val pur=0.680369......val auc=0.988904......val loss=0.123524\n",
      "---- Epoch 224 ----\n"
     ]
    },
    {
     "name": "stderr",
     "output_type": "stream",
     "text": [
      "20it [00:03,  5.03it/s]\n"
     ]
    },
    {
     "name": "stdout",
     "output_type": "stream",
     "text": [
      "...epoch time: 3.9765400886535645s\n",
      "...epoch 224: mean train loss=0.129428\n",
      "val eff=0.891989......val pur=0.688053......val auc=0.988578......val loss=0.127309\n",
      "---- Epoch 225 ----\n"
     ]
    },
    {
     "name": "stderr",
     "output_type": "stream",
     "text": [
      "20it [00:03,  5.03it/s]\n"
     ]
    },
    {
     "name": "stdout",
     "output_type": "stream",
     "text": [
      "...epoch time: 3.9769327640533447s\n",
      "...epoch 225: mean train loss=0.128401\n",
      "val eff=0.883576......val pur=0.661603......val auc=0.986310......val loss=0.138111\n",
      "---- Epoch 226 ----\n"
     ]
    },
    {
     "name": "stderr",
     "output_type": "stream",
     "text": [
      "20it [00:03,  5.03it/s]\n"
     ]
    },
    {
     "name": "stdout",
     "output_type": "stream",
     "text": [
      "...epoch time: 3.9782464504241943s\n",
      "...epoch 226: mean train loss=0.126756\n",
      "val eff=0.894149......val pur=0.685616......val auc=0.988080......val loss=0.131758\n",
      "---- Epoch 227 ----\n"
     ]
    },
    {
     "name": "stderr",
     "output_type": "stream",
     "text": [
      "20it [00:03,  5.01it/s]\n"
     ]
    },
    {
     "name": "stdout",
     "output_type": "stream",
     "text": [
      "...epoch time: 3.9900360107421875s\n",
      "...epoch 227: mean train loss=0.127706\n",
      "val eff=0.893458......val pur=0.701423......val auc=0.989128......val loss=0.124829\n",
      "---- Epoch 228 ----\n"
     ]
    },
    {
     "name": "stderr",
     "output_type": "stream",
     "text": [
      "20it [00:03,  5.02it/s]\n"
     ]
    },
    {
     "name": "stdout",
     "output_type": "stream",
     "text": [
      "...epoch time: 3.9840922355651855s\n",
      "...epoch 228: mean train loss=0.127760\n",
      "val eff=0.880144......val pur=0.682124......val auc=0.986406......val loss=0.143422\n",
      "---- Epoch 229 ----\n"
     ]
    },
    {
     "name": "stderr",
     "output_type": "stream",
     "text": [
      "20it [00:03,  5.01it/s]\n"
     ]
    },
    {
     "name": "stdout",
     "output_type": "stream",
     "text": [
      "...epoch time: 3.9935054779052734s\n",
      "...epoch 229: mean train loss=0.127155\n",
      "val eff=0.904817......val pur=0.701054......val auc=0.989922......val loss=0.121163\n",
      "---- Epoch 230 ----\n"
     ]
    },
    {
     "name": "stderr",
     "output_type": "stream",
     "text": [
      "20it [00:03,  5.01it/s]\n"
     ]
    },
    {
     "name": "stdout",
     "output_type": "stream",
     "text": [
      "...epoch time: 3.99031662940979s\n",
      "...epoch 230: mean train loss=0.127241\n",
      "val eff=0.897397......val pur=0.690074......val auc=0.988785......val loss=0.127271\n",
      "---- Epoch 231 ----\n"
     ]
    },
    {
     "name": "stderr",
     "output_type": "stream",
     "text": [
      "20it [00:03,  5.02it/s]\n"
     ]
    },
    {
     "name": "stdout",
     "output_type": "stream",
     "text": [
      "...epoch time: 3.986752510070801s\n",
      "...epoch 231: mean train loss=0.126522\n",
      "val eff=0.886783......val pur=0.677874......val auc=0.987699......val loss=0.132011\n",
      "---- Epoch 232 ----\n"
     ]
    },
    {
     "name": "stderr",
     "output_type": "stream",
     "text": [
      "20it [00:03,  5.03it/s]\n"
     ]
    },
    {
     "name": "stdout",
     "output_type": "stream",
     "text": [
      "...epoch time: 3.9777004718780518s\n",
      "...epoch 232: mean train loss=0.126863\n",
      "val eff=0.864945......val pur=0.681773......val auc=0.986214......val loss=0.139753\n",
      "---- Epoch 233 ----\n"
     ]
    },
    {
     "name": "stderr",
     "output_type": "stream",
     "text": [
      "20it [00:03,  5.03it/s]\n"
     ]
    },
    {
     "name": "stdout",
     "output_type": "stream",
     "text": [
      "...epoch time: 3.977128028869629s\n",
      "...epoch 233: mean train loss=0.127123\n",
      "val eff=0.901064......val pur=0.697012......val auc=0.989737......val loss=0.121218\n",
      "---- Epoch 234 ----\n"
     ]
    },
    {
     "name": "stderr",
     "output_type": "stream",
     "text": [
      "20it [00:03,  5.03it/s]\n"
     ]
    },
    {
     "name": "stdout",
     "output_type": "stream",
     "text": [
      "...epoch time: 3.980710983276367s\n",
      "...epoch 234: mean train loss=0.126304\n",
      "val eff=0.904991......val pur=0.685201......val auc=0.989262......val loss=0.123649\n",
      "---- Epoch 235 ----\n"
     ]
    },
    {
     "name": "stderr",
     "output_type": "stream",
     "text": [
      "20it [00:03,  5.02it/s]\n"
     ]
    },
    {
     "name": "stdout",
     "output_type": "stream",
     "text": [
      "...epoch time: 3.981605291366577s\n",
      "...epoch 235: mean train loss=0.127390\n",
      "val eff=0.912974......val pur=0.701056......val auc=0.990779......val loss=0.114622\n",
      "---- Epoch 236 ----\n"
     ]
    },
    {
     "name": "stderr",
     "output_type": "stream",
     "text": [
      "20it [00:03,  5.03it/s]\n"
     ]
    },
    {
     "name": "stdout",
     "output_type": "stream",
     "text": [
      "...epoch time: 3.9809341430664062s\n",
      "...epoch 236: mean train loss=0.127251\n",
      "val eff=0.893411......val pur=0.703015......val auc=0.989219......val loss=0.124654\n",
      "---- Epoch 237 ----\n"
     ]
    },
    {
     "name": "stderr",
     "output_type": "stream",
     "text": [
      "20it [00:03,  5.03it/s]\n"
     ]
    },
    {
     "name": "stdout",
     "output_type": "stream",
     "text": [
      "...epoch time: 3.9806876182556152s\n",
      "...epoch 237: mean train loss=0.125782\n",
      "val eff=0.912600......val pur=0.690307......val auc=0.989949......val loss=0.121586\n",
      "---- Epoch 238 ----\n"
     ]
    },
    {
     "name": "stderr",
     "output_type": "stream",
     "text": [
      "20it [00:03,  5.03it/s]\n"
     ]
    },
    {
     "name": "stdout",
     "output_type": "stream",
     "text": [
      "...epoch time: 3.979573965072632s\n",
      "...epoch 238: mean train loss=0.125758\n",
      "val eff=0.899311......val pur=0.706493......val auc=0.990127......val loss=0.118451\n",
      "---- Epoch 239 ----\n"
     ]
    },
    {
     "name": "stderr",
     "output_type": "stream",
     "text": [
      "20it [00:03,  5.02it/s]\n"
     ]
    },
    {
     "name": "stdout",
     "output_type": "stream",
     "text": [
      "...epoch time: 3.9822487831115723s\n",
      "...epoch 239: mean train loss=0.127860\n",
      "val eff=0.898840......val pur=0.691613......val auc=0.990054......val loss=0.115656\n",
      "---- Epoch 240 ----\n"
     ]
    },
    {
     "name": "stderr",
     "output_type": "stream",
     "text": [
      "20it [00:03,  5.04it/s]\n"
     ]
    },
    {
     "name": "stdout",
     "output_type": "stream",
     "text": [
      "...epoch time: 3.971757411956787s\n",
      "...epoch 240: mean train loss=0.126006\n",
      "val eff=0.886403......val pur=0.664217......val auc=0.986361......val loss=0.142212\n",
      "---- Epoch 241 ----\n"
     ]
    },
    {
     "name": "stderr",
     "output_type": "stream",
     "text": [
      "20it [00:03,  5.02it/s]\n"
     ]
    },
    {
     "name": "stdout",
     "output_type": "stream",
     "text": [
      "...epoch time: 3.9878311157226562s\n",
      "...epoch 241: mean train loss=0.124587\n",
      "val eff=0.905739......val pur=0.683420......val auc=0.989359......val loss=0.122751\n",
      "---- Epoch 242 ----\n"
     ]
    },
    {
     "name": "stderr",
     "output_type": "stream",
     "text": [
      "20it [00:03,  5.01it/s]\n"
     ]
    },
    {
     "name": "stdout",
     "output_type": "stream",
     "text": [
      "...epoch time: 3.9941086769104004s\n",
      "...epoch 242: mean train loss=0.124252\n",
      "val eff=0.883802......val pur=0.681913......val auc=0.986935......val loss=0.139218\n",
      "---- Epoch 243 ----\n"
     ]
    },
    {
     "name": "stderr",
     "output_type": "stream",
     "text": [
      "20it [00:04,  4.91it/s]\n"
     ]
    },
    {
     "name": "stdout",
     "output_type": "stream",
     "text": [
      "...epoch time: 4.075564861297607s\n",
      "...epoch 243: mean train loss=0.123152\n",
      "val eff=0.888689......val pur=0.686750......val auc=0.987630......val loss=0.136084\n",
      "---- Epoch 244 ----\n"
     ]
    },
    {
     "name": "stderr",
     "output_type": "stream",
     "text": [
      "20it [00:03,  5.04it/s]\n"
     ]
    },
    {
     "name": "stdout",
     "output_type": "stream",
     "text": [
      "...epoch time: 3.9701123237609863s\n",
      "...epoch 244: mean train loss=0.123180\n",
      "val eff=0.914020......val pur=0.700744......val auc=0.990484......val loss=0.118073\n",
      "---- Epoch 245 ----\n"
     ]
    },
    {
     "name": "stderr",
     "output_type": "stream",
     "text": [
      "20it [00:03,  5.02it/s]\n"
     ]
    },
    {
     "name": "stdout",
     "output_type": "stream",
     "text": [
      "...epoch time: 3.988905429840088s\n",
      "...epoch 245: mean train loss=0.124526\n",
      "val eff=0.903005......val pur=0.703451......val auc=0.989853......val loss=0.121149\n",
      "---- Epoch 246 ----\n"
     ]
    },
    {
     "name": "stderr",
     "output_type": "stream",
     "text": [
      "20it [00:03,  5.02it/s]\n"
     ]
    },
    {
     "name": "stdout",
     "output_type": "stream",
     "text": [
      "...epoch time: 3.985365390777588s\n",
      "...epoch 246: mean train loss=0.123971\n",
      "val eff=0.883614......val pur=0.690563......val auc=0.988126......val loss=0.129356\n",
      "---- Epoch 247 ----\n"
     ]
    },
    {
     "name": "stderr",
     "output_type": "stream",
     "text": [
      "20it [00:03,  5.03it/s]\n"
     ]
    },
    {
     "name": "stdout",
     "output_type": "stream",
     "text": [
      "...epoch time: 3.98016095161438s\n",
      "...epoch 247: mean train loss=0.123768\n",
      "val eff=0.900232......val pur=0.710571......val auc=0.989994......val loss=0.120892\n",
      "---- Epoch 248 ----\n"
     ]
    },
    {
     "name": "stderr",
     "output_type": "stream",
     "text": [
      "20it [00:03,  5.01it/s]\n"
     ]
    },
    {
     "name": "stdout",
     "output_type": "stream",
     "text": [
      "...epoch time: 3.994945764541626s\n",
      "...epoch 248: mean train loss=0.123423\n",
      "val eff=0.889881......val pur=0.714233......val auc=0.989656......val loss=0.122486\n",
      "---- Epoch 249 ----\n"
     ]
    },
    {
     "name": "stderr",
     "output_type": "stream",
     "text": [
      "20it [00:03,  5.02it/s]\n"
     ]
    },
    {
     "name": "stdout",
     "output_type": "stream",
     "text": [
      "...epoch time: 3.9834208488464355s\n",
      "...epoch 249: mean train loss=0.123473\n",
      "val eff=0.902813......val pur=0.688143......val auc=0.989199......val loss=0.123967\n",
      "---- Epoch 250 ----\n"
     ]
    },
    {
     "name": "stderr",
     "output_type": "stream",
     "text": [
      "20it [00:03,  5.03it/s]\n"
     ]
    },
    {
     "name": "stdout",
     "output_type": "stream",
     "text": [
      "...epoch time: 3.9789392948150635s\n",
      "...epoch 250: mean train loss=0.123039\n",
      "val eff=0.887048......val pur=0.695580......val auc=0.988632......val loss=0.127416\n",
      "---- Epoch 251 ----\n"
     ]
    },
    {
     "name": "stderr",
     "output_type": "stream",
     "text": [
      "20it [00:03,  5.03it/s]\n"
     ]
    },
    {
     "name": "stdout",
     "output_type": "stream",
     "text": [
      "...epoch time: 3.977548360824585s\n",
      "...epoch 251: mean train loss=0.122122\n",
      "val eff=0.905454......val pur=0.674450......val auc=0.989300......val loss=0.122101\n",
      "---- Epoch 252 ----\n"
     ]
    },
    {
     "name": "stderr",
     "output_type": "stream",
     "text": [
      "20it [00:03,  5.03it/s]\n"
     ]
    },
    {
     "name": "stdout",
     "output_type": "stream",
     "text": [
      "...epoch time: 3.9740991592407227s\n",
      "...epoch 252: mean train loss=0.122171\n",
      "val eff=0.910730......val pur=0.690752......val auc=0.990078......val loss=0.119789\n",
      "---- Epoch 253 ----\n"
     ]
    },
    {
     "name": "stderr",
     "output_type": "stream",
     "text": [
      "20it [00:03,  5.02it/s]\n"
     ]
    },
    {
     "name": "stdout",
     "output_type": "stream",
     "text": [
      "...epoch time: 3.9830193519592285s\n",
      "...epoch 253: mean train loss=0.121753\n",
      "val eff=0.886597......val pur=0.682373......val auc=0.987755......val loss=0.132529\n",
      "---- Epoch 254 ----\n"
     ]
    },
    {
     "name": "stderr",
     "output_type": "stream",
     "text": [
      "20it [00:03,  5.02it/s]\n"
     ]
    },
    {
     "name": "stdout",
     "output_type": "stream",
     "text": [
      "...epoch time: 3.9859259128570557s\n",
      "...epoch 254: mean train loss=0.121977\n",
      "val eff=0.876252......val pur=0.683497......val auc=0.987739......val loss=0.129763\n",
      "---- Epoch 255 ----\n"
     ]
    },
    {
     "name": "stderr",
     "output_type": "stream",
     "text": [
      "20it [00:03,  5.03it/s]\n"
     ]
    },
    {
     "name": "stdout",
     "output_type": "stream",
     "text": [
      "...epoch time: 3.981067657470703s\n",
      "...epoch 255: mean train loss=0.122064\n",
      "val eff=0.901578......val pur=0.695278......val auc=0.989144......val loss=0.127227\n",
      "---- Epoch 256 ----\n"
     ]
    },
    {
     "name": "stderr",
     "output_type": "stream",
     "text": [
      "20it [00:03,  5.02it/s]\n"
     ]
    },
    {
     "name": "stdout",
     "output_type": "stream",
     "text": [
      "...epoch time: 3.986870288848877s\n",
      "...epoch 256: mean train loss=0.122036\n",
      "val eff=0.883942......val pur=0.708205......val auc=0.988843......val loss=0.127748\n",
      "---- Epoch 257 ----\n"
     ]
    },
    {
     "name": "stderr",
     "output_type": "stream",
     "text": [
      "20it [00:03,  5.01it/s]\n"
     ]
    },
    {
     "name": "stdout",
     "output_type": "stream",
     "text": [
      "...epoch time: 3.997513771057129s\n",
      "...epoch 257: mean train loss=0.122343\n",
      "val eff=0.906307......val pur=0.699179......val auc=0.989305......val loss=0.127540\n",
      "---- Epoch 258 ----\n"
     ]
    },
    {
     "name": "stderr",
     "output_type": "stream",
     "text": [
      "20it [00:03,  5.01it/s]\n"
     ]
    },
    {
     "name": "stdout",
     "output_type": "stream",
     "text": [
      "...epoch time: 3.9929301738739014s\n",
      "...epoch 258: mean train loss=0.121417\n",
      "val eff=0.891203......val pur=0.679782......val auc=0.987690......val loss=0.134691\n",
      "---- Epoch 259 ----\n"
     ]
    },
    {
     "name": "stderr",
     "output_type": "stream",
     "text": [
      "20it [00:03,  5.04it/s]\n"
     ]
    },
    {
     "name": "stdout",
     "output_type": "stream",
     "text": [
      "...epoch time: 3.9700417518615723s\n",
      "...epoch 259: mean train loss=0.121869\n",
      "val eff=0.893378......val pur=0.691653......val auc=0.989645......val loss=0.118341\n",
      "---- Epoch 260 ----\n"
     ]
    },
    {
     "name": "stderr",
     "output_type": "stream",
     "text": [
      "20it [00:03,  5.03it/s]\n"
     ]
    },
    {
     "name": "stdout",
     "output_type": "stream",
     "text": [
      "...epoch time: 3.9749233722686768s\n",
      "...epoch 260: mean train loss=0.121939\n",
      "val eff=0.883061......val pur=0.716592......val auc=0.989800......val loss=0.119571\n",
      "---- Epoch 261 ----\n"
     ]
    },
    {
     "name": "stderr",
     "output_type": "stream",
     "text": [
      "20it [00:03,  5.02it/s]\n"
     ]
    },
    {
     "name": "stdout",
     "output_type": "stream",
     "text": [
      "...epoch time: 3.9827377796173096s\n",
      "...epoch 261: mean train loss=0.122002\n",
      "val eff=0.903463......val pur=0.678323......val auc=0.989149......val loss=0.122543\n",
      "---- Epoch 262 ----\n"
     ]
    },
    {
     "name": "stderr",
     "output_type": "stream",
     "text": [
      "20it [00:03,  5.03it/s]\n"
     ]
    },
    {
     "name": "stdout",
     "output_type": "stream",
     "text": [
      "...epoch time: 3.9755067825317383s\n",
      "...epoch 262: mean train loss=0.121539\n",
      "val eff=0.890077......val pur=0.692527......val auc=0.988971......val loss=0.125053\n",
      "---- Epoch 263 ----\n"
     ]
    },
    {
     "name": "stderr",
     "output_type": "stream",
     "text": [
      "20it [00:04,  4.81it/s]\n"
     ]
    },
    {
     "name": "stdout",
     "output_type": "stream",
     "text": [
      "...epoch time: 4.162419319152832s\n",
      "...epoch 263: mean train loss=0.121372\n",
      "val eff=0.903964......val pur=0.691330......val auc=0.989140......val loss=0.126859\n",
      "---- Epoch 264 ----\n"
     ]
    },
    {
     "name": "stderr",
     "output_type": "stream",
     "text": [
      "20it [00:03,  5.04it/s]\n"
     ]
    },
    {
     "name": "stdout",
     "output_type": "stream",
     "text": [
      "...epoch time: 3.970904588699341s\n",
      "...epoch 264: mean train loss=0.121340\n",
      "val eff=0.898088......val pur=0.691015......val auc=0.988957......val loss=0.124667\n",
      "---- Epoch 265 ----\n"
     ]
    },
    {
     "name": "stderr",
     "output_type": "stream",
     "text": [
      "20it [00:04,  4.93it/s]\n"
     ]
    },
    {
     "name": "stdout",
     "output_type": "stream",
     "text": [
      "...epoch time: 4.058313608169556s\n",
      "...epoch 265: mean train loss=0.120844\n",
      "val eff=0.886589......val pur=0.687929......val auc=0.987965......val loss=0.133391\n",
      "---- Epoch 266 ----\n"
     ]
    },
    {
     "name": "stderr",
     "output_type": "stream",
     "text": [
      "20it [00:04,  4.90it/s]\n"
     ]
    },
    {
     "name": "stdout",
     "output_type": "stream",
     "text": [
      "...epoch time: 4.080798864364624s\n",
      "...epoch 266: mean train loss=0.120702\n",
      "val eff=0.878587......val pur=0.702530......val auc=0.989334......val loss=0.120186\n",
      "---- Epoch 267 ----\n"
     ]
    },
    {
     "name": "stderr",
     "output_type": "stream",
     "text": [
      "20it [00:03,  5.03it/s]\n"
     ]
    },
    {
     "name": "stdout",
     "output_type": "stream",
     "text": [
      "...epoch time: 3.975234270095825s\n",
      "...epoch 267: mean train loss=0.120679\n",
      "val eff=0.899692......val pur=0.707198......val auc=0.990263......val loss=0.117033\n",
      "---- Epoch 268 ----\n"
     ]
    },
    {
     "name": "stderr",
     "output_type": "stream",
     "text": [
      "20it [00:03,  5.02it/s]\n"
     ]
    },
    {
     "name": "stdout",
     "output_type": "stream",
     "text": [
      "...epoch time: 3.9827606678009033s\n",
      "...epoch 268: mean train loss=0.120395\n",
      "val eff=0.904167......val pur=0.705832......val auc=0.990718......val loss=0.113748\n",
      "---- Epoch 269 ----\n"
     ]
    },
    {
     "name": "stderr",
     "output_type": "stream",
     "text": [
      "20it [00:03,  5.01it/s]\n"
     ]
    },
    {
     "name": "stdout",
     "output_type": "stream",
     "text": [
      "...epoch time: 3.9945943355560303s\n",
      "...epoch 269: mean train loss=0.119983\n",
      "val eff=0.875137......val pur=0.673800......val auc=0.986728......val loss=0.136465\n",
      "---- Epoch 270 ----\n"
     ]
    },
    {
     "name": "stderr",
     "output_type": "stream",
     "text": [
      "20it [00:04,  4.92it/s]\n"
     ]
    },
    {
     "name": "stdout",
     "output_type": "stream",
     "text": [
      "...epoch time: 4.062789440155029s\n",
      "...epoch 270: mean train loss=0.120000\n",
      "val eff=0.908117......val pur=0.708392......val auc=0.990179......val loss=0.121163\n",
      "---- Epoch 271 ----\n"
     ]
    },
    {
     "name": "stderr",
     "output_type": "stream",
     "text": [
      "20it [00:03,  5.01it/s]\n"
     ]
    },
    {
     "name": "stdout",
     "output_type": "stream",
     "text": [
      "...epoch time: 3.9918367862701416s\n",
      "...epoch 271: mean train loss=0.118669\n",
      "val eff=0.910389......val pur=0.716284......val auc=0.991124......val loss=0.114429\n",
      "---- Epoch 272 ----\n"
     ]
    },
    {
     "name": "stderr",
     "output_type": "stream",
     "text": [
      "20it [00:04,  4.92it/s]\n"
     ]
    },
    {
     "name": "stdout",
     "output_type": "stream",
     "text": [
      "...epoch time: 4.070743083953857s\n",
      "...epoch 272: mean train loss=0.118843\n",
      "val eff=0.888177......val pur=0.688859......val auc=0.988684......val loss=0.125929\n",
      "---- Epoch 273 ----\n"
     ]
    },
    {
     "name": "stderr",
     "output_type": "stream",
     "text": [
      "20it [00:03,  5.05it/s]\n"
     ]
    },
    {
     "name": "stdout",
     "output_type": "stream",
     "text": [
      "...epoch time: 3.963681936264038s\n",
      "...epoch 273: mean train loss=0.118743\n",
      "val eff=0.899767......val pur=0.673823......val auc=0.988051......val loss=0.131134\n",
      "---- Epoch 274 ----\n"
     ]
    },
    {
     "name": "stderr",
     "output_type": "stream",
     "text": [
      "0it [00:00, ?it/s]\n"
     ]
    },
    {
     "ename": "KeyboardInterrupt",
     "evalue": "",
     "output_type": "error",
     "traceback": [
      "\u001b[0;31m---------------------------------------------------------------------------\u001b[0m",
      "\u001b[0;31mKeyboardInterrupt\u001b[0m                         Traceback (most recent call last)",
      "\u001b[0;32m<ipython-input-6-1135d8a4d47f>\u001b[0m in \u001b[0;36m<module>\u001b[0;34m\u001b[0m\n\u001b[1;32m     20\u001b[0m \u001b[0;32mfor\u001b[0m \u001b[0mepoch\u001b[0m \u001b[0;32min\u001b[0m \u001b[0mrange\u001b[0m\u001b[0;34m(\u001b[0m\u001b[0;36m1\u001b[0m\u001b[0;34m,\u001b[0m \u001b[0mEPOCH\u001b[0m \u001b[0;34m+\u001b[0m \u001b[0;36m1\u001b[0m\u001b[0;34m)\u001b[0m\u001b[0;34m:\u001b[0m\u001b[0;34m\u001b[0m\u001b[0;34m\u001b[0m\u001b[0m\n\u001b[1;32m     21\u001b[0m   \u001b[0mprint\u001b[0m\u001b[0;34m(\u001b[0m\u001b[0;34m\"---- Epoch {} ----\"\u001b[0m\u001b[0;34m.\u001b[0m\u001b[0mformat\u001b[0m\u001b[0;34m(\u001b[0m\u001b[0mepoch\u001b[0m\u001b[0;34m)\u001b[0m\u001b[0;34m)\u001b[0m\u001b[0;34m\u001b[0m\u001b[0;34m\u001b[0m\u001b[0m\n\u001b[0;32m---> 22\u001b[0;31m   \u001b[0mlosses\u001b[0m\u001b[0;34m,\u001b[0m \u001b[0maccs\u001b[0m\u001b[0;34m,\u001b[0m\u001b[0mtimes\u001b[0m \u001b[0;34m=\u001b[0m \u001b[0mtrain\u001b[0m\u001b[0;34m(\u001b[0m \u001b[0mmodel\u001b[0m\u001b[0;34m,\u001b[0m \u001b[0mdevice\u001b[0m\u001b[0;34m,\u001b[0m \u001b[0mtrain_loader\u001b[0m\u001b[0;34m,\u001b[0m \u001b[0moptimizer\u001b[0m\u001b[0;34m,\u001b[0m \u001b[0mepoch\u001b[0m\u001b[0;34m,\u001b[0m \u001b[0mhparams\u001b[0m\u001b[0;34m)\u001b[0m\u001b[0;34m\u001b[0m\u001b[0;34m\u001b[0m\u001b[0m\n\u001b[0m\u001b[1;32m     23\u001b[0m   \u001b[0mlosses_l\u001b[0m\u001b[0;34m.\u001b[0m\u001b[0mappend\u001b[0m\u001b[0;34m(\u001b[0m\u001b[0mlosses\u001b[0m\u001b[0;34m)\u001b[0m\u001b[0;34m\u001b[0m\u001b[0;34m\u001b[0m\u001b[0m\n\u001b[1;32m     24\u001b[0m   \u001b[0maccs_l\u001b[0m\u001b[0;34m.\u001b[0m\u001b[0mappend\u001b[0m\u001b[0;34m(\u001b[0m\u001b[0maccs\u001b[0m\u001b[0;34m)\u001b[0m\u001b[0;34m\u001b[0m\u001b[0;34m\u001b[0m\u001b[0m\n",
      "\u001b[0;32m<ipython-input-5-acb82bce6d3b>\u001b[0m in \u001b[0;36mtrain\u001b[0;34m(model, device, train_loader, optimizer, epoch, hparams)\u001b[0m\n\u001b[1;32m     14\u001b[0m         \u001b[0mloss\u001b[0m\u001b[0;34m.\u001b[0m\u001b[0mbackward\u001b[0m\u001b[0;34m(\u001b[0m\u001b[0;34m)\u001b[0m\u001b[0;34m\u001b[0m\u001b[0;34m\u001b[0m\u001b[0m\n\u001b[1;32m     15\u001b[0m         \u001b[0moptimizer\u001b[0m\u001b[0;34m.\u001b[0m\u001b[0mstep\u001b[0m\u001b[0;34m(\u001b[0m\u001b[0;34m)\u001b[0m\u001b[0;34m\u001b[0m\u001b[0;34m\u001b[0m\u001b[0m\n\u001b[0;32m---> 16\u001b[0;31m         \u001b[0mlosses\u001b[0m\u001b[0;34m.\u001b[0m\u001b[0mappend\u001b[0m\u001b[0;34m(\u001b[0m\u001b[0mloss\u001b[0m\u001b[0;34m.\u001b[0m\u001b[0mitem\u001b[0m\u001b[0;34m(\u001b[0m\u001b[0;34m)\u001b[0m\u001b[0;34m)\u001b[0m\u001b[0;34m\u001b[0m\u001b[0;34m\u001b[0m\u001b[0m\n\u001b[0m\u001b[1;32m     17\u001b[0m         \u001b[0moutput\u001b[0m \u001b[0;34m=\u001b[0m \u001b[0mtorch\u001b[0m\u001b[0;34m.\u001b[0m\u001b[0msigmoid\u001b[0m\u001b[0;34m(\u001b[0m\u001b[0moutput\u001b[0m\u001b[0;34m)\u001b[0m\u001b[0;34m\u001b[0m\u001b[0;34m\u001b[0m\u001b[0m\n\u001b[1;32m     18\u001b[0m         \u001b[0maccs\u001b[0m\u001b[0;34m.\u001b[0m\u001b[0mappend\u001b[0m\u001b[0;34m(\u001b[0m\u001b[0mbinary_acc\u001b[0m\u001b[0;34m(\u001b[0m\u001b[0my_pred\u001b[0m \u001b[0;34m=\u001b[0m \u001b[0moutput\u001b[0m\u001b[0;34m,\u001b[0m \u001b[0my_test\u001b[0m \u001b[0;34m=\u001b[0m \u001b[0mbatch\u001b[0m\u001b[0;34m.\u001b[0m\u001b[0my\u001b[0m\u001b[0;34m,\u001b[0m \u001b[0mthld\u001b[0m \u001b[0;34m=\u001b[0m \u001b[0mpreccision_acc\u001b[0m \u001b[0;34m)\u001b[0m\u001b[0;34m)\u001b[0m\u001b[0;34m\u001b[0m\u001b[0;34m\u001b[0m\u001b[0m\n",
      "\u001b[0;31mKeyboardInterrupt\u001b[0m: "
     ]
    }
   ],
   "source": [
    "EPOCH = 400\n",
    "hparams = {\n",
    "    \"num_features\": 6,\n",
    "    \"hidden\": 64,\n",
    "    \"nb_node_layer\": 3,\n",
    "    \"nb_edge_layer\": 3,\n",
    "    \"n_graph_iters\": 1,\n",
    "    \"weight\": 3.,\n",
    "}\n",
    "device = torch.device(\"cuda:0\" if torch.cuda.is_available() else \"cpu\")\n",
    "print(device)\n",
    "model = InteractionNetwork(hparams).to(device)\n",
    "optimizer = optim.Adam(model.parameters(), lr=0.01)\n",
    "scheduler = StepLR(optimizer, step_size=30,\n",
    "                       gamma=0.8) \n",
    "                         \n",
    "from time import time\n",
    "output = {'train_loss': [], 'test_loss': [], 'test_acc': []}\n",
    "losses_l, accs_l,times_l = [],[],[]\n",
    "for epoch in range(1, EPOCH + 1):\n",
    "  print(\"---- Epoch {} ----\".format(epoch))\n",
    "  losses, accs,times = train( model, device, train_loader, optimizer, epoch, hparams)\n",
    "  losses_l.append(losses)\n",
    "  accs_l.append(accs)\n",
    "  times_l.append(times)\n",
    "  validate(model, device, val_loader, hparams)\n",
    "  scheduler.step()"
   ]
  },
  {
   "cell_type": "markdown",
   "metadata": {},
   "source": [
    "## Version 1"
   ]
  },
  {
   "cell_type": "code",
   "execution_count": 18,
   "metadata": {
    "id": "XDpDnAAqN6QD"
   },
   "outputs": [],
   "source": [
    "\n",
    "###############################TUNABLE PARAMETERS###############\n",
    "#define the size of layers on the nn \n",
    "hidden_l_size = 16   #tunable parameter\n",
    "message_out = 4       #tunable parameter\n",
    "update_out = 3        #tunable parameter\n",
    "edge_attr_size = train_set.get(0).edge_attr.shape[1]\n",
    "node_f_size = train_set.get(0).x.shape[1]\n",
    "#initialize model \n",
    "model = InteractionNetwork(node_f_size = node_f_size, edge_attr_size = edge_attr_size,message_out = message_out, update_out= update_out,hidden_size = hidden_l_size).to(device)\n",
    "#MORE TUNABLE PARAMETERS\n",
    "optimizer = optim.Adam(model.parameters(), lr=0.005)\n",
    "scheduler = StepLR(optimizer, step_size=10,\n",
    "                       gamma=0.9)               #https://pytorch.org/docs/stable/generated/torch.optim.lr_scheduler.StepLR.html"
   ]
  },
  {
   "cell_type": "code",
   "execution_count": 19,
   "metadata": {},
   "outputs": [
    {
     "name": "stdout",
     "output_type": "stream",
     "text": [
      "6\n"
     ]
    }
   ],
   "source": [
    "print(node_f_size)"
   ]
  },
  {
   "cell_type": "markdown",
   "metadata": {
    "id": "ELuXtKDyOVZl"
   },
   "source": [
    "## Training model"
   ]
  },
  {
   "cell_type": "code",
   "execution_count": 22,
   "metadata": {
    "id": "SuFQvXXQObYV"
   },
   "outputs": [],
   "source": [
    "preccision_acc = 0.5\n",
    "def train( model, device, train_loader, optimizer, epoch):\n",
    "    \"\"\"train model\"\"\"\n",
    "    model.train()\n",
    "    times_list = []\n",
    "    losses = []\n",
    "    accs = []\n",
    "    epoch_t0 = time()\n",
    "    for batch_idx, data in enumerate(train_loader):\n",
    "        data = data.to(device)\n",
    "        optimizer.zero_grad()\n",
    "        output = model(data.x, data.edge_index, data.edge_attr)\n",
    "        y, output = data.y, output.squeeze(1)\n",
    "        loss = F.binary_cross_entropy(output, y, reduction='mean')\n",
    "        loss.backward()\n",
    "        optimizer.step()\n",
    "      \n",
    "        losses.append(loss.item())   \n",
    "        accs.append(binary_acc(y_pred = output, y_test = y, thld = preccision_acc ))\n",
    "    times = time()-epoch_t0\n",
    "    times_list.append(times)\n",
    "    print(f\"...epoch time: {times}s\")\n",
    "    print(f\"...epoch {epoch}: mean train loss={np.mean(losses):.6f}......train acc={np.mean(accs):.6f}\")\n",
    "    return losses, accs,times_list\n",
    "\n",
    "def validate(model, device, val_loader):\n",
    "    \"\"\"validates model, returns optimal treshold\"\"\"\n",
    "    model.eval()\n",
    "    opt_thlds, accs = [], []\n",
    "    for batch_idx, data in enumerate(val_loader):\n",
    "        data = data.to(device)\n",
    "        output = model(data.x, data.edge_index, data.edge_attr)\n",
    "        y, output = data.y, output.squeeze()\n",
    "        loss = F.binary_cross_entropy(output, y, reduction='mean').item()\n",
    "        \n",
    "        # define optimal threshold (thld) where TPR = TNR \n",
    "        diff, opt_thld, opt_acc = 100, 0, 0\n",
    "        best_tpr, best_tnr = 0, 0\n",
    "        for thld in np.arange(0.001, 0.5, 0.001):\n",
    "            TP = torch.sum((y==1) & (output>thld)).item()\n",
    "            TN = torch.sum((y==0) & (output<thld)).item()\n",
    "            FP = torch.sum((y==0) & (output>thld)).item()\n",
    "            FN = torch.sum((y==1) & (output<thld)).item()\n",
    "            acc = (TP+TN)/(TP+TN+FP+FN)\n",
    "            TPR, TNR = TP/(TP+FN), TN/(TN+FP)\n",
    "            delta = abs(TPR-TNR)\n",
    "            if (delta < diff): \n",
    "                diff, opt_thld, opt_acc = delta, thld, acc\n",
    "\n",
    "        opt_thlds.append(opt_thld)\n",
    "        accs.append(opt_acc)\n",
    "\n",
    "    print(f\"...........................................val acc={np.mean(accs):.6f}\")\n",
    "    return np.mean(opt_thlds) \n",
    "\n",
    "def test(model, device, test_loader, thld=0.5):\n",
    "    \"\"\"test model\"\"\"\n",
    "    model.eval()\n",
    "    test_t0 = time()\n",
    "    losses, accs = [], []\n",
    "    with torch.no_grad():\n",
    "        for batch_idx, data in enumerate(test_loader):\n",
    "            data = data.to(device)\n",
    "            output = model(data.x, data.edge_index, data.edge_attr)\n",
    "            acc = binary_acc(y_pred = output, y_test = data.y, thld =  thld)\n",
    "            loss = F.binary_cross_entropy(output.squeeze(1), data.y, \n",
    "                                          reduction='mean').item()\n",
    "            accs.append(acc)\n",
    "            losses.append(loss)\n",
    "    \n",
    "    #when batching works change acc for mean accs\n",
    "    print(f\"...testing time: {time()-test_t0}s\")\n",
    "    print(f'.............mean test loss={np.mean(losses):.6f}......test acc ={acc:.6f}\\n')\n",
    "    return np.mean(losses), np.mean(accs)"
   ]
  },
  {
   "cell_type": "code",
   "execution_count": 23,
   "metadata": {
    "id": "V72W26g0O7wt"
   },
   "outputs": [
    {
     "name": "stdout",
     "output_type": "stream",
     "text": [
      "---- Epoch 1 ----\n",
      "...epoch time: 0.5256659984588623s\n",
      "...epoch 1: mean train loss=0.727518......train acc=0.560408\n",
      "...........................................val acc=0.718033\n",
      "...optimal threshold 0.4917999999999999\n",
      "...testing time: 0.5323059558868408s\n",
      ".............mean test loss=0.535762......test acc =0.700559\n",
      "\n",
      "---- Epoch 2 ----\n",
      "...epoch time: 0.33099889755249023s\n",
      "...epoch 2: mean train loss=0.355135......train acc=0.863308\n",
      "...........................................val acc=0.900929\n",
      "...optimal threshold 0.41600000000000004\n",
      "...testing time: 0.35704898834228516s\n",
      ".............mean test loss=0.191701......test acc =0.902386\n",
      "\n",
      "---- Epoch 3 ----\n",
      "...epoch time: 0.3202250003814697s\n",
      "...epoch 3: mean train loss=0.218263......train acc=0.923618\n",
      "...........................................val acc=0.874572\n",
      "...optimal threshold 0.1506\n",
      "...testing time: 0.35940098762512207s\n",
      ".............mean test loss=0.191852......test acc =0.875887\n",
      "\n",
      "---- Epoch 4 ----\n",
      "...epoch time: 0.3310890197753906s\n",
      "...epoch 4: mean train loss=0.205867......train acc=0.929357\n",
      "...........................................val acc=0.883455\n",
      "...optimal threshold 0.1052\n",
      "...testing time: 0.4123377799987793s\n",
      ".............mean test loss=0.192336......test acc =0.884912\n",
      "\n",
      "---- Epoch 5 ----\n",
      "...epoch time: 0.3394918441772461s\n",
      "...epoch 5: mean train loss=0.167310......train acc=0.939311\n",
      "...........................................val acc=0.817498\n",
      "...optimal threshold 0.0021999999999999997\n",
      "...testing time: 0.3638930320739746s\n",
      ".............mean test loss=0.367110......test acc =0.817754\n",
      "\n",
      "---- Epoch 6 ----\n",
      "...epoch time: 0.33351898193359375s\n",
      "...epoch 6: mean train loss=0.142376......train acc=0.945348\n",
      "...........................................val acc=0.825304\n",
      "...optimal threshold 0.0022\n",
      "...testing time: 0.3655853271484375s\n",
      ".............mean test loss=0.340572......test acc =0.820984\n",
      "\n",
      "---- Epoch 7 ----\n",
      "...epoch time: 0.33678293228149414s\n",
      "...epoch 7: mean train loss=0.122735......train acc=0.950759\n",
      "...........................................val acc=0.826836\n",
      "...optimal threshold 0.0018000000000000002\n",
      "...testing time: 0.3661069869995117s\n",
      ".............mean test loss=0.316724......test acc =0.824326\n",
      "\n",
      "---- Epoch 8 ----\n",
      "...epoch time: 0.3397071361541748s\n",
      "...epoch 8: mean train loss=0.107530......train acc=0.954775\n",
      "...........................................val acc=0.850200\n",
      "...optimal threshold 0.004200000000000001\n",
      "...testing time: 0.3689701557159424s\n",
      ".............mean test loss=0.275329......test acc =0.848961\n",
      "\n",
      "---- Epoch 9 ----\n",
      "...epoch time: 0.33850979804992676s\n",
      "...epoch 9: mean train loss=0.098898......train acc=0.957967\n",
      "...........................................val acc=0.863543\n",
      "...optimal threshold 0.004399999999999999\n",
      "...testing time: 0.3678908348083496s\n",
      ".............mean test loss=0.246357......test acc =0.862101\n",
      "\n",
      "---- Epoch 10 ----\n",
      "...epoch time: 0.339188814163208s\n",
      "...epoch 10: mean train loss=0.097025......train acc=0.958735\n",
      "...........................................val acc=0.859524\n",
      "...optimal threshold 0.0021999999999999997\n",
      "...testing time: 0.3677191734313965s\n",
      ".............mean test loss=0.259840......test acc =0.853723\n",
      "\n",
      "---- Epoch 11 ----\n",
      "...epoch time: 0.34199094772338867s\n",
      "...epoch 11: mean train loss=0.093592......train acc=0.960009\n",
      "...........................................val acc=0.884645\n",
      "...optimal threshold 0.008\n",
      "...testing time: 0.3634469509124756s\n",
      ".............mean test loss=0.223757......test acc =0.874353\n",
      "\n",
      "---- Epoch 12 ----\n",
      "...epoch time: 0.33954596519470215s\n",
      "...epoch 12: mean train loss=0.089810......train acc=0.961822\n",
      "...........................................val acc=0.894985\n",
      "...optimal threshold 0.0154\n",
      "...testing time: 0.3685591220855713s\n",
      ".............mean test loss=0.246356......test acc =0.892181\n",
      "\n",
      "---- Epoch 13 ----\n",
      "...epoch time: 0.33900904655456543s\n",
      "...epoch 13: mean train loss=0.085516......train acc=0.963689\n",
      "...........................................val acc=0.894491\n",
      "...optimal threshold 0.0112\n",
      "...testing time: 0.3638589382171631s\n",
      ".............mean test loss=0.223172......test acc =0.894752\n",
      "\n",
      "---- Epoch 14 ----\n",
      "...epoch time: 0.3497500419616699s\n",
      "...epoch 14: mean train loss=0.084194......train acc=0.964691\n",
      "...........................................val acc=0.909923\n",
      "...optimal threshold 0.0356\n",
      "...testing time: 0.43373894691467285s\n",
      ".............mean test loss=0.287911......test acc =0.912431\n",
      "\n",
      "---- Epoch 15 ----\n",
      "...epoch time: 0.3913760185241699s\n",
      "...epoch 15: mean train loss=0.081835......train acc=0.965876\n",
      "...........................................val acc=0.907793\n",
      "...optimal threshold 0.019200000000000002\n",
      "...testing time: 0.38229918479919434s\n",
      ".............mean test loss=0.216344......test acc =0.905188\n",
      "\n",
      "---- Epoch 16 ----\n",
      "...epoch time: 0.33577823638916016s\n",
      "...epoch 16: mean train loss=0.080514......train acc=0.966633\n",
      "...........................................val acc=0.907569\n",
      "...optimal threshold 0.0156\n",
      "...testing time: 0.3647439479827881s\n",
      ".............mean test loss=0.182013......test acc =0.906433\n",
      "\n",
      "---- Epoch 17 ----\n",
      "...epoch time: 0.33521008491516113s\n",
      "...epoch 17: mean train loss=0.077574......train acc=0.967782\n",
      "...........................................val acc=0.915017\n",
      "...optimal threshold 0.036000000000000004\n",
      "...testing time: 0.37726807594299316s\n",
      ".............mean test loss=0.232750......test acc =0.913751\n",
      "\n",
      "---- Epoch 18 ----\n",
      "...epoch time: 0.3338961601257324s\n",
      "...epoch 18: mean train loss=0.075871......train acc=0.968787\n",
      "...........................................val acc=0.908892\n",
      "...optimal threshold 0.012\n",
      "...testing time: 0.3614232540130615s\n",
      ".............mean test loss=0.192673......test acc =0.910707\n",
      "\n",
      "---- Epoch 19 ----\n",
      "...epoch time: 0.3381068706512451s\n",
      "...epoch 19: mean train loss=0.073961......train acc=0.969872\n",
      "...........................................val acc=0.917619\n",
      "...optimal threshold 0.0166\n",
      "...testing time: 0.360245943069458s\n",
      ".............mean test loss=0.157314......test acc =0.917048\n",
      "\n",
      "---- Epoch 20 ----\n",
      "...epoch time: 0.34354090690612793s\n",
      "...epoch 20: mean train loss=0.073910......train acc=0.969811\n",
      "...........................................val acc=0.926012\n",
      "...optimal threshold 0.061\n",
      "...testing time: 0.3900868892669678s\n",
      ".............mean test loss=0.186977......test acc =0.923620\n",
      "\n",
      "---- Epoch 21 ----\n",
      "...epoch time: 0.3747270107269287s\n",
      "...epoch 21: mean train loss=0.070056......train acc=0.971748\n",
      "...........................................val acc=0.918906\n",
      "...optimal threshold 0.015\n",
      "...testing time: 0.4059171676635742s\n",
      ".............mean test loss=0.150541......test acc =0.920474\n",
      "\n",
      "---- Epoch 22 ----\n",
      "...epoch time: 0.37708282470703125s\n",
      "...epoch 22: mean train loss=0.068816......train acc=0.972545\n",
      "...........................................val acc=0.922006\n",
      "...optimal threshold 0.0158\n",
      "...testing time: 0.36627888679504395s\n",
      ".............mean test loss=0.143103......test acc =0.920076\n",
      "\n",
      "---- Epoch 23 ----\n",
      "...epoch time: 0.36026883125305176s\n",
      "...epoch 23: mean train loss=0.066964......train acc=0.973802\n",
      "...........................................val acc=0.924834\n",
      "...optimal threshold 0.023600000000000003\n",
      "...testing time: 0.3511028289794922s\n",
      ".............mean test loss=0.179072......test acc =0.925774\n",
      "\n",
      "---- Epoch 24 ----\n",
      "...epoch time: 0.33430004119873047s\n",
      "...epoch 24: mean train loss=0.064663......train acc=0.974727\n",
      "...........................................val acc=0.931567\n",
      "...optimal threshold 0.034600000000000006\n",
      "...testing time: 0.350980281829834s\n",
      ".............mean test loss=0.174238......test acc =0.926798\n",
      "\n",
      "---- Epoch 25 ----\n",
      "...epoch time: 0.34473276138305664s\n",
      "...epoch 25: mean train loss=0.062916......train acc=0.975731\n",
      "...........................................val acc=0.932739\n",
      "...optimal threshold 0.027000000000000003\n",
      "...testing time: 0.3709089756011963s\n",
      ".............mean test loss=0.175604......test acc =0.930428\n",
      "\n",
      "---- Epoch 26 ----\n",
      "...epoch time: 0.3374340534210205s\n",
      "...epoch 26: mean train loss=0.060423......train acc=0.976754\n",
      "...........................................val acc=0.934047\n",
      "...optimal threshold 0.026600000000000002\n",
      "...testing time: 0.3531661033630371s\n",
      ".............mean test loss=0.127783......test acc =0.932764\n",
      "\n",
      "---- Epoch 27 ----\n",
      "...epoch time: 0.33944082260131836s\n",
      "...epoch 27: mean train loss=0.060097......train acc=0.976936\n",
      "...........................................val acc=0.934635\n",
      "...optimal threshold 0.06820000000000001\n"
     ]
    },
    {
     "name": "stdout",
     "output_type": "stream",
     "text": [
      "...testing time: 0.3625001907348633s\n",
      ".............mean test loss=0.256581......test acc =0.926769\n",
      "\n",
      "---- Epoch 28 ----\n",
      "...epoch time: 0.33971405029296875s\n",
      "...epoch 28: mean train loss=0.057184......train acc=0.978341\n",
      "...........................................val acc=0.941635\n",
      "...optimal threshold 0.0412\n",
      "...testing time: 0.35855722427368164s\n",
      ".............mean test loss=0.174693......test acc =0.942473\n",
      "\n",
      "---- Epoch 29 ----\n",
      "...epoch time: 0.34351277351379395s\n",
      "...epoch 29: mean train loss=0.056925......train acc=0.978500\n",
      "...........................................val acc=0.926838\n",
      "...optimal threshold 0.06920000000000001\n",
      "...testing time: 0.3609349727630615s\n",
      ".............mean test loss=0.487075......test acc =0.927616\n",
      "\n",
      "---- Epoch 30 ----\n",
      "...epoch time: 0.3461019992828369s\n",
      "...epoch 30: mean train loss=0.053374......train acc=0.980233\n",
      "...........................................val acc=0.930478\n",
      "...optimal threshold 0.08180000000000001\n",
      "...testing time: 0.36406397819519043s\n",
      ".............mean test loss=0.504424......test acc =0.932423\n",
      "\n",
      "---- Epoch 31 ----\n",
      "...epoch time: 0.3695108890533447s\n",
      "...epoch 31: mean train loss=0.051310......train acc=0.980666\n",
      "...........................................val acc=0.943748\n",
      "...optimal threshold 0.021800000000000003\n",
      "...testing time: 0.36592984199523926s\n",
      ".............mean test loss=0.127169......test acc =0.942296\n",
      "\n",
      "---- Epoch 32 ----\n",
      "...epoch time: 0.34615397453308105s\n",
      "...epoch 32: mean train loss=0.050909......train acc=0.981033\n",
      "...........................................val acc=0.948548\n",
      "...optimal threshold 0.0434\n",
      "...testing time: 0.36022281646728516s\n",
      ".............mean test loss=0.114380......test acc =0.948797\n",
      "\n",
      "---- Epoch 33 ----\n",
      "...epoch time: 0.3465440273284912s\n",
      "...epoch 33: mean train loss=0.051261......train acc=0.980670\n",
      "...........................................val acc=0.948621\n",
      "...optimal threshold 0.040600000000000004\n",
      "...testing time: 0.3611271381378174s\n",
      ".............mean test loss=0.116502......test acc =0.947082\n",
      "\n",
      "---- Epoch 34 ----\n",
      "...epoch time: 0.3440511226654053s\n",
      "...epoch 34: mean train loss=0.047635......train acc=0.982310\n",
      "...........................................val acc=0.950094\n",
      "...optimal threshold 0.04\n",
      "...testing time: 0.36399197578430176s\n",
      ".............mean test loss=0.153470......test acc =0.952804\n",
      "\n",
      "---- Epoch 35 ----\n",
      "...epoch time: 0.35237789154052734s\n",
      "...epoch 35: mean train loss=0.046616......train acc=0.982446\n",
      "...........................................val acc=0.944466\n",
      "...optimal threshold 0.0626\n",
      "...testing time: 0.3637423515319824s\n",
      ".............mean test loss=0.250124......test acc =0.944009\n",
      "\n",
      "---- Epoch 36 ----\n",
      "...epoch time: 0.344804048538208s\n",
      "...epoch 36: mean train loss=0.047570......train acc=0.981908\n",
      "...........................................val acc=0.954761\n",
      "...optimal threshold 0.051000000000000004\n",
      "...testing time: 0.3676011562347412s\n",
      ".............mean test loss=0.091241......test acc =0.956074\n",
      "\n",
      "---- Epoch 37 ----\n",
      "...epoch time: 0.3446619510650635s\n",
      "...epoch 37: mean train loss=0.046236......train acc=0.982803\n",
      "...........................................val acc=0.948180\n",
      "...optimal threshold 0.07820000000000002\n",
      "...testing time: 0.36607885360717773s\n",
      ".............mean test loss=0.262280......test acc =0.953429\n",
      "\n",
      "---- Epoch 38 ----\n",
      "...epoch time: 0.3513600826263428s\n",
      "...epoch 38: mean train loss=0.045204......train acc=0.983127\n",
      "...........................................val acc=0.953352\n",
      "...optimal threshold 0.038\n",
      "...testing time: 0.3688771724700928s\n",
      ".............mean test loss=0.117378......test acc =0.953071\n",
      "\n",
      "---- Epoch 39 ----\n",
      "...epoch time: 0.3370349407196045s\n",
      "...epoch 39: mean train loss=0.046134......train acc=0.982730\n",
      "...........................................val acc=0.953082\n",
      "...optimal threshold 0.0246\n",
      "...testing time: 0.3724651336669922s\n",
      ".............mean test loss=0.096770......test acc =0.951833\n",
      "\n",
      "---- Epoch 40 ----\n",
      "...epoch time: 0.34047889709472656s\n",
      "...epoch 40: mean train loss=0.042534......train acc=0.983979\n",
      "...........................................val acc=0.955274\n",
      "...optimal threshold 0.030400000000000003\n",
      "...testing time: 0.3694002628326416s\n",
      ".............mean test loss=0.098836......test acc =0.952865\n",
      "\n",
      "---- Epoch 41 ----\n",
      "...epoch time: 0.35100483894348145s\n",
      "...epoch 41: mean train loss=0.042567......train acc=0.983932\n",
      "...........................................val acc=0.957655\n",
      "...optimal threshold 0.0278\n",
      "...testing time: 0.36582398414611816s\n",
      ".............mean test loss=0.097600......test acc =0.959145\n",
      "\n",
      "---- Epoch 42 ----\n",
      "...epoch time: 0.3404409885406494s\n",
      "...epoch 42: mean train loss=0.043304......train acc=0.983531\n",
      "...........................................val acc=0.945736\n",
      "...optimal threshold 0.0762\n",
      "...testing time: 0.3615989685058594s\n",
      ".............mean test loss=0.290410......test acc =0.951625\n",
      "\n",
      "---- Epoch 43 ----\n",
      "...epoch time: 0.3478379249572754s\n",
      "...epoch 43: mean train loss=0.040934......train acc=0.984737\n",
      "...........................................val acc=0.943837\n",
      "...optimal threshold 0.078\n",
      "...testing time: 0.3573429584503174s\n",
      ".............mean test loss=0.347686......test acc =0.940132\n",
      "\n",
      "---- Epoch 44 ----\n",
      "...epoch time: 0.344757080078125s\n",
      "...epoch 44: mean train loss=0.041323......train acc=0.984442\n",
      "...........................................val acc=0.954586\n",
      "...optimal threshold 0.028999999999999998\n",
      "...testing time: 0.41632723808288574s\n",
      ".............mean test loss=0.117955......test acc =0.952350\n",
      "\n",
      "---- Epoch 45 ----\n",
      "...epoch time: 0.3790709972381592s\n",
      "...epoch 45: mean train loss=0.043002......train acc=0.984131\n",
      "...........................................val acc=0.955353\n",
      "...optimal threshold 0.031000000000000007\n",
      "...testing time: 0.38516926765441895s\n",
      ".............mean test loss=0.113318......test acc =0.958946\n",
      "\n",
      "---- Epoch 46 ----\n",
      "...epoch time: 0.33632493019104004s\n",
      "...epoch 46: mean train loss=0.040244......train acc=0.985053\n",
      "...........................................val acc=0.948958\n",
      "...optimal threshold 0.010400000000000001\n",
      "...testing time: 0.36114001274108887s\n",
      ".............mean test loss=0.110100......test acc =0.947944\n",
      "\n",
      "---- Epoch 47 ----\n",
      "...epoch time: 0.338270902633667s\n",
      "...epoch 47: mean train loss=0.039047......train acc=0.985337\n",
      "...........................................val acc=0.959691\n",
      "...optimal threshold 0.033800000000000004\n",
      "...testing time: 0.35558080673217773s\n",
      ".............mean test loss=0.083695......test acc =0.959790\n",
      "\n",
      "---- Epoch 48 ----\n",
      "...epoch time: 0.3422703742980957s\n",
      "...epoch 48: mean train loss=0.037949......train acc=0.985608\n",
      "...........................................val acc=0.953073\n",
      "...optimal threshold 0.0142\n",
      "...testing time: 0.3648850917816162s\n",
      ".............mean test loss=0.104158......test acc =0.952379\n",
      "\n",
      "---- Epoch 49 ----\n",
      "...epoch time: 0.34151601791381836s\n",
      "...epoch 49: mean train loss=0.037209......train acc=0.986025\n",
      "...........................................val acc=0.959318\n",
      "...optimal threshold 0.045000000000000005\n",
      "...testing time: 0.36231088638305664s\n",
      ".............mean test loss=0.094670......test acc =0.955841\n",
      "\n",
      "---- Epoch 50 ----\n",
      "...epoch time: 0.3437821865081787s\n",
      "...epoch 50: mean train loss=0.036522......train acc=0.986328\n",
      "...........................................val acc=0.954025\n",
      "...optimal threshold 0.011600000000000001\n",
      "...testing time: 0.36205291748046875s\n",
      ".............mean test loss=0.101453......test acc =0.954493\n",
      "\n",
      "---- Epoch 51 ----\n",
      "...epoch time: 0.34538984298706055s\n",
      "...epoch 51: mean train loss=0.035194......train acc=0.986685\n",
      "...........................................val acc=0.959387\n",
      "...optimal threshold 0.032\n",
      "...testing time: 0.3632161617279053s\n",
      ".............mean test loss=0.090411......test acc =0.958804\n",
      "\n",
      "---- Epoch 52 ----\n",
      "...epoch time: 0.34878110885620117s\n",
      "...epoch 52: mean train loss=0.036491......train acc=0.986315\n",
      "...........................................val acc=0.958863\n",
      "...optimal threshold 0.028600000000000004\n",
      "...testing time: 0.37031078338623047s\n",
      ".............mean test loss=0.092764......test acc =0.959304\n",
      "\n",
      "---- Epoch 53 ----\n",
      "...epoch time: 0.3414888381958008s\n",
      "...epoch 53: mean train loss=0.034996......train acc=0.986788\n",
      "...........................................val acc=0.950956\n",
      "...optimal threshold 0.0708\n",
      "...testing time: 0.36221885681152344s\n",
      ".............mean test loss=0.231401......test acc =0.955462\n",
      "\n",
      "---- Epoch 54 ----\n"
     ]
    },
    {
     "name": "stdout",
     "output_type": "stream",
     "text": [
      "...epoch time: 0.3388690948486328s\n",
      "...epoch 54: mean train loss=0.035832......train acc=0.986618\n",
      "...........................................val acc=0.958784\n",
      "...optimal threshold 0.041999999999999996\n",
      "...testing time: 0.3599050045013428s\n",
      ".............mean test loss=0.108061......test acc =0.958125\n",
      "\n",
      "---- Epoch 55 ----\n",
      "...epoch time: 0.34082889556884766s\n",
      "...epoch 55: mean train loss=0.035156......train acc=0.986656\n",
      "...........................................val acc=0.946593\n",
      "...optimal threshold 0.0066\n",
      "...testing time: 0.36124205589294434s\n",
      ".............mean test loss=0.115430......test acc =0.947806\n",
      "\n",
      "---- Epoch 56 ----\n",
      "...epoch time: 0.3406789302825928s\n",
      "...epoch 56: mean train loss=0.034961......train acc=0.986774\n",
      "...........................................val acc=0.951934\n",
      "...optimal threshold 0.01\n",
      "...testing time: 0.36231088638305664s\n",
      ".............mean test loss=0.101251......test acc =0.954399\n",
      "\n",
      "---- Epoch 57 ----\n",
      "...epoch time: 0.34322524070739746s\n",
      "...epoch 57: mean train loss=0.033928......train acc=0.987185\n",
      "...........................................val acc=0.951076\n",
      "...optimal threshold 0.027600000000000003\n",
      "...testing time: 0.3696930408477783s\n",
      ".............mean test loss=0.156966......test acc =0.958727\n",
      "\n",
      "---- Epoch 58 ----\n",
      "...epoch time: 0.3438379764556885s\n",
      "...epoch 58: mean train loss=0.033790......train acc=0.987190\n",
      "...........................................val acc=0.958341\n",
      "...optimal threshold 0.020200000000000003\n",
      "...testing time: 0.35289502143859863s\n",
      ".............mean test loss=0.085970......test acc =0.958074\n",
      "\n",
      "---- Epoch 59 ----\n",
      "...epoch time: 0.3474271297454834s\n",
      "...epoch 59: mean train loss=0.033216......train acc=0.987367\n",
      "...........................................val acc=0.960182\n",
      "...optimal threshold 0.05700000000000001\n",
      "...testing time: 0.3627920150756836s\n",
      ".............mean test loss=0.112670......test acc =0.961017\n",
      "\n",
      "---- Epoch 60 ----\n",
      "...epoch time: 0.33929920196533203s\n",
      "...epoch 60: mean train loss=0.033152......train acc=0.987530\n",
      "...........................................val acc=0.957461\n",
      "...optimal threshold 0.030000000000000006\n",
      "...testing time: 0.36025500297546387s\n",
      ".............mean test loss=0.100408......test acc =0.961256\n",
      "\n",
      "---- Epoch 61 ----\n",
      "...epoch time: 0.33750295639038086s\n",
      "...epoch 61: mean train loss=0.033136......train acc=0.987660\n",
      "...........................................val acc=0.960092\n",
      "...optimal threshold 0.022\n",
      "...testing time: 0.36255478858947754s\n",
      ".............mean test loss=0.092855......test acc =0.960636\n",
      "\n",
      "---- Epoch 62 ----\n",
      "...epoch time: 0.3635060787200928s\n",
      "...epoch 62: mean train loss=0.032606......train acc=0.987470\n",
      "...........................................val acc=0.956192\n",
      "...optimal threshold 0.055400000000000005\n",
      "...testing time: 0.3691120147705078s\n",
      ".............mean test loss=0.155448......test acc =0.962691\n",
      "\n",
      "---- Epoch 63 ----\n",
      "...epoch time: 0.33927083015441895s\n",
      "...epoch 63: mean train loss=0.033462......train acc=0.987357\n",
      "...........................................val acc=0.960172\n",
      "...optimal threshold 0.030000000000000006\n",
      "...testing time: 0.3658418655395508s\n",
      ".............mean test loss=0.086407......test acc =0.962252\n",
      "\n",
      "---- Epoch 64 ----\n",
      "...epoch time: 0.34081482887268066s\n",
      "...epoch 64: mean train loss=0.032329......train acc=0.987620\n",
      "...........................................val acc=0.916982\n",
      "...optimal threshold 0.27260000000000006\n",
      "...testing time: 0.36458396911621094s\n",
      ".............mean test loss=0.940269......test acc =0.927116\n",
      "\n",
      "---- Epoch 65 ----\n",
      "...epoch time: 0.3401179313659668s\n",
      "...epoch 65: mean train loss=0.031754......train acc=0.988027\n",
      "...........................................val acc=0.961122\n",
      "...optimal threshold 0.0194\n",
      "...testing time: 0.35896825790405273s\n",
      ".............mean test loss=0.082082......test acc =0.962557\n",
      "\n",
      "---- Epoch 66 ----\n",
      "...epoch time: 0.33319807052612305s\n",
      "...epoch 66: mean train loss=0.032436......train acc=0.987839\n",
      "...........................................val acc=0.956146\n",
      "...optimal threshold 0.0112\n",
      "...testing time: 0.3613548278808594s\n",
      ".............mean test loss=0.092571......test acc =0.957844\n",
      "\n",
      "---- Epoch 67 ----\n",
      "...epoch time: 0.3293468952178955s\n",
      "...epoch 67: mean train loss=0.032174......train acc=0.987757\n",
      "...........................................val acc=0.962778\n",
      "...optimal threshold 0.0308\n",
      "...testing time: 0.36400675773620605s\n",
      ".............mean test loss=0.076540......test acc =0.962368\n",
      "\n",
      "---- Epoch 68 ----\n",
      "...epoch time: 0.3355677127838135s\n",
      "...epoch 68: mean train loss=0.031114......train acc=0.988408\n",
      "...........................................val acc=0.966366\n",
      "...optimal threshold 0.08120000000000001\n",
      "...testing time: 0.3667268753051758s\n",
      ".............mean test loss=0.073254......test acc =0.965357\n",
      "\n",
      "---- Epoch 69 ----\n",
      "...epoch time: 0.32805490493774414s\n",
      "...epoch 69: mean train loss=0.031769......train acc=0.987945\n",
      "...........................................val acc=0.961260\n",
      "...optimal threshold 0.0264\n",
      "...testing time: 0.3589308261871338s\n",
      ".............mean test loss=0.089168......test acc =0.963464\n",
      "\n",
      "---- Epoch 70 ----\n",
      "...epoch time: 0.34111905097961426s\n",
      "...epoch 70: mean train loss=0.030905......train acc=0.988346\n",
      "...........................................val acc=0.964986\n",
      "...optimal threshold 0.064\n",
      "...testing time: 0.3752450942993164s\n",
      ".............mean test loss=0.088026......test acc =0.965541\n",
      "\n",
      "---- Epoch 71 ----\n",
      "...epoch time: 0.34807395935058594s\n",
      "...epoch 71: mean train loss=0.030957......train acc=0.988512\n",
      "...........................................val acc=0.956816\n",
      "...optimal threshold 0.0514\n",
      "...testing time: 0.36774206161499023s\n",
      ".............mean test loss=0.143584......test acc =0.955195\n",
      "\n",
      "---- Epoch 72 ----\n",
      "...epoch time: 0.33682990074157715s\n",
      "...epoch 72: mean train loss=0.032584......train acc=0.987652\n",
      "...........................................val acc=0.950415\n",
      "...optimal threshold 0.0418\n",
      "...testing time: 0.35761475563049316s\n",
      ".............mean test loss=0.189612......test acc =0.958536\n",
      "\n",
      "---- Epoch 73 ----\n",
      "...epoch time: 0.33591389656066895s\n",
      "...epoch 73: mean train loss=0.033917......train acc=0.987064\n",
      "...........................................val acc=0.958107\n",
      "...optimal threshold 0.0434\n",
      "...testing time: 0.3606538772583008s\n",
      ".............mean test loss=0.100696......test acc =0.956668\n",
      "\n",
      "---- Epoch 74 ----\n",
      "...epoch time: 0.34125399589538574s\n",
      "...epoch 74: mean train loss=0.029993......train acc=0.988549\n",
      "...........................................val acc=0.963967\n",
      "...optimal threshold 0.0402\n",
      "...testing time: 0.36238718032836914s\n",
      ".............mean test loss=0.084043......test acc =0.965532\n",
      "\n",
      "---- Epoch 75 ----\n",
      "...epoch time: 0.3431248664855957s\n",
      "...epoch 75: mean train loss=0.029871......train acc=0.988724\n",
      "...........................................val acc=0.960868\n",
      "...optimal threshold 0.0568\n",
      "...testing time: 0.37039804458618164s\n",
      ".............mean test loss=0.124928......test acc =0.960515\n",
      "\n",
      "---- Epoch 76 ----\n",
      "...epoch time: 0.33939194679260254s\n",
      "...epoch 76: mean train loss=0.029939......train acc=0.988700\n",
      "...........................................val acc=0.962386\n",
      "...optimal threshold 0.0204\n",
      "...testing time: 0.36153292655944824s\n",
      ".............mean test loss=0.077493......test acc =0.964176\n",
      "\n",
      "---- Epoch 77 ----\n",
      "...epoch time: 0.34310030937194824s\n",
      "...epoch 77: mean train loss=0.029149......train acc=0.988980\n",
      "...........................................val acc=0.965931\n",
      "...optimal threshold 0.047\n",
      "...testing time: 0.3623511791229248s\n",
      ".............mean test loss=0.074676......test acc =0.968429\n",
      "\n",
      "---- Epoch 78 ----\n",
      "...epoch time: 0.3425259590148926s\n",
      "...epoch 78: mean train loss=0.030524......train acc=0.988489\n",
      "...........................................val acc=0.962929\n",
      "...optimal threshold 0.0194\n",
      "...testing time: 0.36066579818725586s\n",
      ".............mean test loss=0.078468......test acc =0.965584\n",
      "\n",
      "---- Epoch 79 ----\n",
      "...epoch time: 0.34529900550842285s\n",
      "...epoch 79: mean train loss=0.029704......train acc=0.988771\n",
      "...........................................val acc=0.965076\n",
      "...optimal threshold 0.0262\n",
      "...testing time: 0.3648240566253662s\n",
      ".............mean test loss=0.069242......test acc =0.966420\n",
      "\n",
      "---- Epoch 80 ----\n",
      "...epoch time: 0.34316277503967285s\n",
      "...epoch 80: mean train loss=0.029495......train acc=0.988991\n",
      "...........................................val acc=0.939911\n",
      "...optimal threshold 0.18719999999999998\n"
     ]
    },
    {
     "name": "stdout",
     "output_type": "stream",
     "text": [
      "...testing time: 0.36766505241394043s\n",
      ".............mean test loss=0.614284......test acc =0.960443\n",
      "\n",
      "---- Epoch 81 ----\n",
      "...epoch time: 0.34853100776672363s\n",
      "...epoch 81: mean train loss=0.028941......train acc=0.988909\n",
      "...........................................val acc=0.965722\n",
      "...optimal threshold 0.0566\n",
      "...testing time: 0.3664698600769043s\n",
      ".............mean test loss=0.095700......test acc =0.970762\n",
      "\n",
      "---- Epoch 82 ----\n",
      "...epoch time: 0.34923219680786133s\n",
      "...epoch 82: mean train loss=0.028869......train acc=0.989058\n",
      "...........................................val acc=0.960547\n",
      "...optimal threshold 0.023600000000000003\n",
      "...testing time: 0.3685157299041748s\n",
      ".............mean test loss=0.102489......test acc =0.964061\n",
      "\n",
      "---- Epoch 83 ----\n",
      "...epoch time: 0.3498058319091797s\n",
      "...epoch 83: mean train loss=0.029121......train acc=0.988915\n",
      "...........................................val acc=0.964228\n",
      "...optimal threshold 0.028600000000000004\n",
      "...testing time: 0.36580991744995117s\n",
      ".............mean test loss=0.073013......test acc =0.965053\n",
      "\n",
      "---- Epoch 84 ----\n",
      "...epoch time: 0.3403310775756836s\n",
      "...epoch 84: mean train loss=0.028734......train acc=0.989149\n",
      "...........................................val acc=0.969087\n",
      "...optimal threshold 0.047599999999999996\n",
      "...testing time: 0.3651559352874756s\n",
      ".............mean test loss=0.063036......test acc =0.970002\n",
      "\n",
      "---- Epoch 85 ----\n",
      "...epoch time: 0.3412470817565918s\n",
      "...epoch 85: mean train loss=0.028880......train acc=0.989184\n",
      "...........................................val acc=0.965278\n",
      "...optimal threshold 0.024600000000000004\n",
      "...testing time: 0.3661539554595947s\n",
      ".............mean test loss=0.071556......test acc =0.965688\n",
      "\n",
      "---- Epoch 86 ----\n",
      "...epoch time: 0.345369815826416s\n",
      "...epoch 86: mean train loss=0.028732......train acc=0.989082\n",
      "...........................................val acc=0.967820\n",
      "...optimal threshold 0.0416\n",
      "...testing time: 0.36973023414611816s\n",
      ".............mean test loss=0.065304......test acc =0.970279\n",
      "\n",
      "---- Epoch 87 ----\n",
      "...epoch time: 0.3496119976043701s\n",
      "...epoch 87: mean train loss=0.027753......train acc=0.989420\n",
      "...........................................val acc=0.965179\n",
      "...optimal threshold 0.0824\n",
      "...testing time: 0.36795496940612793s\n",
      ".............mean test loss=0.126349......test acc =0.969837\n",
      "\n",
      "---- Epoch 88 ----\n",
      "...epoch time: 0.3337547779083252s\n",
      "...epoch 88: mean train loss=0.028353......train acc=0.989133\n",
      "...........................................val acc=0.968909\n",
      "...optimal threshold 0.0752\n",
      "...testing time: 0.3746647834777832s\n",
      ".............mean test loss=0.083665......test acc =0.971490\n",
      "\n",
      "---- Epoch 89 ----\n",
      "...epoch time: 0.348160982131958s\n",
      "...epoch 89: mean train loss=0.027744......train acc=0.989388\n",
      "...........................................val acc=0.967700\n",
      "...optimal threshold 0.044599999999999994\n",
      "...testing time: 0.37274599075317383s\n",
      ".............mean test loss=0.077206......test acc =0.966875\n",
      "\n",
      "---- Epoch 90 ----\n",
      "...epoch time: 0.3494539260864258s\n",
      "...epoch 90: mean train loss=0.027370......train acc=0.989606\n",
      "...........................................val acc=0.970678\n",
      "...optimal threshold 0.05940000000000001\n",
      "...testing time: 0.3682377338409424s\n",
      ".............mean test loss=0.063130......test acc =0.971748\n",
      "\n",
      "---- Epoch 91 ----\n",
      "...epoch time: 0.36495494842529297s\n",
      "...epoch 91: mean train loss=0.027455......train acc=0.989513\n",
      "...........................................val acc=0.969138\n",
      "...optimal threshold 0.0318\n",
      "...testing time: 0.3653709888458252s\n",
      ".............mean test loss=0.067148......test acc =0.971143\n",
      "\n",
      "---- Epoch 92 ----\n",
      "...epoch time: 0.3555290699005127s\n",
      "...epoch 92: mean train loss=0.027158......train acc=0.989664\n",
      "...........................................val acc=0.967552\n",
      "...optimal threshold 0.0746\n",
      "...testing time: 0.4171779155731201s\n",
      ".............mean test loss=0.097496......test acc =0.966507\n",
      "\n",
      "---- Epoch 93 ----\n",
      "...epoch time: 0.3982400894165039s\n",
      "...epoch 93: mean train loss=0.027233......train acc=0.989637\n",
      "...........................................val acc=0.970252\n",
      "...optimal threshold 0.0618\n",
      "...testing time: 0.3578190803527832s\n",
      ".............mean test loss=0.061873......test acc =0.969406\n",
      "\n",
      "---- Epoch 94 ----\n",
      "...epoch time: 0.34922194480895996s\n",
      "...epoch 94: mean train loss=0.027747......train acc=0.989311\n",
      "...........................................val acc=0.968172\n",
      "...optimal threshold 0.037200000000000004\n",
      "...testing time: 0.3577127456665039s\n",
      ".............mean test loss=0.067644......test acc =0.968413\n",
      "\n",
      "---- Epoch 95 ----\n",
      "...epoch time: 0.3443870544433594s\n",
      "...epoch 95: mean train loss=0.051427......train acc=0.983071\n",
      "...........................................val acc=0.920940\n",
      "...optimal threshold 0.0042\n",
      "...testing time: 0.42232394218444824s\n",
      ".............mean test loss=0.174061......test acc =0.921303\n",
      "\n",
      "---- Epoch 96 ----\n",
      "...epoch time: 0.3559732437133789s\n",
      "...epoch 96: mean train loss=0.060152......train acc=0.977720\n",
      "...........................................val acc=0.954027\n",
      "...optimal threshold 0.06200000000000001\n",
      "...testing time: 0.38877391815185547s\n",
      ".............mean test loss=0.082577......test acc =0.951857\n",
      "\n",
      "---- Epoch 97 ----\n",
      "...epoch time: 0.37546372413635254s\n",
      "...epoch 97: mean train loss=0.037861......train acc=0.985605\n",
      "...........................................val acc=0.962359\n",
      "...optimal threshold 0.06920000000000001\n",
      "...testing time: 0.364764928817749s\n",
      ".............mean test loss=0.075426......test acc =0.961107\n",
      "\n",
      "---- Epoch 98 ----\n",
      "...epoch time: 0.3402130603790283s\n",
      "...epoch 98: mean train loss=0.033034......train acc=0.987264\n",
      "...........................................val acc=0.962907\n",
      "...optimal threshold 0.0374\n",
      "...testing time: 0.3626399040222168s\n",
      ".............mean test loss=0.072361......test acc =0.964739\n",
      "\n",
      "---- Epoch 99 ----\n",
      "...epoch time: 0.34294700622558594s\n",
      "...epoch 99: mean train loss=0.031391......train acc=0.987913\n",
      "...........................................val acc=0.959247\n",
      "...optimal threshold 0.08059999999999999\n",
      "...testing time: 0.3587319850921631s\n",
      ".............mean test loss=0.135545......test acc =0.967128\n",
      "\n",
      "---- Epoch 100 ----\n",
      "...epoch time: 0.34310197830200195s\n",
      "...epoch 100: mean train loss=0.030488......train acc=0.988288\n",
      "...........................................val acc=0.966531\n",
      "...optimal threshold 0.0914\n",
      "...testing time: 0.3656761646270752s\n",
      ".............mean test loss=0.076296......test acc =0.967498\n",
      "\n",
      "---- Epoch 101 ----\n",
      "...epoch time: 0.34438300132751465s\n",
      "...epoch 101: mean train loss=0.029246......train acc=0.988698\n",
      "...........................................val acc=0.960949\n",
      "...optimal threshold 0.0722\n",
      "...testing time: 0.3657870292663574s\n",
      ".............mean test loss=0.128688......test acc =0.965676\n",
      "\n",
      "---- Epoch 102 ----\n",
      "...epoch time: 0.34900569915771484s\n",
      "...epoch 102: mean train loss=0.029067......train acc=0.988834\n",
      "...........................................val acc=0.966161\n",
      "...optimal threshold 0.0414\n",
      "...testing time: 0.3635740280151367s\n",
      ".............mean test loss=0.069145......test acc =0.968843\n",
      "\n",
      "---- Epoch 103 ----\n",
      "...epoch time: 0.349498987197876s\n",
      "...epoch 103: mean train loss=0.028728......train acc=0.988953\n",
      "...........................................val acc=0.970283\n",
      "...optimal threshold 0.1056\n",
      "...testing time: 0.3679330348968506s\n",
      ".............mean test loss=0.064327......test acc =0.970925\n",
      "\n",
      "---- Epoch 104 ----\n",
      "...epoch time: 0.35398411750793457s\n",
      "...epoch 104: mean train loss=0.028275......train acc=0.989120\n",
      "...........................................val acc=0.968348\n",
      "...optimal threshold 0.0442\n",
      "...testing time: 0.3743007183074951s\n",
      ".............mean test loss=0.067816......test acc =0.971171\n",
      "\n",
      "---- Epoch 105 ----\n",
      "...epoch time: 0.35146379470825195s\n",
      "...epoch 105: mean train loss=0.028242......train acc=0.989226\n",
      "...........................................val acc=0.964731\n",
      "...optimal threshold 0.08900000000000001\n",
      "...testing time: 0.3724558353424072s\n",
      ".............mean test loss=0.120241......test acc =0.968525\n",
      "\n",
      "---- Epoch 106 ----\n",
      "...epoch time: 0.3470306396484375s\n",
      "...epoch 106: mean train loss=0.027730......train acc=0.989344\n",
      "...........................................val acc=0.970488\n",
      "...optimal threshold 0.06960000000000001\n",
      "...testing time: 0.36836695671081543s\n",
      ".............mean test loss=0.062435......test acc =0.972651\n",
      "\n",
      "---- Epoch 107 ----\n",
      "...epoch time: 0.3494269847869873s\n",
      "...epoch 107: mean train loss=0.027441......train acc=0.989474\n"
     ]
    },
    {
     "name": "stdout",
     "output_type": "stream",
     "text": [
      "...........................................val acc=0.971179\n",
      "...optimal threshold 0.0734\n",
      "...testing time: 0.36925530433654785s\n",
      ".............mean test loss=0.061199......test acc =0.970150\n",
      "\n",
      "---- Epoch 108 ----\n",
      "...epoch time: 0.35231685638427734s\n",
      "...epoch 108: mean train loss=0.027035......train acc=0.989642\n",
      "...........................................val acc=0.970440\n",
      "...optimal threshold 0.058800000000000005\n",
      "...testing time: 0.37026214599609375s\n",
      ".............mean test loss=0.066067......test acc =0.972387\n",
      "\n",
      "---- Epoch 109 ----\n",
      "...epoch time: 0.35133910179138184s\n",
      "...epoch 109: mean train loss=0.026833......train acc=0.989692\n",
      "...........................................val acc=0.971387\n",
      "...optimal threshold 0.0636\n",
      "...testing time: 0.3687279224395752s\n",
      ".............mean test loss=0.063349......test acc =0.970377\n",
      "\n",
      "---- Epoch 110 ----\n",
      "...epoch time: 0.3523252010345459s\n",
      "...epoch 110: mean train loss=0.026578......train acc=0.989848\n",
      "...........................................val acc=0.966978\n",
      "...optimal threshold 0.04560000000000001\n",
      "...testing time: 0.36838698387145996s\n",
      ".............mean test loss=0.080936......test acc =0.971478\n",
      "\n",
      "---- Epoch 111 ----\n",
      "...epoch time: 0.3506340980529785s\n",
      "...epoch 111: mean train loss=0.026176......train acc=0.990040\n",
      "...........................................val acc=0.967400\n",
      "...optimal threshold 0.14320000000000002\n",
      "...testing time: 0.3695249557495117s\n",
      ".............mean test loss=0.134661......test acc =0.971211\n",
      "\n",
      "---- Epoch 112 ----\n",
      "...epoch time: 0.34604477882385254s\n",
      "...epoch 112: mean train loss=0.026807......train acc=0.989641\n",
      "...........................................val acc=0.962211\n",
      "...optimal threshold 0.1834\n",
      "...testing time: 0.3703789710998535s\n",
      ".............mean test loss=0.177913......test acc =0.967512\n",
      "\n",
      "---- Epoch 113 ----\n",
      "...epoch time: 0.34702610969543457s\n",
      "...epoch 113: mean train loss=0.026646......train acc=0.989749\n",
      "...........................................val acc=0.966496\n",
      "...optimal threshold 0.0782\n",
      "...testing time: 0.3716249465942383s\n",
      ".............mean test loss=0.112501......test acc =0.967610\n",
      "\n",
      "---- Epoch 114 ----\n",
      "...epoch time: 0.35022807121276855s\n",
      "...epoch 114: mean train loss=0.025700......train acc=0.990243\n",
      "...........................................val acc=0.970278\n",
      "...optimal threshold 0.08220000000000001\n",
      "...testing time: 0.3730478286743164s\n",
      ".............mean test loss=0.082952......test acc =0.969119\n",
      "\n",
      "---- Epoch 115 ----\n",
      "...epoch time: 0.3501770496368408s\n",
      "...epoch 115: mean train loss=0.025816......train acc=0.990203\n",
      "...........................................val acc=0.970231\n",
      "...optimal threshold 0.08700000000000001\n",
      "...testing time: 0.3673868179321289s\n",
      ".............mean test loss=0.090076......test acc =0.973864\n",
      "\n",
      "---- Epoch 116 ----\n",
      "...epoch time: 0.35259103775024414s\n",
      "...epoch 116: mean train loss=0.025265......train acc=0.990347\n",
      "...........................................val acc=0.972053\n",
      "...optimal threshold 0.0534\n",
      "...testing time: 0.42676806449890137s\n",
      ".............mean test loss=0.061423......test acc =0.973557\n",
      "\n",
      "---- Epoch 117 ----\n",
      "...epoch time: 0.38566017150878906s\n",
      "...epoch 117: mean train loss=0.025242......train acc=0.990215\n",
      "...........................................val acc=0.964506\n",
      "...optimal threshold 0.0674\n",
      "...testing time: 0.3651621341705322s\n",
      ".............mean test loss=0.139271......test acc =0.968648\n",
      "\n",
      "---- Epoch 118 ----\n",
      "...epoch time: 0.40549206733703613s\n",
      "...epoch 118: mean train loss=0.025376......train acc=0.990288\n",
      "...........................................val acc=0.972474\n",
      "...optimal threshold 0.061399999999999996\n",
      "...testing time: 0.4129199981689453s\n",
      ".............mean test loss=0.059920......test acc =0.973793\n",
      "\n",
      "---- Epoch 119 ----\n",
      "...epoch time: 0.3472738265991211s\n",
      "...epoch 119: mean train loss=0.025003......train acc=0.990423\n",
      "...........................................val acc=0.960681\n",
      "...optimal threshold 0.1316\n",
      "...testing time: 0.37620997428894043s\n",
      ".............mean test loss=0.179247......test acc =0.961272\n",
      "\n",
      "---- Epoch 120 ----\n",
      "...epoch time: 0.3642439842224121s\n",
      "...epoch 120: mean train loss=0.025470......train acc=0.990240\n",
      "...........................................val acc=0.967806\n",
      "...optimal threshold 0.0776\n",
      "...testing time: 0.4090561866760254s\n",
      ".............mean test loss=0.097960......test acc =0.970225\n",
      "\n",
      "---- Epoch 121 ----\n",
      "...epoch time: 0.38501524925231934s\n",
      "...epoch 121: mean train loss=0.024833......train acc=0.990505\n",
      "...........................................val acc=0.971730\n",
      "...optimal threshold 0.052000000000000005\n",
      "...testing time: 0.3526480197906494s\n",
      ".............mean test loss=0.062452......test acc =0.971276\n",
      "\n",
      "---- Epoch 122 ----\n",
      "...epoch time: 0.3435399532318115s\n",
      "...epoch 122: mean train loss=0.024728......train acc=0.990528\n",
      "...........................................val acc=0.971847\n",
      "...optimal threshold 0.041600000000000005\n",
      "...testing time: 0.35909414291381836s\n",
      ".............mean test loss=0.064344......test acc =0.972456\n",
      "\n",
      "---- Epoch 123 ----\n",
      "...epoch time: 0.3362598419189453s\n",
      "...epoch 123: mean train loss=0.024662......train acc=0.990518\n",
      "...........................................val acc=0.957406\n",
      "...optimal threshold 0.11960000000000001\n",
      "...testing time: 0.3589491844177246s\n",
      ".............mean test loss=0.244035......test acc =0.955393\n",
      "\n",
      "---- Epoch 124 ----\n",
      "...epoch time: 0.33559584617614746s\n",
      "...epoch 124: mean train loss=0.024147......train acc=0.990760\n",
      "...........................................val acc=0.970447\n",
      "...optimal threshold 0.0734\n",
      "...testing time: 0.35940003395080566s\n",
      ".............mean test loss=0.087048......test acc =0.975116\n",
      "\n",
      "---- Epoch 125 ----\n",
      "...epoch time: 0.33670806884765625s\n",
      "...epoch 125: mean train loss=0.024257......train acc=0.990721\n",
      "...........................................val acc=0.964432\n",
      "...optimal threshold 0.1192\n",
      "...testing time: 0.359943151473999s\n",
      ".............mean test loss=0.176286......test acc =0.967338\n",
      "\n",
      "---- Epoch 126 ----\n",
      "...epoch time: 0.337648868560791s\n",
      "...epoch 126: mean train loss=0.024257......train acc=0.990763\n",
      "...........................................val acc=0.972327\n",
      "...optimal threshold 0.0824\n",
      "...testing time: 0.36487913131713867s\n",
      ".............mean test loss=0.068769......test acc =0.975185\n",
      "\n",
      "---- Epoch 127 ----\n",
      "...epoch time: 0.34714603424072266s\n",
      "...epoch 127: mean train loss=0.023930......train acc=0.990874\n",
      "...........................................val acc=0.972331\n",
      "...optimal threshold 0.064\n",
      "...testing time: 0.36382007598876953s\n",
      ".............mean test loss=0.064428......test acc =0.972964\n",
      "\n",
      "---- Epoch 128 ----\n",
      "...epoch time: 0.35099291801452637s\n",
      "...epoch 128: mean train loss=0.024157......train acc=0.990795\n",
      "...........................................val acc=0.972848\n",
      "...optimal threshold 0.0568\n",
      "...testing time: 0.3642868995666504s\n",
      ".............mean test loss=0.058826......test acc =0.972240\n",
      "\n",
      "---- Epoch 129 ----\n",
      "...epoch time: 0.3479938507080078s\n",
      "...epoch 129: mean train loss=0.024129......train acc=0.990750\n",
      "...........................................val acc=0.969526\n",
      "...optimal threshold 0.0772\n",
      "...testing time: 0.36818575859069824s\n",
      ".............mean test loss=0.107822......test acc =0.971407\n",
      "\n",
      "---- Epoch 130 ----\n",
      "...epoch time: 0.3478877544403076s\n",
      "...epoch 130: mean train loss=0.024068......train acc=0.990771\n",
      "...........................................val acc=0.971355\n",
      "...optimal threshold 0.081\n",
      "...testing time: 0.36214280128479004s\n",
      ".............mean test loss=0.083683......test acc =0.971860\n",
      "\n",
      "---- Epoch 131 ----\n",
      "...epoch time: 0.348391056060791s\n",
      "...epoch 131: mean train loss=0.024067......train acc=0.990719\n",
      "...........................................val acc=0.972187\n",
      "...optimal threshold 0.041800000000000004\n",
      "...testing time: 0.3675711154937744s\n",
      ".............mean test loss=0.062670......test acc =0.972164\n",
      "\n",
      "---- Epoch 132 ----\n",
      "...epoch time: 0.3454430103302002s\n",
      "...epoch 132: mean train loss=0.023932......train acc=0.990790\n",
      "...........................................val acc=0.971557\n",
      "...optimal threshold 0.089\n",
      "...testing time: 0.36243605613708496s\n",
      ".............mean test loss=0.076872......test acc =0.973802\n",
      "\n",
      "---- Epoch 133 ----\n",
      "...epoch time: 0.3448011875152588s\n",
      "...epoch 133: mean train loss=0.023701......train acc=0.990895\n",
      "...........................................val acc=0.961000\n",
      "...optimal threshold 0.125\n",
      "...testing time: 0.3637821674346924s\n",
      ".............mean test loss=0.206715......test acc =0.962759\n",
      "\n",
      "---- Epoch 134 ----\n"
     ]
    },
    {
     "name": "stdout",
     "output_type": "stream",
     "text": [
      "...epoch time: 0.33963894844055176s\n",
      "...epoch 134: mean train loss=0.024101......train acc=0.990819\n",
      "...........................................val acc=0.963782\n",
      "...optimal threshold 0.11099999999999999\n",
      "...testing time: 0.42678403854370117s\n",
      ".............mean test loss=0.150407......test acc =0.967226\n",
      "\n",
      "---- Epoch 135 ----\n",
      "...epoch time: 0.3427889347076416s\n",
      "...epoch 135: mean train loss=0.023613......train acc=0.991006\n",
      "...........................................val acc=0.965679\n",
      "...optimal threshold 0.1136\n",
      "...testing time: 0.3626289367675781s\n",
      ".............mean test loss=0.146413......test acc =0.970067\n",
      "\n",
      "---- Epoch 136 ----\n",
      "...epoch time: 0.34616589546203613s\n",
      "...epoch 136: mean train loss=0.023446......train acc=0.991135\n",
      "...........................................val acc=0.973557\n",
      "...optimal threshold 0.05920000000000001\n",
      "...testing time: 0.35987091064453125s\n",
      ".............mean test loss=0.063064......test acc =0.975239\n",
      "\n",
      "---- Epoch 137 ----\n",
      "...epoch time: 0.33896899223327637s\n",
      "...epoch 137: mean train loss=0.023621......train acc=0.991025\n",
      "...........................................val acc=0.973096\n",
      "...optimal threshold 0.061399999999999996\n",
      "...testing time: 0.36327409744262695s\n",
      ".............mean test loss=0.059065......test acc =0.975688\n",
      "\n",
      "---- Epoch 138 ----\n",
      "...epoch time: 0.34427404403686523s\n",
      "...epoch 138: mean train loss=0.023381......train acc=0.991095\n",
      "...........................................val acc=0.975069\n",
      "...optimal threshold 0.065\n",
      "...testing time: 0.36004209518432617s\n",
      ".............mean test loss=0.055155......test acc =0.976358\n",
      "\n",
      "---- Epoch 139 ----\n",
      "...epoch time: 0.3396451473236084s\n",
      "...epoch 139: mean train loss=0.023248......train acc=0.991181\n",
      "...........................................val acc=0.971945\n",
      "...optimal threshold 0.035800000000000005\n",
      "...testing time: 0.3607208728790283s\n",
      ".............mean test loss=0.062410......test acc =0.973041\n",
      "\n",
      "---- Epoch 140 ----\n",
      "...epoch time: 0.3401782512664795s\n",
      "...epoch 140: mean train loss=0.023297......train acc=0.991134\n",
      "...........................................val acc=0.972653\n",
      "...optimal threshold 0.0674\n",
      "...testing time: 0.3608531951904297s\n",
      ".............mean test loss=0.072695......test acc =0.973307\n",
      "\n",
      "---- Epoch 141 ----\n",
      "...epoch time: 0.3417201042175293s\n",
      "...epoch 141: mean train loss=0.023007......train acc=0.991219\n",
      "...........................................val acc=0.966206\n",
      "...optimal threshold 0.1038\n",
      "...testing time: 0.35909581184387207s\n",
      ".............mean test loss=0.133234......test acc =0.964983\n",
      "\n",
      "---- Epoch 142 ----\n",
      "...epoch time: 0.3453340530395508s\n",
      "...epoch 142: mean train loss=0.023114......train acc=0.991247\n",
      "...........................................val acc=0.971045\n",
      "...optimal threshold 0.1052\n",
      "...testing time: 0.3628509044647217s\n",
      ".............mean test loss=0.095703......test acc =0.965709\n",
      "\n",
      "---- Epoch 143 ----\n",
      "...epoch time: 0.3489358425140381s\n",
      "...epoch 143: mean train loss=0.022968......train acc=0.991238\n",
      "...........................................val acc=0.973447\n",
      "...optimal threshold 0.03860000000000001\n",
      "...testing time: 0.3686339855194092s\n",
      ".............mean test loss=0.061568......test acc =0.971965\n",
      "\n",
      "---- Epoch 144 ----\n",
      "...epoch time: 0.3476448059082031s\n",
      "...epoch 144: mean train loss=0.023453......train acc=0.991085\n",
      "...........................................val acc=0.965105\n",
      "...optimal threshold 0.08020000000000001\n",
      "...testing time: 0.3692936897277832s\n",
      ".............mean test loss=0.171718......test acc =0.967398\n",
      "\n",
      "---- Epoch 145 ----\n",
      "...epoch time: 0.3466470241546631s\n",
      "...epoch 145: mean train loss=0.022983......train acc=0.991208\n",
      "...........................................val acc=0.954142\n",
      "...optimal threshold 0.2242\n",
      "...testing time: 0.3655581474304199s\n",
      ".............mean test loss=0.348363......test acc =0.956134\n",
      "\n",
      "---- Epoch 146 ----\n",
      "...epoch time: 0.34932804107666016s\n",
      "...epoch 146: mean train loss=0.022986......train acc=0.991209\n",
      "...........................................val acc=0.973203\n",
      "...optimal threshold 0.068\n",
      "...testing time: 0.36852312088012695s\n",
      ".............mean test loss=0.070103......test acc =0.973588\n",
      "\n",
      "---- Epoch 147 ----\n",
      "...epoch time: 0.367264986038208s\n",
      "...epoch 147: mean train loss=0.022894......train acc=0.991293\n",
      "...........................................val acc=0.967041\n",
      "...optimal threshold 0.08220000000000001\n",
      "...testing time: 0.36219000816345215s\n",
      ".............mean test loss=0.138202......test acc =0.968739\n",
      "\n",
      "---- Epoch 148 ----\n",
      "...epoch time: 0.34789204597473145s\n",
      "...epoch 148: mean train loss=0.022641......train acc=0.991340\n",
      "...........................................val acc=0.970313\n",
      "...optimal threshold 0.0484\n",
      "...testing time: 0.36337804794311523s\n",
      ".............mean test loss=0.087832......test acc =0.970523\n",
      "\n",
      "---- Epoch 149 ----\n",
      "...epoch time: 0.34322476387023926s\n",
      "...epoch 149: mean train loss=0.022993......train acc=0.991251\n",
      "...........................................val acc=0.972920\n",
      "...optimal threshold 0.0688\n",
      "...testing time: 0.36553311347961426s\n",
      ".............mean test loss=0.062753......test acc =0.975143\n",
      "\n",
      "---- Epoch 150 ----\n",
      "...epoch time: 0.3423008918762207s\n",
      "...epoch 150: mean train loss=0.023111......train acc=0.991180\n",
      "...........................................val acc=0.971276\n",
      "...optimal threshold 0.05620000000000001\n",
      "...testing time: 0.3686561584472656s\n",
      ".............mean test loss=0.082934......test acc =0.968880\n",
      "\n",
      "---- Epoch 151 ----\n",
      "...epoch time: 0.3448498249053955s\n",
      "...epoch 151: mean train loss=0.022793......train acc=0.991420\n",
      "...........................................val acc=0.966156\n",
      "...optimal threshold 0.0824\n",
      "...testing time: 0.3657660484313965s\n",
      ".............mean test loss=0.132006......test acc =0.963745\n",
      "\n",
      "---- Epoch 152 ----\n",
      "...epoch time: 0.3470938205718994s\n",
      "...epoch 152: mean train loss=0.022463......train acc=0.991532\n",
      "...........................................val acc=0.961999\n",
      "...optimal threshold 0.0836\n",
      "...testing time: 0.3587198257446289s\n",
      ".............mean test loss=0.170580......test acc =0.965632\n",
      "\n",
      "---- Epoch 153 ----\n",
      "...epoch time: 0.33928871154785156s\n",
      "...epoch 153: mean train loss=0.022367......train acc=0.991439\n",
      "...........................................val acc=0.969520\n",
      "...optimal threshold 0.0726\n",
      "...testing time: 0.3630409240722656s\n",
      ".............mean test loss=0.098634......test acc =0.966400\n",
      "\n",
      "---- Epoch 154 ----\n",
      "...epoch time: 0.3499882221221924s\n",
      "...epoch 154: mean train loss=0.022230......train acc=0.991514\n",
      "...........................................val acc=0.964077\n",
      "...optimal threshold 0.07820000000000002\n",
      "...testing time: 0.3616209030151367s\n",
      ".............mean test loss=0.169870......test acc =0.970474\n",
      "\n",
      "---- Epoch 155 ----\n",
      "...epoch time: 0.344649076461792s\n",
      "...epoch 155: mean train loss=0.022608......train acc=0.991470\n",
      "...........................................val acc=0.970290\n",
      "...optimal threshold 0.07500000000000001\n",
      "...testing time: 0.3666539192199707s\n",
      ".............mean test loss=0.090370......test acc =0.969909\n",
      "\n",
      "---- Epoch 156 ----\n",
      "...epoch time: 0.3475008010864258s\n",
      "...epoch 156: mean train loss=0.022392......train acc=0.991527\n",
      "...........................................val acc=0.968347\n",
      "...optimal threshold 0.04\n",
      "...testing time: 0.3602640628814697s\n",
      ".............mean test loss=0.095692......test acc =0.970527\n",
      "\n",
      "---- Epoch 157 ----\n",
      "...epoch time: 0.34223413467407227s\n",
      "...epoch 157: mean train loss=0.022496......train acc=0.991534\n",
      "...........................................val acc=0.970212\n",
      "...optimal threshold 0.0658\n",
      "...testing time: 0.3651111125946045s\n",
      ".............mean test loss=0.096851......test acc =0.971715\n",
      "\n",
      "---- Epoch 158 ----\n",
      "...epoch time: 0.3414270877838135s\n",
      "...epoch 158: mean train loss=0.022269......train acc=0.991527\n",
      "...........................................val acc=0.968067\n",
      "...optimal threshold 0.0786\n",
      "...testing time: 0.36879611015319824s\n",
      ".............mean test loss=0.119929......test acc =0.974034\n",
      "\n",
      "---- Epoch 159 ----\n",
      "...epoch time: 0.34504222869873047s\n",
      "...epoch 159: mean train loss=0.022304......train acc=0.991533\n",
      "...........................................val acc=0.972502\n",
      "...optimal threshold 0.0512\n",
      "...testing time: 0.3688070774078369s\n",
      ".............mean test loss=0.072861......test acc =0.974182\n",
      "\n",
      "---- Epoch 160 ----\n",
      "...epoch time: 0.3433959484100342s\n",
      "...epoch 160: mean train loss=0.022302......train acc=0.991562\n",
      "...........................................val acc=0.972669\n",
      "...optimal threshold 0.0806\n"
     ]
    },
    {
     "name": "stdout",
     "output_type": "stream",
     "text": [
      "...testing time: 0.3530576229095459s\n",
      ".............mean test loss=0.074544......test acc =0.977026\n",
      "\n",
      "---- Epoch 161 ----\n",
      "...epoch time: 0.36878275871276855s\n",
      "...epoch 161: mean train loss=0.022131......train acc=0.991683\n",
      "...........................................val acc=0.964074\n",
      "...optimal threshold 0.0922\n",
      "...testing time: 0.3511359691619873s\n",
      ".............mean test loss=0.168831......test acc =0.971521\n",
      "\n",
      "---- Epoch 162 ----\n",
      "...epoch time: 0.3420076370239258s\n",
      "...epoch 162: mean train loss=0.022200......train acc=0.991571\n",
      "...........................................val acc=0.974169\n",
      "...optimal threshold 0.06420000000000001\n",
      "...testing time: 0.352708101272583s\n",
      ".............mean test loss=0.059230......test acc =0.974990\n",
      "\n",
      "---- Epoch 163 ----\n",
      "...epoch time: 0.34563493728637695s\n",
      "...epoch 163: mean train loss=0.021984......train acc=0.991644\n",
      "...........................................val acc=0.970663\n",
      "...optimal threshold 0.049400000000000006\n",
      "...testing time: 0.34903502464294434s\n",
      ".............mean test loss=0.076680......test acc =0.972806\n",
      "\n",
      "---- Epoch 164 ----\n",
      "...epoch time: 0.3254508972167969s\n",
      "...epoch 164: mean train loss=0.021853......train acc=0.991800\n",
      "...........................................val acc=0.958835\n",
      "...optimal threshold 0.09659999999999999\n",
      "...testing time: 0.35790514945983887s\n",
      ".............mean test loss=0.217197......test acc =0.962379\n",
      "\n",
      "---- Epoch 165 ----\n",
      "...epoch time: 0.33471202850341797s\n",
      "...epoch 165: mean train loss=0.022097......train acc=0.991614\n",
      "...........................................val acc=0.975422\n",
      "...optimal threshold 0.0492\n",
      "...testing time: 0.3507249355316162s\n",
      ".............mean test loss=0.055844......test acc =0.977963\n",
      "\n",
      "---- Epoch 166 ----\n",
      "...epoch time: 0.3361537456512451s\n",
      "...epoch 166: mean train loss=0.021909......train acc=0.991686\n",
      "...........................................val acc=0.958854\n",
      "...optimal threshold 0.0824\n",
      "...testing time: 0.3618428707122803s\n",
      ".............mean test loss=0.248677......test acc =0.969180\n",
      "\n",
      "---- Epoch 167 ----\n",
      "...epoch time: 0.3420259952545166s\n",
      "...epoch 167: mean train loss=0.021979......train acc=0.991742\n",
      "...........................................val acc=0.972669\n",
      "...optimal threshold 0.084\n",
      "...testing time: 0.3599569797515869s\n",
      ".............mean test loss=0.073802......test acc =0.976784\n",
      "\n",
      "---- Epoch 168 ----\n",
      "...epoch time: 0.34863710403442383s\n",
      "...epoch 168: mean train loss=0.021938......train acc=0.991631\n",
      "...........................................val acc=0.961738\n",
      "...optimal threshold 0.0782\n",
      "...testing time: 0.3613250255584717s\n",
      ".............mean test loss=0.170944......test acc =0.954062\n",
      "\n",
      "---- Epoch 169 ----\n",
      "...epoch time: 0.3442392349243164s\n",
      "...epoch 169: mean train loss=0.021922......train acc=0.991611\n",
      "...........................................val acc=0.973499\n",
      "...optimal threshold 0.048\n",
      "...testing time: 0.36460208892822266s\n",
      ".............mean test loss=0.063853......test acc =0.976577\n",
      "\n",
      "---- Epoch 170 ----\n",
      "...epoch time: 0.4436070919036865s\n",
      "...epoch 170: mean train loss=0.021646......train acc=0.991894\n",
      "...........................................val acc=0.965256\n",
      "...optimal threshold 0.0538\n",
      "...testing time: 0.4000236988067627s\n",
      ".............mean test loss=0.121467......test acc =0.968731\n",
      "\n",
      "---- Epoch 171 ----\n",
      "...epoch time: 0.38385772705078125s\n",
      "...epoch 171: mean train loss=0.021779......train acc=0.991777\n",
      "...........................................val acc=0.972340\n",
      "...optimal threshold 0.0254\n",
      "...testing time: 0.3596527576446533s\n",
      ".............mean test loss=0.065656......test acc =0.973427\n",
      "\n",
      "---- Epoch 172 ----\n",
      "...epoch time: 0.3385932445526123s\n",
      "...epoch 172: mean train loss=0.021885......train acc=0.991727\n",
      "...........................................val acc=0.972501\n",
      "...optimal threshold 0.056600000000000004\n",
      "...testing time: 0.35999584197998047s\n",
      ".............mean test loss=0.074698......test acc =0.976984\n",
      "\n",
      "---- Epoch 173 ----\n",
      "...epoch time: 0.3459639549255371s\n",
      "...epoch 173: mean train loss=0.021556......train acc=0.991818\n",
      "...........................................val acc=0.963883\n",
      "...optimal threshold 0.12079999999999999\n",
      "...testing time: 0.36613917350769043s\n",
      ".............mean test loss=0.168438......test acc =0.968561\n",
      "\n",
      "---- Epoch 174 ----\n",
      "...epoch time: 0.3448331356048584s\n",
      "...epoch 174: mean train loss=0.022177......train acc=0.991550\n",
      "...........................................val acc=0.969418\n",
      "...optimal threshold 0.093\n",
      "...testing time: 0.37311697006225586s\n",
      ".............mean test loss=0.111661......test acc =0.972715\n",
      "\n",
      "---- Epoch 175 ----\n",
      "...epoch time: 0.34944701194763184s\n",
      "...epoch 175: mean train loss=0.021560......train acc=0.991790\n",
      "...........................................val acc=0.972762\n",
      "...optimal threshold 0.07320000000000002\n",
      "...testing time: 0.3622260093688965s\n",
      ".............mean test loss=0.078981......test acc =0.976147\n",
      "\n",
      "---- Epoch 176 ----\n",
      "...epoch time: 0.3464787006378174s\n",
      "...epoch 176: mean train loss=0.021445......train acc=0.991927\n",
      "...........................................val acc=0.974753\n",
      "...optimal threshold 0.042800000000000005\n",
      "...testing time: 0.37114524841308594s\n",
      ".............mean test loss=0.060118......test acc =0.975809\n",
      "\n",
      "---- Epoch 177 ----\n",
      "...epoch time: 0.34942197799682617s\n",
      "...epoch 177: mean train loss=0.021639......train acc=0.991810\n",
      "...........................................val acc=0.946099\n",
      "...optimal threshold 0.21400000000000002\n",
      "...testing time: 0.36543798446655273s\n",
      ".............mean test loss=0.491755......test acc =0.962964\n",
      "\n",
      "---- Epoch 178 ----\n",
      "...epoch time: 0.3657717704772949s\n",
      "...epoch 178: mean train loss=0.021579......train acc=0.991829\n",
      "...........................................val acc=0.972671\n",
      "...optimal threshold 0.06820000000000001\n",
      "...testing time: 0.36395907402038574s\n",
      ".............mean test loss=0.077685......test acc =0.976362\n",
      "\n",
      "---- Epoch 179 ----\n",
      "...epoch time: 0.3513069152832031s\n",
      "...epoch 179: mean train loss=0.021569......train acc=0.991776\n",
      "...........................................val acc=0.973169\n",
      "...optimal threshold 0.021200000000000004\n",
      "...testing time: 0.36097097396850586s\n",
      ".............mean test loss=0.068694......test acc =0.974904\n",
      "\n",
      "---- Epoch 180 ----\n",
      "...epoch time: 0.5552449226379395s\n",
      "...epoch 180: mean train loss=0.021689......train acc=0.991686\n",
      "...........................................val acc=0.970662\n",
      "...optimal threshold 0.0514\n",
      "...testing time: 0.6163239479064941s\n",
      ".............mean test loss=0.094796......test acc =0.970075\n",
      "\n",
      "---- Epoch 181 ----\n",
      "...epoch time: 0.4753909111022949s\n",
      "...epoch 181: mean train loss=0.021466......train acc=0.991859\n",
      "...........................................val acc=0.968511\n",
      "...optimal threshold 0.1014\n",
      "...testing time: 0.4465830326080322s\n",
      ".............mean test loss=0.137142......test acc =0.970694\n",
      "\n",
      "---- Epoch 182 ----\n",
      "...epoch time: 0.44983983039855957s\n",
      "...epoch 182: mean train loss=0.021237......train acc=0.991989\n",
      "...........................................val acc=0.962597\n",
      "...optimal threshold 0.124\n",
      "...testing time: 0.37511682510375977s\n",
      ".............mean test loss=0.206361......test acc =0.964621\n",
      "\n",
      "---- Epoch 183 ----\n",
      "...epoch time: 0.3814382553100586s\n",
      "...epoch 183: mean train loss=0.021419......train acc=0.991904\n",
      "...........................................val acc=0.974465\n",
      "...optimal threshold 0.0344\n",
      "...testing time: 0.39485883712768555s\n",
      ".............mean test loss=0.059331......test acc =0.976081\n",
      "\n",
      "---- Epoch 184 ----\n",
      "...epoch time: 0.37399816513061523s\n",
      "...epoch 184: mean train loss=0.021333......train acc=0.991910\n",
      "...........................................val acc=0.972062\n",
      "...optimal threshold 0.0342\n",
      "...testing time: 0.35196495056152344s\n",
      ".............mean test loss=0.066817......test acc =0.976317\n",
      "\n",
      "---- Epoch 185 ----\n",
      "...epoch time: 0.3383519649505615s\n",
      "...epoch 185: mean train loss=0.021939......train acc=0.991665\n",
      "...........................................val acc=0.975452\n",
      "...optimal threshold 0.053200000000000004\n",
      "...testing time: 0.36339306831359863s\n",
      ".............mean test loss=0.057604......test acc =0.977465\n",
      "\n",
      "---- Epoch 186 ----\n",
      "...epoch time: 0.3431999683380127s\n",
      "...epoch 186: mean train loss=0.021165......train acc=0.992031\n",
      "...........................................val acc=0.976108\n",
      "...optimal threshold 0.06520000000000001\n",
      "...testing time: 0.3610038757324219s\n",
      ".............mean test loss=0.054973......test acc =0.977998\n",
      "\n",
      "---- Epoch 187 ----\n"
     ]
    },
    {
     "name": "stdout",
     "output_type": "stream",
     "text": [
      "...epoch time: 0.3431248664855957s\n",
      "...epoch 187: mean train loss=0.021117......train acc=0.992082\n",
      "...........................................val acc=0.973192\n",
      "...optimal threshold 0.0962\n",
      "...testing time: 0.3648991584777832s\n",
      ".............mean test loss=0.082101......test acc =0.975889\n",
      "\n",
      "---- Epoch 188 ----\n",
      "...epoch time: 0.3427000045776367s\n",
      "...epoch 188: mean train loss=0.021228......train acc=0.991967\n",
      "...........................................val acc=0.972247\n",
      "...optimal threshold 0.049\n",
      "...testing time: 0.3614499568939209s\n",
      ".............mean test loss=0.080406......test acc =0.974855\n",
      "\n",
      "---- Epoch 189 ----\n",
      "...epoch time: 0.3405330181121826s\n",
      "...epoch 189: mean train loss=0.020880......train acc=0.992047\n",
      "...........................................val acc=0.969271\n",
      "...optimal threshold 0.07200000000000001\n",
      "...testing time: 0.36386919021606445s\n",
      ".............mean test loss=0.104279......test acc =0.973139\n",
      "\n",
      "---- Epoch 190 ----\n",
      "...epoch time: 0.3518640995025635s\n",
      "...epoch 190: mean train loss=0.021037......train acc=0.992059\n",
      "...........................................val acc=0.973891\n",
      "...optimal threshold 0.1016\n",
      "...testing time: 0.3609788417816162s\n",
      ".............mean test loss=0.073804......test acc =0.976115\n",
      "\n",
      "---- Epoch 191 ----\n",
      "...epoch time: 0.34868669509887695s\n",
      "...epoch 191: mean train loss=0.020941......train acc=0.992061\n",
      "...........................................val acc=0.965859\n",
      "...optimal threshold 0.1524\n",
      "...testing time: 0.37054920196533203s\n",
      ".............mean test loss=0.185024......test acc =0.968920\n",
      "\n",
      "---- Epoch 192 ----\n",
      "...epoch time: 0.35122203826904297s\n",
      "...epoch 192: mean train loss=0.020989......train acc=0.992056\n",
      "...........................................val acc=0.957582\n",
      "...optimal threshold 0.13720000000000002\n",
      "...testing time: 0.3723788261413574s\n",
      ".............mean test loss=0.283677......test acc =0.967881\n",
      "\n",
      "---- Epoch 193 ----\n",
      "...epoch time: 0.34146690368652344s\n",
      "...epoch 193: mean train loss=0.020985......train acc=0.992021\n",
      "...........................................val acc=0.972610\n",
      "...optimal threshold 0.08420000000000001\n",
      "...testing time: 0.36607813835144043s\n",
      ".............mean test loss=0.083554......test acc =0.977327\n",
      "\n",
      "---- Epoch 194 ----\n",
      "...epoch time: 0.3515777587890625s\n",
      "...epoch 194: mean train loss=0.020887......train acc=0.992060\n",
      "...........................................val acc=0.972840\n",
      "...optimal threshold 0.0512\n",
      "...testing time: 0.37150096893310547s\n",
      ".............mean test loss=0.066965......test acc =0.975385\n",
      "\n",
      "---- Epoch 195 ----\n",
      "...epoch time: 0.35686612129211426s\n",
      "...epoch 195: mean train loss=0.020721......train acc=0.992230\n",
      "...........................................val acc=0.962672\n",
      "...optimal threshold 0.1286\n",
      "...testing time: 0.3713688850402832s\n",
      ".............mean test loss=0.222035......test acc =0.963567\n",
      "\n",
      "---- Epoch 196 ----\n",
      "...epoch time: 0.3538658618927002s\n",
      "...epoch 196: mean train loss=0.020788......train acc=0.992131\n",
      "...........................................val acc=0.968139\n",
      "...optimal threshold 0.131\n",
      "...testing time: 0.41076207160949707s\n",
      ".............mean test loss=0.150144......test acc =0.973273\n",
      "\n",
      "---- Epoch 197 ----\n",
      "...epoch time: 0.4046823978424072s\n",
      "...epoch 197: mean train loss=0.020773......train acc=0.992156\n",
      "...........................................val acc=0.975286\n",
      "...optimal threshold 0.0538\n",
      "...testing time: 0.3629288673400879s\n",
      ".............mean test loss=0.057900......test acc =0.975831\n",
      "\n",
      "---- Epoch 198 ----\n",
      "...epoch time: 0.3501918315887451s\n",
      "...epoch 198: mean train loss=0.020650......train acc=0.992220\n",
      "...........................................val acc=0.971845\n",
      "...optimal threshold 0.08639999999999999\n",
      "...testing time: 0.46338796615600586s\n",
      ".............mean test loss=0.090187......test acc =0.974997\n",
      "\n",
      "---- Epoch 199 ----\n",
      "...epoch time: 0.3902740478515625s\n",
      "...epoch 199: mean train loss=0.021037......train acc=0.992074\n",
      "...........................................val acc=0.975220\n",
      "...optimal threshold 0.04460000000000001\n",
      "...testing time: 0.38647007942199707s\n",
      ".............mean test loss=0.056005......test acc =0.977107\n",
      "\n",
      "---- Epoch 200 ----\n",
      "...epoch time: 0.4134650230407715s\n",
      "...epoch 200: mean train loss=0.020664......train acc=0.992194\n",
      "...........................................val acc=0.974146\n",
      "...optimal threshold 0.03880000000000001\n",
      "...testing time: 0.36212778091430664s\n",
      ".............mean test loss=0.059922......test acc =0.974742\n",
      "\n"
     ]
    }
   ],
   "source": [
    "EPOCH = 200\n",
    "model = InteractionNetwork(node_f_size = node_f_size, edge_attr_size = edge_attr_size,message_out = message_out, update_out= update_out,hidden_size = hidden_l_size).to(device)\n",
    "optimizer = optim.Adam(model.parameters(), lr=0.005)\n",
    "scheduler = StepLR(optimizer, step_size=10,\n",
    "                       gamma=0.9)       \n",
    "from time import time\n",
    "output = {'train_loss': [], 'test_loss': [], 'test_acc': []}\n",
    "losses_l, accs_l,times_l = [],[],[]\n",
    "for epoch in range(1, EPOCH + 1):\n",
    "  print(\"---- Epoch {} ----\".format(epoch))\n",
    "  losses, accs,times = train( model, device, train_loader, optimizer, epoch)\n",
    "  losses_l.append(losses)\n",
    "  accs_l.append(accs)\n",
    "  times_l.append(times)\n",
    "  thld = validate(model, device, val_loader)\n",
    "  print('...optimal threshold', thld)\n",
    "  test_loss, test_acc = test(model, device, test_loader, thld=thld)\n",
    "  scheduler.step()"
   ]
  },
  {
   "cell_type": "code",
   "execution_count": 25,
   "metadata": {
    "id": "fu-wBoTEPCw_"
   },
   "outputs": [],
   "source": [
    "torch.save(model.state_dict(),  '../Models/model_master.pt')"
   ]
  },
  {
   "cell_type": "code",
   "execution_count": 27,
   "metadata": {},
   "outputs": [],
   "source": [
    "def get_n_params(model):\n",
    "    pp=0\n",
    "    for p in list(model.parameters()):\n",
    "        nn=1\n",
    "        for s in list(p.size()):\n",
    "            nn = nn*s\n",
    "        pp += nn\n",
    "    return pp"
   ]
  },
  {
   "cell_type": "code",
   "execution_count": 28,
   "metadata": {},
   "outputs": [
    {
     "data": {
      "text/plain": [
       "1624"
      ]
     },
     "execution_count": 28,
     "metadata": {},
     "output_type": "execute_result"
    }
   ],
   "source": [
    "get_n_params(model)"
   ]
  },
  {
   "cell_type": "code",
   "execution_count": 29,
   "metadata": {},
   "outputs": [
    {
     "data": {
      "text/plain": [
       "[Parameter containing:\n",
       " tensor([[-2.0241e-01,  7.0257e-01, -9.9243e-03,  4.3828e-02,  3.1206e-01,\n",
       "           1.5523e-01, -1.1180e-01,  1.8410e+00,  1.3548e-02,  9.2349e-02,\n",
       "          -6.8645e-01, -2.1767e-01, -1.1374e+01,  6.9185e-03,  2.4292e-01,\n",
       "          -4.3965e-01,  6.2275e+00, -1.1280e+01,  1.5670e-03],\n",
       "         [ 1.6756e-01,  7.0382e-02,  4.0425e-02, -2.1226e-01, -7.6354e-03,\n",
       "          -1.2238e-01, -1.0758e-01,  3.3398e-01, -6.5571e-02,  3.3313e-01,\n",
       "           1.3925e-02,  2.0542e-01, -4.4590e+00, -2.2441e-02,  1.4626e-01,\n",
       "          -1.8587e+00, -8.2693e+00, -4.2226e+00, -7.9514e-01],\n",
       "         [-4.0588e-02,  1.1289e-01, -8.3760e-02, -4.3455e-01, -7.1863e-02,\n",
       "           3.3193e-04,  2.2656e-01,  1.8120e-01,  9.3369e-02,  5.5375e-01,\n",
       "           1.5487e-01, -2.0748e-02,  1.5869e+00,  5.3894e-02, -6.7099e-02,\n",
       "          -3.8548e+00, -9.0287e+00,  2.2133e+00,  7.8311e-01],\n",
       "         [-1.4392e-01,  9.3208e-01, -1.1372e-02, -1.6603e-01,  4.4400e-02,\n",
       "          -1.7829e-01,  3.5289e-01,  7.6301e-01, -1.7908e-02, -2.9649e-02,\n",
       "           1.1784e-01,  2.5414e-02, -3.4296e-02,  4.8640e-02, -1.7391e-01,\n",
       "           1.0440e+00, -4.7089e+00,  7.7606e-01,  1.5784e-01],\n",
       "         [ 9.8698e-02,  2.4418e-01,  1.7325e-01, -2.0304e-01, -1.0603e-01,\n",
       "           1.1647e-01, -4.9198e-02, -8.6720e-03, -2.0225e-01, -2.1712e-01,\n",
       "           1.9670e-01, -2.2774e-01,  2.8789e+00, -1.2931e-01,  1.8061e-01,\n",
       "           1.1145e+00, -1.0432e+01,  3.0715e+00,  5.9800e-01],\n",
       "         [ 2.3827e-02,  2.4572e-01, -5.2369e-03,  1.2358e-01,  3.1174e-03,\n",
       "           5.8236e-02,  1.0543e-01, -1.1707e-01, -1.3820e-02, -1.7395e-01,\n",
       "           1.4818e-02, -1.2087e-01,  2.4608e+00,  2.0069e-02,  1.0198e-01,\n",
       "           4.8614e-01,  1.1305e+01,  3.0735e+00, -7.7614e-01],\n",
       "         [-1.4437e-01, -3.4104e-01, -6.7427e-02, -6.6983e-02, -1.3273e-01,\n",
       "           1.3957e-01,  3.0614e-01, -2.6565e-01,  8.0028e-02,  1.7977e-01,\n",
       "           8.1360e-02, -7.2326e-02,  1.7892e+00,  5.0831e-02, -3.0626e-01,\n",
       "          -1.0658e+00, -6.7239e+00,  1.9056e+00, -5.0468e-01],\n",
       "         [ 4.1040e-02,  5.5286e-01, -1.9929e-02, -6.0407e-02,  6.9695e-02,\n",
       "           9.5984e-03,  5.4600e-02,  5.8705e-01, -1.4912e-02, -1.3778e-01,\n",
       "          -7.9568e-02, -2.3261e-02, -3.5347e+00,  6.5108e-02, -7.2438e-02,\n",
       "          -3.2938e-01, -9.1923e+00, -3.1438e+00,  2.2234e-01],\n",
       "         [ 7.4862e-02,  3.0945e-01,  2.7624e-02, -1.2360e-01,  5.9706e-02,\n",
       "          -1.1410e-01,  6.7414e-02,  1.9736e-01, -4.7918e-02, -1.5272e-01,\n",
       "          -4.6704e-02,  1.2386e-01,  1.7449e+00, -1.6627e-02, -3.1420e-01,\n",
       "          -3.9381e-01, -6.1973e+00,  2.3163e+00,  6.0050e-01],\n",
       "         [ 7.8051e-02,  3.1856e-01, -2.5894e-02,  6.0458e-02, -8.0965e-02,\n",
       "           6.9888e-02,  6.2719e-02,  4.1656e-02,  7.4022e-04, -6.0018e-02,\n",
       "           1.6602e-01, -1.4183e-01,  1.7148e+00,  4.3161e-02, -5.4078e-02,\n",
       "           1.6863e-01,  9.5503e+00,  1.1747e+00,  5.8257e-01],\n",
       "         [-1.6614e-01, -8.2323e-01, -1.1979e-02,  1.1483e-01,  6.7485e-02,\n",
       "           5.9485e-02, -2.8489e-01, -9.0691e-01, -2.0482e-03,  8.8245e-02,\n",
       "           4.3942e-02, -3.4689e-01, -1.2354e+00,  1.2057e-02,  6.1411e-01,\n",
       "           8.7796e-01, -1.0476e-01, -4.5598e-01,  8.6870e-02],\n",
       "         [-1.7234e-01, -1.8272e-01,  1.0999e-01, -4.9283e-01, -1.3046e-01,\n",
       "          -1.2176e-01,  1.7686e-01, -3.7317e-03, -1.1963e-01,  2.5272e-01,\n",
       "           2.3095e-01,  2.0621e-01,  1.9197e+00, -9.5632e-02,  1.3682e-01,\n",
       "          -3.0988e+00,  9.0940e+00,  1.1295e+00,  1.3949e-01],\n",
       "         [ 9.8570e-02, -5.4149e-02,  5.0675e-02, -3.0541e-01,  1.6853e-01,\n",
       "          -1.6795e-01, -3.8382e-02,  1.3254e-01, -3.7923e-02, -3.8225e-01,\n",
       "          -2.9360e-01,  2.9355e-01, -5.1795e+00, -7.3940e-02,  1.1676e-01,\n",
       "           1.3661e+00, -2.7777e+00, -6.6111e+00,  5.5227e-01],\n",
       "         [-3.2686e-02, -3.8852e-01,  3.2618e-02,  3.9661e-01, -5.6659e-02,\n",
       "          -2.7753e-02,  6.8832e-03, -4.0784e-01, -1.2565e-01,  2.9458e-01,\n",
       "           2.8869e-02,  1.0060e-02,  2.5296e+00,  5.1022e-02,  3.2009e-02,\n",
       "           1.0391e+00, -7.7578e+00,  3.1350e+00,  2.8235e-01],\n",
       "         [ 5.1074e-02,  2.3850e-01, -1.1639e-01, -2.3353e-01, -4.3031e-03,\n",
       "           9.7377e-02,  5.0661e-02, -2.2087e-01,  9.8294e-02,  4.3447e-01,\n",
       "           2.4858e-02, -1.9022e-01,  2.0171e+00,  1.2895e-01,  6.6760e-02,\n",
       "          -3.8825e+00, -1.1193e+01,  3.0552e+00, -6.4067e-01],\n",
       "         [ 1.4834e-02,  1.1114e-02,  1.5103e-02, -2.3023e-02, -6.0841e-04,\n",
       "          -6.0848e-03,  1.3966e-01,  1.9088e-01, -1.3850e-02, -1.7965e-01,\n",
       "           6.8406e-03, -2.6667e-03, -6.4035e-01, -2.9284e-02, -1.1663e-01,\n",
       "           2.9766e+00, -9.8342e+00, -1.3996e+00, -7.5564e-01]],\n",
       "        requires_grad=True),\n",
       " Parameter containing:\n",
       " tensor([ 0.2472, -0.2570, -1.0933, -0.8040,  0.9349, -0.2492,  1.0171,  1.6041,\n",
       "         -0.5742,  0.5344,  1.0186,  2.0048, -0.3149,  0.9826,  2.2280,  0.3513],\n",
       "        requires_grad=True),\n",
       " Parameter containing:\n",
       " tensor([[ 3.9675e-01, -1.7143e-01,  2.5758e-02, -6.6120e-02,  3.8621e-01,\n",
       "           1.2985e-01, -4.9483e-02,  4.9365e-02,  1.1845e-01, -2.5996e-02,\n",
       "           1.0877e-01,  2.4289e-01,  1.2750e-01, -9.8573e-03, -3.5448e-01,\n",
       "          -4.5941e-01],\n",
       "         [ 3.4206e-01, -1.8758e-01, -2.7787e-01,  1.8899e-01, -3.4559e-01,\n",
       "           2.7097e-01, -4.1112e-01,  1.5373e-01,  2.2285e-01,  2.4756e-02,\n",
       "          -1.4949e-01,  7.7399e-02,  5.6168e-01, -3.9140e-02, -1.7702e-01,\n",
       "          -1.5708e-02],\n",
       "         [-5.9995e-01, -8.7935e-01, -2.0930e-01, -3.2072e-01, -9.0597e-02,\n",
       "           5.1269e-01, -7.3345e-02, -4.9657e-04, -3.1613e-01,  1.2076e-01,\n",
       "           2.9053e-01,  1.1584e-02, -2.3616e-01,  3.9724e-03,  4.9132e-02,\n",
       "          -5.0736e-01],\n",
       "         [-6.4652e-01,  2.1559e-01,  3.2976e-01, -1.4390e-02,  1.1740e-01,\n",
       "          -2.7768e-01,  1.3712e-01,  2.6894e-01, -6.6442e-03, -5.3758e-01,\n",
       "           5.1291e-03, -2.7054e-01, -1.1044e-01,  1.2895e-01,  3.7592e-01,\n",
       "           2.0264e-01],\n",
       "         [-3.9623e-01,  6.2857e-03,  2.8162e-01, -5.2051e-02,  3.3449e-01,\n",
       "          -3.0682e-01, -1.0963e-02,  1.8760e-01,  1.1624e-02, -4.3314e-01,\n",
       "           9.3667e-02, -2.0251e-01, -9.9969e-02,  1.8873e-01,  1.2718e-01,\n",
       "           2.2300e-01],\n",
       "         [ 8.6770e-01,  2.6093e-02, -3.8117e-01,  1.5004e-01, -2.8325e-01,\n",
       "           4.0546e-01, -2.1547e-01,  3.2913e-02,  7.2531e-03, -4.5435e-02,\n",
       "          -2.0806e-01,  3.0632e-01,  3.6830e-01,  7.1676e-02, -5.4668e-01,\n",
       "          -2.4611e-01],\n",
       "         [-1.4986e-01,  1.1207e-01, -1.7406e-01,  7.3153e-03, -1.5135e-01,\n",
       "           4.7080e-01, -4.1675e-02, -5.3248e-02,  3.5026e-02,  6.3935e-01,\n",
       "          -2.0612e-02, -1.0290e-01,  8.8264e-02,  6.6836e-02, -2.9513e-01,\n",
       "          -5.4569e-03],\n",
       "         [ 6.7509e-01,  3.9039e-01, -1.6785e-01,  3.4494e-02,  5.5879e-02,\n",
       "           1.2874e-01,  4.3822e-02, -1.4343e-01,  2.5259e-01, -2.7485e-01,\n",
       "          -4.0415e-02,  1.0494e-01, -3.7510e-01, -1.2722e-02,  2.8100e-01,\n",
       "          -1.0424e-01],\n",
       "         [-1.4573e-01, -8.9394e-02, -1.4941e-01,  1.9864e-01, -4.8452e-01,\n",
       "           1.8447e-01,  1.8098e-01,  3.5649e-01,  1.8467e-01,  1.3463e-01,\n",
       "           1.0422e-01, -9.1338e-02,  1.3819e-01,  9.0040e-02, -2.0040e-01,\n",
       "          -4.2452e-01],\n",
       "         [-6.5017e-01,  1.3054e-01,  3.1515e-02,  5.5251e-02,  8.7520e-02,\n",
       "           1.2313e-01,  2.8067e-01,  1.8284e-02, -8.2842e-02, -1.1839e+00,\n",
       "           4.9242e-02, -1.6631e-01, -3.2355e-01,  2.5768e-02,  2.4218e-01,\n",
       "          -2.1854e-02],\n",
       "         [-4.5973e-01, -1.7012e-01,  7.4694e-02,  5.4415e-02,  1.9486e-01,\n",
       "          -1.6870e-01, -1.8862e-01,  1.0004e-01,  1.5411e-01,  6.9767e-02,\n",
       "          -1.0515e-01, -3.3464e-01,  4.4403e-01,  1.6256e-01, -5.1575e-01,\n",
       "           5.1423e-02],\n",
       "         [-3.7666e-01, -1.8304e-01,  3.1704e-01, -9.1118e-02,  3.4374e-01,\n",
       "          -6.6456e-01,  2.4068e-01,  1.5934e-04,  8.6956e-02,  2.9154e-01,\n",
       "           1.1264e-03,  6.5235e-02,  3.5702e-01, -4.1170e-02,  4.2745e-01,\n",
       "           1.8450e-01],\n",
       "         [ 7.5121e-01,  1.2966e-01, -4.0218e-01,  6.3858e-02, -3.7528e-01,\n",
       "           1.5159e-01, -6.7855e-02,  1.0772e-01, -1.4499e-01,  2.0210e-01,\n",
       "          -1.9851e-01,  2.4964e-01,  2.7446e-01, -4.6190e-03, -2.3656e-01,\n",
       "          -3.4766e-01],\n",
       "         [ 8.3011e-02,  1.2039e-02,  4.7765e-02,  8.5744e-03,  3.1396e-01,\n",
       "          -7.7940e-01, -1.7129e-01,  2.5729e-01, -8.0296e-02, -1.5693e-01,\n",
       "           3.8253e-02, -5.8004e-02,  2.6908e-01,  1.3270e-01,  4.8997e-01,\n",
       "           2.9439e-01],\n",
       "         [-2.9690e-01, -2.5378e-01,  1.0907e-01, -1.7187e-01,  1.9134e-01,\n",
       "           2.8568e-01,  3.7541e-01,  1.5802e-02, -2.5977e-01,  3.0517e-01,\n",
       "           2.3219e-01,  8.8959e-02, -2.2763e-01,  7.3244e-02, -1.0892e-01,\n",
       "          -2.6876e-01],\n",
       "         [-1.7672e-01, -9.9101e-02, -3.9072e-01, -1.1284e-01,  5.1072e-02,\n",
       "          -1.9193e-01,  2.7622e-01, -2.5333e-01, -5.7907e-02,  2.4980e-02,\n",
       "          -2.9402e-02, -4.1343e-02, -1.7475e-01, -2.4477e-01, -5.0872e-02,\n",
       "          -8.7144e-02]], requires_grad=True),\n",
       " Parameter containing:\n",
       " tensor([ 0.0688,  0.4099,  0.6952,  0.6538,  1.1512,  0.5539,  0.6696, -0.7044,\n",
       "         -0.4660, -2.1516, -1.4380,  0.7718,  1.8010,  1.2009,  0.9556,  0.0413],\n",
       "        requires_grad=True),\n",
       " Parameter containing:\n",
       " tensor([[-0.1261, -0.1767, -0.8214,  0.2366,  0.3021,  0.6862, -0.1967,  0.0699,\n",
       "           0.2911, -0.2430, -0.4371,  0.1107, -0.8624,  0.2206, -0.5052,  0.0314],\n",
       "         [ 0.5676, -0.0728, -0.3891, -0.3816,  0.1634,  0.0707, -0.2408, -0.1312,\n",
       "          -0.1345, -0.0445,  0.3345,  0.1015, -0.4809, -0.0610, -0.2777, -0.2614],\n",
       "         [-0.0422,  0.2626,  1.0295, -0.1650, -0.0109,  0.1552,  0.2601, -0.1800,\n",
       "          -0.1317, -0.1064, -0.2579,  0.3117,  0.0072,  0.0950,  0.0915, -0.2128],\n",
       "         [-0.0152,  0.1732,  0.7405, -0.3955, -0.4289, -0.3390,  0.3183, -0.1874,\n",
       "           0.0027,  0.2673,  0.2689, -0.4935,  0.3137, -0.4963,  0.2777,  0.1998]],\n",
       "        requires_grad=True),\n",
       " Parameter containing:\n",
       " tensor([ 0.6771, -0.6036,  0.5791, -0.6838], requires_grad=True),\n",
       " Parameter containing:\n",
       " tensor([[ 1.0523e-01,  1.8456e-01,  2.8183e-02, -7.7155e-01,  3.0457e-02,\n",
       "          -4.3617e-02,  1.2254e+00, -2.7687e-01,  5.4740e-01, -6.2811e-01],\n",
       "         [ 4.5159e-02,  1.0463e-01, -1.1184e-02,  2.1626e-01,  7.8089e-03,\n",
       "          -6.0176e-03,  1.4675e+00,  7.4429e-01, -5.4571e-01, -2.7833e-01],\n",
       "         [ 2.7554e-01,  1.0591e+00, -1.0414e-01,  5.8370e-01,  1.3982e-01,\n",
       "          -9.3710e-02, -7.7035e-01, -2.3157e-02, -1.7088e-01,  3.9035e-01],\n",
       "         [-1.2815e-01,  1.2737e+00,  1.0294e-01, -1.2955e-02, -1.1806e-01,\n",
       "           1.2785e-01,  2.4525e-01,  1.6769e-02,  1.5950e-01, -1.5734e-01],\n",
       "         [-1.4523e-01, -4.8233e-02,  1.3700e-01,  1.9035e+00, -3.3519e-02,\n",
       "           3.4533e-02,  7.5396e-01,  4.9495e-02,  3.4164e-02, -2.7278e-01],\n",
       "         [-3.6157e-02,  3.2005e-01,  8.5521e-03, -4.8644e-02,  7.3015e-02,\n",
       "           1.9391e-01,  1.0641e+00, -1.2144e-01,  1.4558e-01, -6.6134e-01],\n",
       "         [ 1.9757e-01,  2.1331e-01,  9.7932e-02, -1.4047e-02,  1.9287e-02,\n",
       "           1.9601e-01, -9.6512e-01,  2.8552e-01, -4.9892e-01,  4.1742e-01],\n",
       "         [ 8.2889e-02,  7.7442e-01,  5.3907e-02,  5.3607e-02,  1.3952e-01,\n",
       "          -1.0130e-01, -5.3248e-02,  1.9662e-01, -5.3665e-01, -9.6159e-02],\n",
       "         [-1.4848e-01, -7.5104e-01, -5.4993e-02,  6.7414e-02, -1.9491e-02,\n",
       "          -1.3813e-01,  9.5670e-01, -2.3251e-01,  4.9398e-01, -4.1137e-01],\n",
       "         [ 8.8910e-02, -9.7899e-02, -4.9048e-02, -5.5030e-01, -7.2650e-02,\n",
       "          -6.7669e-02, -3.4387e-01,  1.7869e-01, -2.8116e-01,  2.6289e-01],\n",
       "         [-1.2326e-01,  3.7231e-01, -1.0970e-01, -8.9662e-01, -2.7446e-02,\n",
       "          -1.3221e-01,  6.5013e-01, -1.9704e-02, -2.1871e-03, -3.7464e-01],\n",
       "         [-1.4251e-01, -1.2223e+00, -1.9070e-03,  1.2841e+00, -1.4223e-01,\n",
       "          -2.8533e-01, -1.9750e-01,  9.8418e-02, -2.5618e-01, -1.0417e-02],\n",
       "         [-1.9297e-03, -1.2835e+00,  2.5621e-03, -1.6404e-01, -2.7814e-02,\n",
       "          -1.8529e-01, -7.9996e-01,  8.1506e-02, -6.2138e-02,  5.1446e-01],\n",
       "         [ 1.7023e-01, -1.7242e-03, -8.4617e-03,  7.7373e-02, -1.6662e-02,\n",
       "           5.5503e-02,  1.0486e+00, -6.6261e-02,  1.4268e-01, -5.3802e-01],\n",
       "         [ 7.9074e-02, -4.9609e-01, -2.2818e-03, -1.9904e-01, -9.0688e-02,\n",
       "          -1.6489e-01, -2.5484e-01,  1.3920e-01, -4.5354e-01,  7.1022e-02],\n",
       "         [-4.8633e-02, -1.5763e-01, -1.3140e-02, -3.7130e-01, -3.0352e-02,\n",
       "           1.7905e-01,  4.3183e-02,  2.7652e-04, -1.9793e-01, -1.4191e-01]],\n",
       "        requires_grad=True),\n",
       " Parameter containing:\n",
       " tensor([-0.4645,  0.7441,  0.8747,  0.9759,  2.1035, -0.3147,  0.2248,  0.1136,\n",
       "         -0.2195, -0.3670, -0.0374,  0.8306,  0.5124,  1.4168,  0.3080, -0.1690],\n",
       "        requires_grad=True),\n",
       " Parameter containing:\n",
       " tensor([[-0.2132, -0.2023,  0.1448,  0.1938, -0.2610, -0.2397,  0.1665,  0.1180,\n",
       "          -0.3416, -0.1726,  0.0856, -0.2846,  0.0653,  0.1477, -0.1097,  0.0960],\n",
       "         [-0.3081,  0.2373, -0.0124,  0.0365, -0.1081, -0.3590,  0.1814,  0.0228,\n",
       "          -0.2763,  0.3557, -0.1616, -0.3888, -0.8379, -0.0813,  0.2443, -0.7647],\n",
       "         [ 0.2567, -0.1436, -0.1345, -0.0260, -0.0683, -0.0559, -0.0055, -0.0963,\n",
       "          -0.0497, -0.0766,  0.0491,  0.1394,  0.1564,  0.3004,  0.0565, -0.0307],\n",
       "         [-0.3108,  0.0660,  0.1209,  0.1757, -0.0037, -0.0584,  0.0953,  0.0876,\n",
       "          -0.1878, -0.1314, -0.0106,  0.0657,  0.2398,  0.0587,  0.2191, -0.0509],\n",
       "         [-0.0704, -0.1209,  0.0758, -0.2957, -0.1673,  0.2124, -0.1046,  0.2719,\n",
       "           0.0858, -0.2861,  0.0063, -0.1863,  0.0366, -0.0022,  0.1378,  0.0067],\n",
       "         [-0.4624,  0.1031,  0.2246, -0.0648, -0.0179, -0.2741,  0.3287,  0.0522,\n",
       "          -0.3512,  0.1185, -0.1304, -0.0850,  0.1698, -0.0121,  0.1659,  0.0568],\n",
       "         [ 0.2211,  0.0261, -0.3018, -0.0679,  0.0739, -0.0511,  0.0934,  0.1997,\n",
       "          -0.0450, -0.0912, -0.2372, -0.0609,  0.0328, -0.1680,  0.0865,  0.1303],\n",
       "         [ 0.1112,  0.1364, -0.1517, -0.0687, -0.0617,  0.1017,  0.1454,  0.2542,\n",
       "          -0.0789,  0.0737, -0.0224, -0.1110, -0.1989, -0.3969, -0.2553,  0.1063],\n",
       "         [-0.0040,  0.2920, -0.1857, -0.1647, -0.2894, -0.0848,  0.1035, -0.2504,\n",
       "          -0.1060,  0.1445, -0.0543, -0.3053, -0.2052,  0.1128, -0.0029,  0.1008],\n",
       "         [ 0.2963, -0.0119,  0.0685,  0.1037,  0.0516,  0.1496, -0.1383,  0.1720,\n",
       "          -0.0512, -0.1480,  0.1487,  0.0493, -0.2371,  0.1783, -0.0785,  0.0830],\n",
       "         [-0.0854, -0.2213, -0.2536, -0.0700,  0.1831, -0.0149,  0.0969,  0.1445,\n",
       "          -0.0032,  0.0171,  0.0117, -0.0336,  0.1474,  0.1530,  0.0893,  0.0963],\n",
       "         [-0.5541,  0.5610,  0.1594,  0.0112,  0.1373, -0.1810,  0.2632,  0.1861,\n",
       "          -0.2920,  0.1715,  0.0595,  0.1878,  0.0021, -0.0138,  0.0678, -0.0098],\n",
       "         [-0.1715,  0.0380,  0.1700, -0.0094, -0.0570, -0.1810,  0.2053,  0.2176,\n",
       "          -0.3838,  0.1294,  0.0319,  0.0183, -0.0914,  0.0677,  0.2106,  0.1968],\n",
       "         [ 0.0064, -0.0364, -0.2675, -0.0382, -0.1894, -0.1395, -0.0677,  0.1100,\n",
       "          -0.0138, -0.0748,  0.0421, -0.1420,  0.1307, -0.1472,  0.1341,  0.1392],\n",
       "         [ 0.0869,  0.1814, -0.2790,  0.0615, -0.2270,  0.0670, -0.2096,  0.0176,\n",
       "          -0.1590,  0.0892,  0.1610, -0.2417, -0.0540, -0.3023, -0.1930,  0.0598],\n",
       "         [-0.0514,  0.7891, -0.1203,  0.0010,  0.3451,  0.0334, -0.0642,  0.2048,\n",
       "          -0.0363, -0.0440,  0.2202, -0.0323, -0.2288,  0.1737,  0.2219,  0.1150]],\n",
       "        requires_grad=True),\n",
       " Parameter containing:\n",
       " tensor([ 0.6021, -1.1952,  0.5365,  0.8691, -2.2766,  1.9584, -0.6261, -0.2463,\n",
       "         -0.3131,  0.5075,  0.1259,  0.8269,  0.5665, -0.0819, -0.1532, -0.0453],\n",
       "        requires_grad=True),\n",
       " Parameter containing:\n",
       " tensor([[ 0.1535, -0.5506, -0.2495,  0.2241,  0.0026, -0.0389,  0.2204,  0.1180,\n",
       "          -0.0834, -0.2769,  0.0811,  0.0729,  0.2439,  0.1028, -0.0374, -0.2777],\n",
       "         [ 0.1534,  0.6613,  0.2943,  0.1816, -0.2197,  0.4458, -0.1011,  0.2514,\n",
       "          -0.2153,  0.2736, -0.0472,  0.2846, -0.0939,  0.1524, -0.0462, -0.2832],\n",
       "         [ 0.0447,  0.0133,  0.0328, -0.0685,  0.0893,  0.2884, -0.0151,  0.1688,\n",
       "          -0.1267, -0.0680,  0.0846,  0.5011,  0.0312,  0.0900, -0.1788, -0.2535]],\n",
       "        requires_grad=True),\n",
       " Parameter containing:\n",
       " tensor([ 0.2390,  0.8099, -1.3314], requires_grad=True),\n",
       " Parameter containing:\n",
       " tensor([[ 0.0198,  0.1911, -0.0973,  0.1501, -0.1347, -0.2315,  0.3664, -0.1792,\n",
       "           0.2899, -0.0576],\n",
       "         [ 0.0330,  0.0275, -0.2153, -0.0554, -0.0988, -0.0719, -0.5422, -0.2310,\n",
       "           0.3129,  0.3582],\n",
       "         [ 0.4052, -0.1221,  0.0419,  0.1085,  0.2020, -0.3515,  0.4966,  0.0174,\n",
       "          -0.1263, -0.4784],\n",
       "         [ 0.0663, -0.0095,  0.1109,  0.1040,  0.6255, -0.1317,  0.2719, -0.1727,\n",
       "           0.0124,  0.0434],\n",
       "         [-0.1393,  0.1463,  0.1946, -0.1689, -0.4467, -0.1964, -0.2881,  0.4515,\n",
       "           0.2786, -0.3743],\n",
       "         [-0.0167, -0.0204, -0.0467,  0.0438,  0.1395, -0.1393,  0.5340,  0.1340,\n",
       "          -0.2133,  0.1447],\n",
       "         [-0.0970, -0.0389,  0.1943, -0.1019, -0.2367, -0.3903, -0.1906, -0.4664,\n",
       "          -0.1723,  0.1589],\n",
       "         [ 0.2420,  0.1321, -0.1705, -0.0516,  0.1649,  0.0829,  0.4341, -0.3406,\n",
       "           0.0617, -0.3494],\n",
       "         [ 0.1320, -0.1893, -0.1021,  0.0894, -0.2938,  0.1964,  0.1507, -0.2346,\n",
       "          -0.2346,  0.1755],\n",
       "         [-0.0372,  0.2527, -0.1362,  0.3781,  0.0282,  0.3632, -0.3549,  0.0371,\n",
       "           0.0383,  0.0190],\n",
       "         [-0.2680, -0.0531, -0.1855,  0.0995,  0.3205,  0.0015, -0.4714,  0.0399,\n",
       "           0.4018, -0.2593],\n",
       "         [-0.0386, -0.3210,  0.0885,  0.0742,  0.2125,  0.1894,  0.4046,  0.5498,\n",
       "          -0.0577, -0.2258],\n",
       "         [ 0.2630,  0.2135,  0.1933,  0.0009,  0.2800,  0.0830,  0.0445, -0.1397,\n",
       "          -0.2376,  0.3068],\n",
       "         [-0.2262, -0.0234,  0.2074,  0.0750,  0.4577,  0.2647,  0.3606, -0.1491,\n",
       "          -0.0407, -0.3531],\n",
       "         [ 0.0262, -0.1142,  0.0394,  0.2194, -0.0029,  0.1927,  0.0072,  0.4365,\n",
       "          -0.1290,  0.0793],\n",
       "         [-0.1328, -0.2496, -0.2465,  0.1197,  0.0304,  0.2660, -0.5321, -0.0643,\n",
       "           0.0532,  0.2076]], requires_grad=True),\n",
       " Parameter containing:\n",
       " tensor([ 0.9873,  1.6552,  0.7042,  1.7906, -0.9230,  1.1336, -0.1259,  0.3242,\n",
       "         -0.6596, -0.7162,  0.1205,  0.4707,  0.0868,  0.3244, -2.5925,  0.7259],\n",
       "        requires_grad=True),\n",
       " Parameter containing:\n",
       " tensor([[ 7.6979e-02, -7.5700e-01,  4.3437e-01,  2.9331e-02,  1.1225e-01,\n",
       "           2.9162e-01, -4.1957e-01,  1.5631e-01, -5.8702e-01, -4.6796e-03,\n",
       "           1.5654e-01,  6.0541e-02,  1.9145e-02,  1.9547e-01, -8.0668e-02,\n",
       "          -5.6863e-01],\n",
       "         [ 1.5891e-01, -3.0019e-01,  6.2584e-01,  3.3514e-01, -5.6578e-02,\n",
       "           1.9795e-01, -1.4432e-01,  2.0583e-01,  1.3237e-01,  1.7466e-01,\n",
       "           9.7423e-02,  3.6812e-02,  1.7759e-01,  5.5219e-02, -3.7962e-02,\n",
       "           1.5717e-01],\n",
       "         [-3.8012e-02, -1.3463e-01, -2.6025e-01,  6.8419e-02,  2.3011e-01,\n",
       "           2.0376e-01, -5.7440e-01, -2.4328e-01, -3.0188e-02,  1.9444e-01,\n",
       "           2.0473e-01,  6.0216e-02, -1.9898e-01, -3.7300e-02, -1.1774e-01,\n",
       "           2.0835e-01],\n",
       "         [ 8.7712e-04,  1.7446e-02,  5.4492e-01,  1.6707e-01,  2.0029e-01,\n",
       "           3.4373e-02, -2.3223e-01,  2.3223e-01,  2.3187e-01, -1.8938e-01,\n",
       "           1.3497e-01, -3.8968e-02, -1.2903e-01, -2.2785e-02,  1.7620e-01,\n",
       "          -1.7111e-01],\n",
       "         [-7.7459e-02, -3.3744e-01,  3.2421e-02,  2.7177e-01,  3.3298e-01,\n",
       "          -4.1694e-02,  3.6848e-02,  1.1117e-01,  1.1287e-01, -1.5209e-01,\n",
       "           7.2789e-03, -2.1834e-01, -8.3170e-02, -8.0250e-02,  1.6248e-01,\n",
       "           9.7891e-02],\n",
       "         [ 1.6844e-02, -4.7528e-01,  1.0382e+00,  1.4074e-01, -1.8230e-01,\n",
       "           6.1025e-01, -1.4969e-01,  7.5728e-02,  5.3152e-01,  2.2709e-01,\n",
       "           1.7746e-02,  2.4360e-01,  1.4743e-01,  1.9812e-01,  3.2168e-01,\n",
       "          -6.1527e-01],\n",
       "         [ 2.3185e-01,  8.0243e-01, -2.8043e-01,  3.0339e-01, -4.3235e-01,\n",
       "          -7.0959e-01,  5.1592e-01, -1.9621e-01, -6.7092e-01, -8.8340e-02,\n",
       "           1.1113e-01, -8.7315e-01, -1.5104e-01,  1.6172e-02, -8.1033e-02,\n",
       "           5.6467e-01],\n",
       "         [ 2.6343e-01, -7.9324e-01,  5.9149e-01,  2.9887e-01,  2.9515e-01,\n",
       "           2.3459e-01, -4.6952e-01,  7.0135e-02, -1.8320e+00, -6.7333e-02,\n",
       "          -7.5185e-02,  3.4863e-02, -2.9599e-01, -2.4305e-02,  8.5505e-01,\n",
       "          -8.2609e-01],\n",
       "         [-8.5246e-02,  1.2304e-01, -1.5753e-01, -1.4159e-01,  1.5733e-01,\n",
       "          -2.7672e-02,  2.9489e-01,  1.5665e-02,  1.8704e-01,  7.8505e-02,\n",
       "           1.2212e-01, -8.4346e-03,  2.9298e-02,  1.6887e-01,  1.4488e-02,\n",
       "           1.7564e-01],\n",
       "         [-3.7689e-01, -7.1158e-02, -1.3123e-01, -1.5257e-01,  4.5120e-01,\n",
       "          -2.3112e-01, -8.8653e-02, -3.8465e-01,  1.5465e-01, -1.7466e-01,\n",
       "           3.4882e-01, -2.9809e-01, -4.6888e-02, -4.1278e-01, -2.7915e-01,\n",
       "          -1.4223e-01],\n",
       "         [ 1.3338e-01,  4.8614e-01, -6.3045e-01, -1.8196e-01, -5.6371e-02,\n",
       "          -6.8425e-02,  2.0209e-01,  6.4532e-02, -3.1590e-01,  1.7747e-01,\n",
       "           1.9742e-01,  1.3845e-02, -1.8215e-01,  2.4397e-01, -1.6204e-01,\n",
       "           8.7511e-01],\n",
       "         [ 7.2068e-04, -2.8125e-01,  2.9028e-01,  2.3265e-02,  1.1492e-02,\n",
       "           1.7346e-01, -6.5824e-02,  2.9536e-01,  1.6201e-01, -1.3591e-01,\n",
       "          -6.6454e-02,  3.1932e-01,  2.2865e-02,  3.0271e-01,  2.5889e-01,\n",
       "          -1.0833e-01],\n",
       "         [-2.6602e-01, -8.1138e-02, -2.3530e-01,  3.2432e-02,  4.8958e-02,\n",
       "           1.0633e-01, -2.7103e-01, -2.5774e-01,  1.8632e-01, -3.7893e-04,\n",
       "           3.4331e-01, -1.4454e-01, -2.4384e-01,  2.4611e-01, -7.7478e-03,\n",
       "          -1.3968e-01],\n",
       "         [ 9.7140e-02,  6.3511e-01, -5.5609e-01,  2.9880e-01, -1.2289e-01,\n",
       "          -4.6913e-01,  4.0110e-01,  1.2811e-01, -6.1857e-01, -1.3561e-01,\n",
       "           1.2010e-01, -6.5532e-01,  4.0360e-02,  6.4705e-02, -1.3199e-02,\n",
       "           5.2984e-01],\n",
       "         [-3.2770e-02, -2.6749e-02,  1.4255e-01,  7.8825e-02,  2.3305e-01,\n",
       "          -3.0899e-01,  4.3691e-01, -7.7178e-03,  2.3352e-02, -2.8431e-01,\n",
       "           5.9547e-02, -3.0654e-01,  1.9775e-01, -4.1189e-02, -4.0065e-02,\n",
       "           1.8984e-01],\n",
       "         [ 1.7467e-01, -3.0024e-02, -2.3473e-01, -1.7155e-01,  1.1233e-01,\n",
       "           8.6480e-02, -1.1686e-01, -2.7554e-01,  5.9102e-02, -5.2121e-02,\n",
       "          -1.7521e-01, -9.7838e-02,  2.8024e-02, -8.9631e-02,  7.8750e-02,\n",
       "          -2.2086e-01]], requires_grad=True),\n",
       " Parameter containing:\n",
       " tensor([ 4.1454e-01, -1.2587e-01,  4.7116e-01,  3.4571e-01,  1.0561e-01,\n",
       "         -3.0864e-02,  8.6347e-01,  5.5502e-01, -1.0029e-01,  8.3782e-04,\n",
       "         -1.3962e-01, -9.9013e-02, -5.8323e-02,  4.0308e-01, -2.5492e-01,\n",
       "         -2.2049e-01], requires_grad=True),\n",
       " Parameter containing:\n",
       " tensor([[ 0.1729,  0.1379, -0.1892,  0.1408,  0.0265,  0.5584, -0.7110,  0.2737,\n",
       "          -0.2139, -0.7160, -0.2983,  0.1751, -0.1878, -0.4495, -0.1319,  0.0154]],\n",
       "        requires_grad=True),\n",
       " Parameter containing:\n",
       " tensor([-0.0798], requires_grad=True)]"
      ]
     },
     "execution_count": 29,
     "metadata": {},
     "output_type": "execute_result"
    }
   ],
   "source": [
    "list(model.parameters())"
   ]
  },
  {
   "cell_type": "code",
   "execution_count": 31,
   "metadata": {},
   "outputs": [
    {
     "ename": "AttributeError",
     "evalue": "'generator' object has no attribute 'shape'",
     "output_type": "error",
     "traceback": [
      "\u001b[0;31m---------------------------------------------------------------------------\u001b[0m",
      "\u001b[0;31mAttributeError\u001b[0m                            Traceback (most recent call last)",
      "Cell \u001b[0;32mIn [31], line 1\u001b[0m\n\u001b[0;32m----> 1\u001b[0m \u001b[43mmodel\u001b[49m\u001b[38;5;241;43m.\u001b[39;49m\u001b[43mparameters\u001b[49m\u001b[43m(\u001b[49m\u001b[43m)\u001b[49m\u001b[38;5;241;43m.\u001b[39;49m\u001b[43mshape\u001b[49m()\n",
      "\u001b[0;31mAttributeError\u001b[0m: 'generator' object has no attribute 'shape'"
     ]
    }
   ],
   "source": []
  },
  {
   "cell_type": "code",
   "execution_count": null,
   "metadata": {},
   "outputs": [],
   "source": []
  }
 ],
 "metadata": {
  "colab": {
   "name": "GNN_train.ipynb",
   "provenance": []
  },
  "kernelspec": {
   "display_name": "Python 3.8.2 ('env': venv)",
   "language": "python",
   "name": "python3"
  },
  "language_info": {
   "codemirror_mode": {
    "name": "ipython",
    "version": 3
   },
   "file_extension": ".py",
   "mimetype": "text/x-python",
   "name": "python",
   "nbconvert_exporter": "python",
   "pygments_lexer": "ipython3",
   "version": "3.8.2"
  },
  "vscode": {
   "interpreter": {
    "hash": "e8d8d42a8f729872fc17dc6c613b8965788883a5ed2f18a08b24ecb8c800a303"
   }
  }
 },
 "nbformat": 4,
 "nbformat_minor": 1
}
