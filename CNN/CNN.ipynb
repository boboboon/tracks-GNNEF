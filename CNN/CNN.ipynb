{
  "cells": [
    {
      "cell_type": "code",
      "source": [
        " pip install awkward"
      ],
      "metadata": {
        "id": "ZdTAdkdjBJ29",
        "colab": {
          "base_uri": "https://localhost:8080/"
        },
        "outputId": "ad492428-b814-4ddf-e102-826da91a3fb1"
      },
      "id": "ZdTAdkdjBJ29",
      "execution_count": null,
      "outputs": [
        {
          "output_type": "stream",
          "name": "stdout",
          "text": [
            "Looking in indexes: https://pypi.org/simple, https://us-python.pkg.dev/colab-wheels/public/simple/\n",
            "Collecting awkward\n",
            "  Downloading awkward-1.8.0-cp37-cp37m-manylinux_2_12_x86_64.manylinux2010_x86_64.whl (11.7 MB)\n",
            "\u001b[K     |████████████████████████████████| 11.7 MB 23.4 MB/s \n",
            "\u001b[?25hRequirement already satisfied: numpy>=1.13.1 in /usr/local/lib/python3.7/dist-packages (from awkward) (1.21.6)\n",
            "Requirement already satisfied: setuptools in /usr/local/lib/python3.7/dist-packages (from awkward) (57.4.0)\n",
            "Installing collected packages: awkward\n",
            "Successfully installed awkward-1.8.0\n"
          ]
        }
      ]
    },
    {
      "cell_type": "code",
      "execution_count": null,
      "id": "074f42b6-8276-47f1-a618-028a5a94183f",
      "metadata": {
        "colab": {
          "base_uri": "https://localhost:8080/"
        },
        "id": "074f42b6-8276-47f1-a618-028a5a94183f",
        "outputId": "8baa9564-7da2-4ac1-98b8-33807eb6a39a"
      },
      "outputs": [
        {
          "output_type": "stream",
          "name": "stdout",
          "text": [
            "Drive already mounted at /content/drive; to attempt to forcibly remount, call drive.mount(\"/content/drive\", force_remount=True).\n"
          ]
        }
      ],
      "source": [
        "\n",
        "from network_lib import *"
      ]
    },
    {
      "cell_type": "code",
      "execution_count": null,
      "id": "a2375845-d1ba-408f-9ab8-e9b78fd17e0e",
      "metadata": {
        "id": "a2375845-d1ba-408f-9ab8-e9b78fd17e0e"
      },
      "outputs": [],
      "source": [
        "\n",
        "import numpy as np\n",
        "import tensorflow as tf\n",
        "import os\n",
        "\n"
      ]
    },
    {
      "cell_type": "code",
      "execution_count": null,
      "id": "fb2586c0-ba75-474e-9853-8acb042af4ed",
      "metadata": {
        "scrolled": true,
        "tags": [],
        "id": "fb2586c0-ba75-474e-9853-8acb042af4ed"
      },
      "outputs": [],
      "source": [
        "from tensorflow import keras\n",
        "model = keras.models.load_model('/PATH_TO_MODEL/muon/small_cnn_model36.h5')"
      ]
    },
    {
      "cell_type": "code",
      "source": [
        "tracks_name = 'NAME_FILE'\n",
        "file_num=7\n",
        "def make_pred(tracks_name,file_num):\n",
        "  \"\"\"predicts accuracy of CNN model \"\"\"\n",
        "  list_track= []\n",
        "\n",
        "  indir = f'/PATH_TO_CNN_IMAGES/CNN_txt_files_{file_num}/{tracks_name}/'\n",
        "  track_files = [name for name in os.listdir(indir) if os.path.isfile(os.path.join(indir, name))]\n",
        "  for track in track_files:\n",
        "    list_track.append(np.loadtxt(indir+track, delimiter = \",\"))\n",
        "  \n",
        "  track_array = np.array(list_track) \n",
        "\n",
        "\n",
        "  track_array = tf.convert_to_tensor(track_array, dtype=tf.int64)    \n",
        "  track_array = tf.expand_dims(track_array, 3)\n",
        "                      \n",
        "  preds = model.predict(track_array)\n",
        "  print(f'False tracks {tracks_name}.............{len(preds[np.where(preds[:,1] >=0.5)])}')\n",
        "  print(f'True tracks {tracks_name}............{len(preds[np.where(preds[:,0] >=0.5)])}')\n",
        "  \n",
        "  print(len(model.predict(track_array)), len(list_track),len(track_files))\n",
        "\n",
        "make_pred(tracks_name,file_num)"
      ],
      "metadata": {
        "id": "GDpmJBtUDn4F",
        "colab": {
          "base_uri": "https://localhost:8080/"
        },
        "outputId": "15109655-26c7-4bca-a4f5-2009dfdccf1d"
      },
      "id": "GDpmJBtUDn4F",
      "execution_count": null,
      "outputs": [
        {
          "output_type": "stream",
          "name": "stdout",
          "text": [
            "False tracks true_noise.............103\n",
            "True tracks true_noise............17\n",
            "120 120 120\n"
          ]
        }
      ]
    }
  ],
  "metadata": {
    "kernelspec": {
      "display_name": "Python 3 (ipykernel)",
      "language": "python",
      "name": "python3"
    },
    "language_info": {
      "codemirror_mode": {
        "name": "ipython",
        "version": 3
      },
      "file_extension": ".py",
      "mimetype": "text/x-python",
      "name": "python",
      "nbconvert_exporter": "python",
      "pygments_lexer": "ipython3",
      "version": "3.9.12"
    },
    "colab": {
      "name": "CNN.ipynb",
      "provenance": [],
      "collapsed_sections": []
    }
  },
  "nbformat": 4,
  "nbformat_minor": 5
}