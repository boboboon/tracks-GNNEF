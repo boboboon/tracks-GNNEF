{
  "nbformat": 4,
  "nbformat_minor": 0,
  "metadata": {
    "colab": {
      "name": "HoughTransforms.ipynb",
      "provenance": [],
      "collapsed_sections": []
    },
    "kernelspec": {
      "name": "python3",
      "display_name": "Python 3"
    },
    "language_info": {
      "name": "python"
    }
  },
  "cells": [
    {
      "cell_type": "code",
      "source": [
        "import torch\n",
        "def format_pytorch_version(version):\n",
        "  return version.split('+')[0]\n",
        "\n",
        "TORCH_version = torch.__version__\n",
        "TORCH = format_pytorch_version(TORCH_version)\n",
        "\n",
        "def format_cuda_version(version):\n",
        "  return 'cu' + version.replace('.', '')\n",
        "\n",
        "CUDA_version = torch.version.cuda\n",
        "CUDA = format_cuda_version(CUDA_version)\n",
        "\n",
        "!pip install torch-scatter     -f https://pytorch-geometric.com/whl/torch-{TORCH}+{CUDA}.html\n",
        "!pip install torch-sparse      -f https://pytorch-geometric.com/whl/torch-{TORCH}+{CUDA}.html\n",
        "!pip install torch-cluster     -f https://pytorch-geometric.com/whl/torch-{TORCH}+{CUDA}.html\n",
        "!pip install torch-spline-conv -f https://pytorch-geometric.com/whl/torch-{TORCH}+{CUDA}.html\n",
        "!pip install torch-geometric "
      ],
      "metadata": {
        "colab": {
          "base_uri": "https://localhost:8080/"
        },
        "id": "g-PsOM-t3o8I",
        "outputId": "4014c97f-2e51-48d0-b21c-9ea4a3639684"
      },
      "execution_count": null,
      "outputs": [
        {
          "output_type": "stream",
          "name": "stdout",
          "text": [
            "Looking in indexes: https://pypi.org/simple, https://us-python.pkg.dev/colab-wheels/public/simple/\n",
            "Looking in links: https://pytorch-geometric.com/whl/torch-1.12.0+cu113.html\n",
            "Collecting torch-scatter\n",
            "  Downloading https://data.pyg.org/whl/torch-1.12.0%2Bcu113/torch_scatter-2.0.9-cp37-cp37m-linux_x86_64.whl (7.9 MB)\n",
            "\u001b[K     |████████████████████████████████| 7.9 MB 5.3 MB/s \n",
            "\u001b[?25hInstalling collected packages: torch-scatter\n",
            "Successfully installed torch-scatter-2.0.9\n",
            "Looking in indexes: https://pypi.org/simple, https://us-python.pkg.dev/colab-wheels/public/simple/\n",
            "Looking in links: https://pytorch-geometric.com/whl/torch-1.12.0+cu113.html\n",
            "Collecting torch-sparse\n",
            "  Downloading https://data.pyg.org/whl/torch-1.12.0%2Bcu113/torch_sparse-0.6.14-cp37-cp37m-linux_x86_64.whl (3.5 MB)\n",
            "\u001b[K     |████████████████████████████████| 3.5 MB 4.9 MB/s \n",
            "\u001b[?25hRequirement already satisfied: scipy in /usr/local/lib/python3.7/dist-packages (from torch-sparse) (1.7.3)\n",
            "Requirement already satisfied: numpy<1.23.0,>=1.16.5 in /usr/local/lib/python3.7/dist-packages (from scipy->torch-sparse) (1.21.6)\n",
            "Installing collected packages: torch-sparse\n",
            "Successfully installed torch-sparse-0.6.14\n",
            "Looking in indexes: https://pypi.org/simple, https://us-python.pkg.dev/colab-wheels/public/simple/\n",
            "Looking in links: https://pytorch-geometric.com/whl/torch-1.12.0+cu113.html\n",
            "Collecting torch-cluster\n",
            "  Downloading https://data.pyg.org/whl/torch-1.12.0%2Bcu113/torch_cluster-1.6.0-cp37-cp37m-linux_x86_64.whl (2.4 MB)\n",
            "\u001b[K     |████████████████████████████████| 2.4 MB 5.0 MB/s \n",
            "\u001b[?25hInstalling collected packages: torch-cluster\n",
            "Successfully installed torch-cluster-1.6.0\n",
            "Looking in indexes: https://pypi.org/simple, https://us-python.pkg.dev/colab-wheels/public/simple/\n",
            "Looking in links: https://pytorch-geometric.com/whl/torch-1.12.0+cu113.html\n",
            "Collecting torch-spline-conv\n",
            "  Downloading https://data.pyg.org/whl/torch-1.12.0%2Bcu113/torch_spline_conv-1.2.1-cp37-cp37m-linux_x86_64.whl (709 kB)\n",
            "\u001b[K     |████████████████████████████████| 709 kB 4.9 MB/s \n",
            "\u001b[?25hInstalling collected packages: torch-spline-conv\n",
            "Successfully installed torch-spline-conv-1.2.1\n",
            "Looking in indexes: https://pypi.org/simple, https://us-python.pkg.dev/colab-wheels/public/simple/\n",
            "Collecting torch-geometric\n",
            "  Downloading torch_geometric-2.0.4.tar.gz (407 kB)\n",
            "\u001b[K     |████████████████████████████████| 407 kB 5.1 MB/s \n",
            "\u001b[?25hRequirement already satisfied: tqdm in /usr/local/lib/python3.7/dist-packages (from torch-geometric) (4.64.0)\n",
            "Requirement already satisfied: numpy in /usr/local/lib/python3.7/dist-packages (from torch-geometric) (1.21.6)\n",
            "Requirement already satisfied: scipy in /usr/local/lib/python3.7/dist-packages (from torch-geometric) (1.7.3)\n",
            "Requirement already satisfied: pandas in /usr/local/lib/python3.7/dist-packages (from torch-geometric) (1.3.5)\n",
            "Requirement already satisfied: jinja2 in /usr/local/lib/python3.7/dist-packages (from torch-geometric) (2.11.3)\n",
            "Requirement already satisfied: requests in /usr/local/lib/python3.7/dist-packages (from torch-geometric) (2.23.0)\n",
            "Requirement already satisfied: pyparsing in /usr/local/lib/python3.7/dist-packages (from torch-geometric) (3.0.9)\n",
            "Requirement already satisfied: scikit-learn in /usr/local/lib/python3.7/dist-packages (from torch-geometric) (1.0.2)\n",
            "Requirement already satisfied: MarkupSafe>=0.23 in /usr/local/lib/python3.7/dist-packages (from jinja2->torch-geometric) (2.0.1)\n",
            "Requirement already satisfied: pytz>=2017.3 in /usr/local/lib/python3.7/dist-packages (from pandas->torch-geometric) (2022.1)\n",
            "Requirement already satisfied: python-dateutil>=2.7.3 in /usr/local/lib/python3.7/dist-packages (from pandas->torch-geometric) (2.8.2)\n",
            "Requirement already satisfied: six>=1.5 in /usr/local/lib/python3.7/dist-packages (from python-dateutil>=2.7.3->pandas->torch-geometric) (1.15.0)\n",
            "Requirement already satisfied: chardet<4,>=3.0.2 in /usr/local/lib/python3.7/dist-packages (from requests->torch-geometric) (3.0.4)\n",
            "Requirement already satisfied: idna<3,>=2.5 in /usr/local/lib/python3.7/dist-packages (from requests->torch-geometric) (2.10)\n",
            "Requirement already satisfied: certifi>=2017.4.17 in /usr/local/lib/python3.7/dist-packages (from requests->torch-geometric) (2022.6.15)\n",
            "Requirement already satisfied: urllib3!=1.25.0,!=1.25.1,<1.26,>=1.21.1 in /usr/local/lib/python3.7/dist-packages (from requests->torch-geometric) (1.24.3)\n",
            "Requirement already satisfied: threadpoolctl>=2.0.0 in /usr/local/lib/python3.7/dist-packages (from scikit-learn->torch-geometric) (3.1.0)\n",
            "Requirement already satisfied: joblib>=0.11 in /usr/local/lib/python3.7/dist-packages (from scikit-learn->torch-geometric) (1.1.0)\n",
            "Building wheels for collected packages: torch-geometric\n",
            "  Building wheel for torch-geometric (setup.py) ... \u001b[?25l\u001b[?25hdone\n",
            "  Created wheel for torch-geometric: filename=torch_geometric-2.0.4-py3-none-any.whl size=616603 sha256=2ab2fa18e797ab4cc68535a6f56c5a837cd89ebf070d3ff573b18eaa82bf5014\n",
            "  Stored in directory: /root/.cache/pip/wheels/18/a6/a4/ca18c3051fcead866fe7b85700ee2240d883562a1bc70ce421\n",
            "Successfully built torch-geometric\n",
            "Installing collected packages: torch-geometric\n",
            "Successfully installed torch-geometric-2.0.4\n"
          ]
        }
      ]
    },
    {
      "cell_type": "code",
      "source": [
        "import numpy as np \n",
        "import pandas as pd\n",
        "import time\n",
        "import os\n",
        "import shutil\n",
        "import itertools \n",
        "import matplotlib.pyplot as plt\n",
        "\n",
        "\n",
        "\n",
        "\n",
        "\n",
        "from torch_geometric.data import Data, Dataset#,DataLoader\n",
        "from torch_geometric.loader import DataLoader\n",
        "from torch import Tensor\n",
        "import torch.nn as nn\n",
        "import torch.optim as optim\n",
        "\n",
        "import torch.nn.functional as F\n",
        "import torch_geometric.transforms as Tr\n",
        "from torch_geometric.nn import MessagePassing\n",
        "from torch_geometric.utils import to_networkx\n",
        "from torch.nn import Sequential as Seq, Linear, ReLU, Sigmoid\n",
        "from torch.optim.lr_scheduler import StepLR\n",
        "\n",
        "from collections import namedtuple\n",
        "\n"
      ],
      "metadata": {
        "id": "mRqajHhTcgTH"
      },
      "execution_count": null,
      "outputs": []
    },
    {
      "cell_type": "code",
      "source": [
        "#plot parameters\n",
        "FIGSIZE = (14,7)\n",
        "FIG_TITLE = 22\n",
        "FIG_AXIS = 14\n",
        "FIG_LEGEND = 12"
      ],
      "metadata": {
        "id": "WdyV1zvHdFcs"
      },
      "execution_count": null,
      "outputs": []
    },
    {
      "cell_type": "code",
      "source": [
        "class GraphDataset(Dataset):\n",
        "    def __init__(self,graph_files,file_name,transform=None, pre_transform=None):\n",
        "        super(GraphDataset,self).__init__()\n",
        "\n",
        "        self.graph_files = graph_files\n",
        "        self.file_name = file_name\n",
        "    \n",
        "    @property                 \n",
        "    def raw_file_names(self):\n",
        "        return self.graph_files\n",
        "\n",
        "    @property\n",
        "    def processed_file_names(self):\n",
        "        return []\n",
        "\n",
        "   \n",
        "        \n",
        "    def get(self, idx):\n",
        "          \n",
        "          data = torch.load(f'/PATH_TO_TEST/{self.file_name}' + f'data_{idx}.pt')\n",
        "          \n",
        "          \n",
        "          return data    \n",
        "          \n",
        "    def len(self):\n",
        "          \n",
        "          return len(self.graph_files)"
      ],
      "metadata": {
        "id": "yIGRRoXQdYKP"
      },
      "execution_count": null,
      "outputs": []
    },
    {
      "cell_type": "code",
      "source": [
        "home_dir = \"../\"   \n",
        "test ='GRAPH_FINAL_TEST_MASTER/'\n",
        "indir = '/PATH_TO_TEST/'\n",
        "    \n",
        "graph_files_test = np.array(os.listdir(indir + test))\n",
        "graph_files_test = [os.path.join(indir+test,file)\n",
        "                           for file in graph_files_test]\n",
        "test_set = GraphDataset(graph_files_test, test)\n"
      ],
      "metadata": {
        "id": "QrG-O88wdcIN"
      },
      "execution_count": null,
      "outputs": []
    },
    {
      "cell_type": "code",
      "source": [
        "event = 25\n",
        "plot_df = pd.DataFrame({'r':test_set.get(event).x[:,0], 'phi':test_set.get(event).x[:,1], 'z':test_set.get(event).x[:,2],\n",
        "                      'ita':test_set.get(event).x[:,3], 'x':test_set.get(event).x[:,4],'y':test_set.get(event).x[:,5]})"
      ],
      "metadata": {
        "id": "MBndqRCCc_aE"
      },
      "execution_count": null,
      "outputs": []
    },
    {
      "cell_type": "code",
      "source": [
        "true_8_0=np.loadtxt('/PATH_TO_FULL_TRACK_INDEX/true_track_final_06.txt', delimiter = \",\")\n",
        "true_7_0=np.loadtxt('/PATH_TO_FULL_TRACK_INDEX/true_track_final_05.txt', delimiter = \",\")\n",
        "true_6_0=np.loadtxt('/PATH_TO_FULL_TRACK_INDEX/true_track_final_04.txt', delimiter = \",\")\n",
        "true_5_0=np.loadtxt('/PATH_TO_FULL_TRACK_INDEX/true_track_final_03.txt', delimiter = \",\")\n",
        "true_4_0=np.loadtxt('/PATH_TO_FULL_TRACK_INDEX/true_track_final_02.txt', delimiter = \",\")\n",
        "true_3_0=np.loadtxt('/PATH_TO_FULL_TRACK_INDEX/true_track_final_01.txt', delimiter = \",\")\n",
        "true_2_0=np.loadtxt('/PATH_TO_FULL_TRACK_INDEX/true_track_final_00.txt', delimiter = \",\")\n"
      ],
      "metadata": {
        "id": "WxlqsiZle-U0"
      },
      "execution_count": null,
      "outputs": []
    },
    {
      "cell_type": "code",
      "source": [
        "IMG_SIZE = 37\n",
        "\n",
        "#loop through layers\n",
        "def hough_matrix(df,bins,img_size):\n",
        "  track_pic = np.zeros((img_size-1,img_size-1))   # at the end remove lat column and last row\n",
        "  for i in range(len(df)):\n",
        "    #temporary matrix \n",
        "    temp_pic = np.zeros((img_size,img_size)) \n",
        "    # calculate qA/pt\n",
        "    qa_pt = (phi0 - df.phi.values[i])/\tdf.r.values[i]\n",
        "    #update temporary matrix where qa/pt is in bin \n",
        "    for i in range(len(temp_pic)-1):\n",
        "      temp_pic[:,i][np.where((qa_pt<= bins[i]) & (qa_pt>= bins[i+1]))] = 1 \n",
        "\n",
        "    temp_pic = np.delete(temp_pic, len(temp_pic)-1, 1)  #delete last column\n",
        "    temp_pic = temp_pic[:-1]  #delete last row\n",
        "\n",
        "    #adding the matrices create the final image   \n",
        "    track_pic+=temp_pic\n",
        "  return track_pic"
      ],
      "metadata": {
        "id": "EdAilckio46l"
      },
      "execution_count": null,
      "outputs": []
    },
    {
      "cell_type": "code",
      "source": [
        "def get_bins(df,img_size):\n",
        "  len_df = len(df)\n",
        "  min_arr = np.zeros(len_df)\n",
        "  max_arr = np.zeros(len_df)\n",
        "  for i in range(len_df):\n",
        "      \n",
        "    qa_pt = (phi0 - df.phi.values[i])/\tdf.r.values[i]\n",
        "    min_arr[i] = min(qa_pt)\n",
        "    max_arr[i] = max(qa_pt)\n",
        "  return np.linspace(max(max_arr),min(min_arr),img_size)"
      ],
      "metadata": {
        "id": "IziI3GqmpwWb"
      },
      "execution_count": null,
      "outputs": []
    },
    {
      "cell_type": "code",
      "source": [
        "\n",
        "noise_size = 25\n",
        "def adding_noise(img_size,noise_size):\n",
        "  noise_array = np.random.randint(1,img_size,noise_size)\n",
        "  noise = np.zeros((img_size-1,img_size-1))\n",
        "  for elem in noise_array:\n",
        "    flip = np.random.randint(0,2)\n",
        "    if flip:\n",
        "      diagonal = np.fliplr(np.eye(img_size-1, k=elem)).T\n",
        "    else:\n",
        "      diagonal = np.eye(img_size-1, k=elem)\n",
        "\n",
        "    noise+=diagonal\n",
        "  return noise"
      ],
      "metadata": {
        "id": "PmnW_J_ILlDb"
      },
      "execution_count": null,
      "outputs": []
    },
    {
      "cell_type": "code",
      "source": [
        "times=[]"
      ],
      "metadata": {
        "id": "ml64T0bAQmrU"
      },
      "execution_count": null,
      "outputs": []
    },
    {
      "cell_type": "code",
      "source": [
        "# 873699289782551528   \n",
        "#create dataframe for one particle\n",
        "\n",
        "phi0 = np.linspace(2,-3,IMG_SIZE-1)\n",
        "tracks_name = 'true_noise'\n",
        "file_num=5\n",
        "true_file = true_8_0\n",
        "# noise_file = true3\n",
        "def hough_transform(phi0,tracks_name,file_num,img_size,add_noise = True):\n",
        "\n",
        "  track_list =[]\n",
        "  plot_idx =0\n",
        "\n",
        "  dir = f'/PATH_TO_CNN_IMAGES/CNN_txt_files_{file_num}/{tracks_name}'\n",
        "  if os.path.exists(dir):\n",
        "    shutil.rmtree(dir)\n",
        "  os.makedirs(dir)\n",
        "\n",
        "  \n",
        "  for pid in true_file:\n",
        "    test_t0 = time.time()\n",
        "    df8 = plot_df.iloc[pid]\n",
        "    bins8 = get_bins(df8,img_size)\n",
        "    track_pic8 = hough_matrix(df8,bins8,img_size)\n",
        "   \n",
        "    track_pic =   track_pic8.copy() \n",
        "    t = time.time()-test_t0\n",
        "    times.append(t)\n",
        " \n",
        "    if add_noise:\n",
        "      adding nosie\n",
        "     \n",
        "    \n",
        "      df5 = plot_df.iloc[noise_file[rand_idx5]]\n",
        "      bins5 = get_bins(df5,img_size)\n",
        "      track_pic5 = hough_matrix(df5,bins5,img_size)\n",
        "      track_pic = track_pic5+track_pic.copy()\n",
        "\n",
        "      noise = adding_noise(img_size,noise_size)\n",
        "      track_pic = track_pic.copy()+noise\n",
        "\n",
        "  \n",
        "   \n",
        "    np.savetxt(dir+f'/test_{plot_idx}.txt', track_pic, delimiter=',')\n",
        "    # plot every 10 \n",
        "    if plot_idx%10 == 0:\n",
        "      print(f'PLOT NUMBER {plot_idx}')\n",
        "      plt.subplot()\n",
        "      plt.imshow(track_pic)\n",
        "\n",
        "      plt.colorbar()\n",
        "\n",
        "      plt.show()\n",
        "    plot_idx+=1\n",
        "\n",
        "  print(f'tracks  = {plot_idx}')\n",
        "\n",
        "hough_transform(phi0,tracks_name,file_num, IMG_SIZE)\n"
      ],
      "metadata": {
        "id": "0b-zuIsWSo9n"
      },
      "execution_count": null,
      "outputs": []
    },
    {
      "cell_type": "code",
      "source": [
        "df = plot_df.iloc[true_8[0]]\n",
        "phi0_plot = np.round(np.linspace(0,35,8),2)\n",
        "phi0_plot2 = np.round(np.linspace(-1,-4,8),2)\n",
        "qa_pt_plot = np.round((phi0_plot - df.phi.values)/\tdf.r.values,2)\n",
        "fig,ax = plt.subplots(1,2,figsize=FIGSIZE)\n",
        "\n",
        "ax[0].scatter(df.phi,df.r,color='green')\n",
        "ax[0].set_title('One Particle Track',fontsize=FIG_TITLE)\n",
        "ax[0].set_xlabel('phi',fontsize=FIG_AXIS)\n",
        "ax[0].set_ylabel('r (mm)',fontsize=FIG_AXIS)\n",
        "imgs = ax[1].imshow(track_pic8)\n",
        "ax[1].set_xticks(phi0_plot)\n",
        "ax[1].set_xticklabels(phi0_plot2)\n",
        "ax[1].set_yticks(phi0_plot)\n",
        "ax[1].set_yticklabels(qa_pt_plot)\n",
        "\n",
        "ax[1].set_title('Hough Transfrom Particle Track',fontsize=FIG_TITLE)\n",
        "ax[1].set_xlabel('phi_0',fontsize=FIG_AXIS)\n",
        "ax[1].set_ylabel('q/p_t (GeV^-1)',fontsize=FIG_AXIS)\n",
        "\n",
        "plt.savefig('hough.pdf')\n",
        "plt.show()"
      ],
      "metadata": {
        "id": "9vAw2l91K3NY",
        "colab": {
          "base_uri": "https://localhost:8080/",
          "height": 468
        },
        "outputId": "246996ec-213e-4399-8964-97f1d8d16f11"
      },
      "execution_count": null,
      "outputs": [
        {
          "output_type": "display_data",
          "data": {
            "text/plain": [
              "<Figure size 1008x504 with 2 Axes>"
            ],
            "image/png": "[encoded data removed]"
          },
          "metadata": {
            "needs_background": "light"
          }
        }
      ]
    }
  ]
}